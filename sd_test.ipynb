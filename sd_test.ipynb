{
 "cells": [
  {
   "cell_type": "code",
   "execution_count": 1,
   "id": "4812917d",
   "metadata": {},
   "outputs": [
    {
     "name": "stdout",
     "output_type": "stream",
     "text": [
      "\n"
     ]
    },
    {
     "name": "stderr",
     "output_type": "stream",
     "text": [
      "[WDM] - ====== WebDriver manager ======\n",
      "INFO:WDM:====== WebDriver manager ======\n",
      "[WDM] - Current google-chrome version is 102.0.5005\n",
      "INFO:WDM:Current google-chrome version is 102.0.5005\n",
      "[WDM] - Get LATEST chromedriver version for 102.0.5005 google-chrome\n",
      "INFO:WDM:Get LATEST chromedriver version for 102.0.5005 google-chrome\n",
      "[WDM] - Driver [C:\\Users\\morroe1\\.wdm\\drivers\\chromedriver\\win32\\102.0.5005.61\\chromedriver.exe] found in cache\n",
      "INFO:WDM:Driver [C:\\Users\\morroe1\\.wdm\\drivers\\chromedriver\\win32\\102.0.5005.61\\chromedriver.exe] found in cache\n"
     ]
    }
   ],
   "source": [
    "from splinter import Browser\n",
    "from selenium import webdriver\n",
    "from bs4 import BeautifulSoup as soup\n",
    "from webdriver_manager.chrome import ChromeDriverManager\n",
    "from selenium.webdriver.common.by import By\n",
    "# import Action chains \n",
    "from selenium.webdriver.common.action_chains import ActionChains\n",
    "from selenium.webdriver.common.keys import Keys\n",
    "from selenium.webdriver.chrome.service import Service\n",
    "import regex as re\n",
    "import time\n",
    "import random\n",
    "\n",
    "# create webdriver object\n",
    "driver = webdriver.Chrome(service=Service(ChromeDriverManager().install()))\n",
    "driver.maximize_window()\n",
    "   \n",
    "# create action chain object\n",
    "action = ActionChains(driver)"
   ]
  },
  {
   "cell_type": "code",
   "execution_count": 2,
   "id": "28dbc4b3",
   "metadata": {},
   "outputs": [],
   "source": [
    "# navigate to website\n",
    "driver.get(\"https://www.aa.com/booking/find-flights\")\n",
    "time.sleep(random.uniform(3.072618165231841,5.9364916385))\n",
    "# driver.get(\"https://www.southwest.com/\")\n",
    "# time.sleep(random.uniform(3.072618165231841,5.9364916385))"
   ]
  },
  {
   "cell_type": "code",
   "execution_count": 3,
   "id": "531e9066",
   "metadata": {},
   "outputs": [],
   "source": [
    "from_airport = \"SNA\"\n",
    "to_airport = \"DFW\""
   ]
  },
  {
   "cell_type": "code",
   "execution_count": 4,
   "id": "53968425",
   "metadata": {},
   "outputs": [],
   "source": [
    "depart_date = \"06/24/2022\"\n",
    "return_date = \"06/26/2022\""
   ]
  },
  {
   "cell_type": "code",
   "execution_count": 5,
   "id": "b3a4d07b",
   "metadata": {},
   "outputs": [],
   "source": [
    "def button_press(action):\n",
    "    if action == \"keystroke\":\n",
    "        return random.uniform(.111315816564,.29978136531)\n",
    "    elif action == \"enter_search\":\n",
    "        return random.uniform(34.6551845131843, 37.3189651876)\n",
    "    else :\n",
    "        return random.uniform(.3098741610684,.5098135130)"
   ]
  },
  {
   "cell_type": "code",
   "execution_count": 6,
   "id": "d6d715eb",
   "metadata": {},
   "outputs": [],
   "source": [
    "def set_time_of_day(element):\n",
    "    \n",
    "    # Select the element\n",
    "    action.move_to_element(element).perform()\n",
    "    time.sleep(button_press(0))\n",
    "    action.click(element).perform()\n",
    "    time.sleep(button_press(0))\n",
    "\n",
    "#     # Move down to \"Early Evening\"\n",
    "#     for x in range(0,4):\n",
    "#         action.send_keys(Keys.DOWN)\n",
    "#         time.sleep(button_press(\"keystroke\"))\n",
    "        \n",
    "    # move up to \"All Day\"\n",
    "    action.send_keys(Keys.UP)\n",
    "    time.sleep(button_press(\"keystroke\"))\n",
    "\n",
    "    action.click(element).perform()\n",
    "    time.sleep(button_press(0))"
   ]
  },
  {
   "cell_type": "code",
   "execution_count": 7,
   "id": "832df84a",
   "metadata": {},
   "outputs": [],
   "source": [
    "def enter_airport(airport,element):\n",
    "    action.move_to_element(element).perform()\n",
    "    time.sleep(button_press(0))\n",
    "\n",
    "    action.click(element).perform()\n",
    "    time.sleep(button_press(0))\n",
    "\n",
    "    for x in range(0,3):\n",
    "        action.send_keys(Keys.BACKSPACE).perform()\n",
    "        time.sleep(button_press(\"keystroke\"))\n",
    "\n",
    "    for letter in airport:\n",
    "        action.send_keys(letter).perform()\n",
    "        time.sleep(button_press(\"keystroke\"))\n",
    "\n",
    "    time.sleep(button_press(0))  "
   ]
  },
  {
   "cell_type": "code",
   "execution_count": 8,
   "id": "38a9c7b4",
   "metadata": {},
   "outputs": [],
   "source": [
    "def enter_dates(date,element):\n",
    "    action.move_to_element(element).perform()\n",
    "    time.sleep(button_press(0))\n",
    "    \n",
    "    action.click(element).perform()\n",
    "    time.sleep(button_press(0))\n",
    "\n",
    "    for letter in date:\n",
    "        action.send_keys(letter).perform()\n",
    "        time.sleep(button_press(\"keystroke\"))\n",
    "        \n",
    "    time.sleep(button_press(0))  "
   ]
  },
  {
   "cell_type": "code",
   "execution_count": 9,
   "id": "a595dc77",
   "metadata": {},
   "outputs": [],
   "source": [
    "# Set Time of Day for Departure and Return\n",
    "set_time_of_day(driver.find_element(by=By.XPATH,value='//*[@id=\"segments0.travelTime\"]'))\n",
    "set_time_of_day(driver.find_element(by=By.XPATH,value='//*[@id=\"segments1.travelTime\"]'))"
   ]
  },
  {
   "cell_type": "code",
   "execution_count": 10,
   "id": "5e2d8ff0",
   "metadata": {},
   "outputs": [],
   "source": [
    "# Set the travel dates\n",
    "enter_dates(depart_date,driver.find_element(by=By.XPATH,value='//*[@id=\"segments0.travelDate\"]'))\n",
    "enter_dates(return_date,driver.find_element(by=By.XPATH,value='//*[@id=\"segments1.travelDate\"]'))"
   ]
  },
  {
   "cell_type": "code",
   "execution_count": 11,
   "id": "4514dcfe",
   "metadata": {},
   "outputs": [],
   "source": [
    "# Set the airports\n",
    "enter_airport(from_airport,driver.find_element(by=By.XPATH,value=('//*[@id=\"segments0.origin\"]')))\n",
    "enter_airport(to_airport,driver.find_element(by=By.XPATH,value=('//*[@id=\"segments0.destination\"]')))"
   ]
  },
  {
   "cell_type": "code",
   "execution_count": null,
   "id": "f15ae711",
   "metadata": {},
   "outputs": [],
   "source": [
    "# Hitting the ENTER key while still in the airports field will execute a search\n",
    "action.send_keys(Keys.ENTER).perform()\n",
    "time.sleep(button_press(\"enter_search\"))"
   ]
  },
  {
   "cell_type": "code",
   "execution_count": null,
   "id": "636e7272",
   "metadata": {},
   "outputs": [],
   "source": [
    "# Get the html from the page\n",
    "html = driver.page_source\n",
    "html_soup = soup(html,'html.parser')"
   ]
  },
  {
   "cell_type": "code",
   "execution_count": null,
   "id": "d095e1a5",
   "metadata": {},
   "outputs": [],
   "source": [
    "# Identifying the list elements that contain flight and price information\n",
    "list_elements = html_soup.find_all(\"li\",id=re.compile(\"slice0Flight[0-9]+\"))\n",
    "\n",
    "# i = 0\n",
    "# lowest_fare = 2**15\n",
    "# lowest_fare_element = []\n",
    "# for x in list_elements:\n",
    "#     list_elements[i] = re.findall(\"<li.*?>\",str(x.prettify()))[0]\n",
    "#     new_lowest_fare = re.findall(\"data-lowestfare=\\\".*?\\\"\",list_elements[i])[0]\n",
    "#     new_lowest_fare = float(re.findall(\"[0-9]+\",new_lowest_fare)[0])\n",
    "#     if new_lowest_fare < lowest_fare:\n",
    "#         lowest_fare = new_lowest_fare\n",
    "#         lowest_fare_element.append(x)\n",
    "# #     print(f\"{i}: {list_elements[i]}\")\n",
    "# #     print(lowest_fare_element)\n",
    "#     i += 1\n",
    "\n",
    "# # Filter to select the shortest trip duration\n",
    "# i = 0\n",
    "# shortest_trip = 2**15\n",
    "# for x in lowest_fare_element:\n",
    "#     lowest_fare_element[i] = re.findall(\"<li.*?>\",str(x.prettify()))[0]\n",
    "#     new_shortest_trip = re.findall(\"data-triptime=\\\".*?\\\"\",lowest_fare_element[i])[0]\n",
    "#     new_shortest_trip = float(re.findall(\"[0-9]+\",new_shortest_trip)[0])\n",
    "#     if new_shortest_trip < shortest_trip:\n",
    "#         shortest_trip = new_shortest_trip\n",
    "# #     print(lowest_fare_element[i])\n",
    "#     print(shortest_trip)\n",
    "    \n",
    "i = 0\n",
    "lowest_fare = 2**15\n",
    "for x in list_elements:\n",
    "    x = re.findall(\"<li.*?>\",str(x.prettify()))[0]\n",
    "    new_lowest_fare = re.findall(\"data-lowestfare=\\\".*?\\\"\",x)[0]\n",
    "    new_lowest_fare = float(re.findall(\"[0-9]+\",new_lowest_fare)[0])\n",
    "    if new_lowest_fare < lowest_fare:\n",
    "        lowest_fare = new_lowest_fare\n",
    "        lowest_fare_element = list_elements[i]\n",
    "#     print(f\"{i}: {list_elements[i]}\")\n",
    "    i += 1\n",
    "# print(lowest_fare_element)\n",
    "\n",
    "lowest_fare_element = re.findall(\"<button.*?MainCabin.*?>\",str(lowest_fare_element.prettify()))[0]\n",
    "# print(lowest_fare_element)\n",
    "\n",
    "lowest_fare_id = re.findall(\"id=\\\"slice\\dFlight[0-9]+MainCabin\\\"\",lowest_fare_element)[0]\n",
    "# print(lowest_fare_id)\n",
    "lowest_fare_id = f\"//*[@{lowest_fare_id}]\"\n",
    "# print(lowest_fare_id)\n",
    "\n",
    "lowest_fare_element = driver.find_element(\n",
    "    by=By.XPATH,\n",
    "    value=lowest_fare_id\n",
    ")\n",
    "print(lowest_fare_element)"
   ]
  },
  {
   "cell_type": "code",
   "execution_count": null,
   "id": "2a85e6ef",
   "metadata": {},
   "outputs": [],
   "source": [
    "# sort the results by price, so that the lowest price is no longer hidden\n",
    "sort_menu_element = driver.find_element(By.XPATH,value='//*[@id=\"searchResultsSortOptions\"]')\n",
    "action.move_to_element(sort_menu_element).perform()\n",
    "time.sleep(button_press(0))\n",
    "\n",
    "action.click(sort_menu_element).perform()\n",
    "time.sleep(button_press(0))\n",
    "\n",
    "# Move down to \"Price (low to high)\"\n",
    "for x in range(0,2):\n",
    "    action.send_keys(Keys.DOWN)\n",
    "    time.sleep(button_press(\"keystroke\"))\n",
    "\n",
    "action.click(sort_menu_element).perform()\n",
    "time.sleep(button_press(0))\n",
    "    \n",
    "# Click the button for the lowest flight option\n",
    "action.move_to_element(lowest_fare_element).perform()\n",
    "time.sleep(button_press(0))\n",
    "\n",
    "action.click(lowest_fare_element).perform()\n",
    "time.sleep(button_press(0))"
   ]
  },
  {
   "cell_type": "code",
   "execution_count": null,
   "id": "23050aab",
   "metadata": {},
   "outputs": [],
   "source": [
    "# Identifying the list elements that contain flight and price information for return flights\n",
    "# Get the html from the page\n",
    "html_return = driver.page_source\n",
    "html_soup_return = soup(html_return,'html.parser')\n",
    "\n",
    "return_elements = html_soup_return.find_all(\"li\",id=re.compile(\"slice1Flight\\d\"))\n",
    "\n",
    "i = 0\n",
    "for x in return_elements:\n",
    "#     list_elements[i] = re.search(\"<li\\s*>\\w\",str(x.prettify()))\n",
    "    return_elements[i] = re.findall(\"<li.*?>\",str(x.prettify()))[0]\n",
    "    print(f\"{i}: {return_elements[i]}\")\n",
    "    i += 1"
   ]
  },
  {
   "cell_type": "code",
   "execution_count": null,
   "id": "f1c0df44",
   "metadata": {},
   "outputs": [],
   "source": [
    "#This tool solely used in early dev for identifying html elemnts that contain information\n",
    "\n",
    "\n",
    "# button_elements = html_soup.findAll('button')\n",
    "# i = 0\n",
    "# for x in button_elements:\n",
    "#     print(f\"{i}: {x}\")\n",
    "#     i += 1"
   ]
  },
  {
   "cell_type": "code",
   "execution_count": null,
   "id": "49b93ac5",
   "metadata": {},
   "outputs": [],
   "source": [
    "# driver.close()"
   ]
  },
  {
   "cell_type": "code",
   "execution_count": null,
   "id": "68769be3",
   "metadata": {},
   "outputs": [],
   "source": []
  }
 ],
 "metadata": {
  "kernelspec": {
   "display_name": "PythonData",
   "language": "python",
   "name": "pythondata"
  },
  "language_info": {
   "codemirror_mode": {
    "name": "ipython",
    "version": 3
   },
   "file_extension": ".py",
   "mimetype": "text/x-python",
   "name": "python",
   "nbconvert_exporter": "python",
   "pygments_lexer": "ipython3",
   "version": "3.7.11"
  }
 },
 "nbformat": 4,
 "nbformat_minor": 5
}
