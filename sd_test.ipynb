{
 "cells": [
  {
   "cell_type": "code",
   "execution_count": 1,
   "id": "ce993249",
   "metadata": {},
   "outputs": [
    {
     "name": "stdout",
     "output_type": "stream",
     "text": [
      "\n"
     ]
    },
    {
     "name": "stderr",
     "output_type": "stream",
     "text": [
      "[WDM] - ====== WebDriver manager ======\n",
      "INFO:WDM:====== WebDriver manager ======\n",
      "[WDM] - Current google-chrome version is 102.0.5005\n",
      "INFO:WDM:Current google-chrome version is 102.0.5005\n",
      "[WDM] - Get LATEST chromedriver version for 102.0.5005 google-chrome\n",
      "INFO:WDM:Get LATEST chromedriver version for 102.0.5005 google-chrome\n",
      "[WDM] - Driver [C:\\Users\\morroe1\\.wdm\\drivers\\chromedriver\\win32\\102.0.5005.61\\chromedriver.exe] found in cache\n",
      "INFO:WDM:Driver [C:\\Users\\morroe1\\.wdm\\drivers\\chromedriver\\win32\\102.0.5005.61\\chromedriver.exe] found in cache\n"
     ]
    }
   ],
   "source": [
    "from splinter import Browser\n",
    "from selenium import webdriver\n",
    "from bs4 import BeautifulSoup as soup\n",
    "from webdriver_manager.chrome import ChromeDriverManager\n",
    "from selenium.webdriver.common.by import By\n",
    "# import Action chains \n",
    "from selenium.webdriver.common.action_chains import ActionChains\n",
    "from selenium.webdriver.common.keys import Keys\n",
    "from selenium.webdriver.chrome.service import Service\n",
    "import time\n",
    "import random\n",
    "\n",
    "# create webdriver object\n",
    "driver = webdriver.Chrome(service=Service(ChromeDriverManager().install()))\n",
    "driver.maximize_window()\n",
    "   \n",
    "# create action chain object\n",
    "action = ActionChains(driver)"
   ]
  },
  {
   "cell_type": "code",
   "execution_count": 2,
   "id": "7f7131c2",
   "metadata": {},
   "outputs": [],
   "source": [
    "# navigate to website\n",
    "driver.get(\"https://www.aa.com/booking/find-flights\")\n",
    "time.sleep(random.uniform(3.072618165231841,5.9364916385))\n",
    "# driver.get(\"https://www.southwest.com/\")\n",
    "# time.sleep(random.uniform(3.072618165231841,5.9364916385))"
   ]
  },
  {
   "cell_type": "code",
   "execution_count": 3,
   "id": "c5fbb9cd",
   "metadata": {},
   "outputs": [],
   "source": [
    "from_airport = \"SNA\"\n",
    "to_airport = \"DFW\""
   ]
  },
  {
   "cell_type": "code",
   "execution_count": 4,
   "id": "99fd8698",
   "metadata": {},
   "outputs": [],
   "source": [
    "depart_date = \"06/24/2022\"\n",
    "return_date = \"06/24/2022\""
   ]
  },
  {
   "cell_type": "code",
   "execution_count": 5,
   "id": "327955ff",
   "metadata": {},
   "outputs": [],
   "source": [
    "def button_press(action):\n",
    "    if action == \"keystroke\":\n",
    "        return random.uniform(.111315816564,.29978136531)\n",
    "    else :\n",
    "        return random.uniform(.3698741610684,.5998135130)"
   ]
  },
  {
   "cell_type": "code",
   "execution_count": 6,
   "id": "371d4a73",
   "metadata": {},
   "outputs": [],
   "source": [
    "def set_time_of_day(element):\n",
    "    \n",
    "    # Select the element\n",
    "    action.move_to_element(element).perform()\n",
    "    time.sleep(button_press(0))\n",
    "    action.click(element).perform()\n",
    "    time.sleep(button_press(0))\n",
    "\n",
    "    # Move down to \"Early Evening\"\n",
    "    for x in range(0,4):\n",
    "        action.send_keys(Keys.DOWN)\n",
    "        time.sleep(button_press(\"keystroke\"))\n",
    "\n",
    "    action.click(element).perform()\n",
    "    time.sleep(button_press(0))"
   ]
  },
  {
   "cell_type": "code",
   "execution_count": 7,
   "id": "ffafb399",
   "metadata": {},
   "outputs": [],
   "source": [
    "def enter_airport(airport,element):\n",
    "    action.move_to_element(element).perform()\n",
    "    time.sleep(button_press(0))\n",
    "\n",
    "    action.click(element).perform()\n",
    "    time.sleep(button_press(0))\n",
    "\n",
    "    for x in range(0,3):\n",
    "        action.send_keys(Keys.BACKSPACE).perform()\n",
    "        time.sleep(button_press(\"keystroke\"))\n",
    "\n",
    "    for letter in airport:\n",
    "        action.send_keys(letter).perform()\n",
    "        time.sleep(button_press(\"keystroke\"))\n",
    "\n",
    "    time.sleep(button_press(0))  "
   ]
  },
  {
   "cell_type": "code",
   "execution_count": 8,
   "id": "2704eaa0",
   "metadata": {},
   "outputs": [],
   "source": [
    "def enter_dates(date,element):\n",
    "    action.move_to_element(element).perform()\n",
    "    time.sleep(button_press(0))\n",
    "    \n",
    "    action.click(element).perform()\n",
    "    time.sleep(button_press(0))\n",
    "\n",
    "    for letter in date:\n",
    "        action.send_keys(letter).perform()\n",
    "        time.sleep(button_press(\"keystroke\"))\n",
    "        \n",
    "    time.sleep(button_press(0))  "
   ]
  },
  {
   "cell_type": "code",
   "execution_count": 9,
   "id": "293b409e",
   "metadata": {},
   "outputs": [],
   "source": [
    "# Set Time of Day for Departure and Return\n",
    "set_time_of_day(driver.find_element(by=By.XPATH,value='//*[@id=\"segments0.travelTime\"]'))\n",
    "set_time_of_day(driver.find_element(by=By.XPATH,value='//*[@id=\"segments1.travelTime\"]'))"
   ]
  },
  {
   "cell_type": "code",
   "execution_count": 11,
   "id": "38354baa",
   "metadata": {},
   "outputs": [],
   "source": [
    "# Set the travel dates\n",
    "enter_dates(depart_date,driver.find_element(by=By.XPATH,value='//*[@id=\"segments0.travelDate\"]'))\n",
    "enter_dates(return_date,driver.find_element(by=By.XPATH,value='//*[@id=\"segments1.travelDate\"]'))"
   ]
  },
  {
   "cell_type": "code",
   "execution_count": 13,
   "id": "394b93ee",
   "metadata": {},
   "outputs": [],
   "source": [
    "# Set the airports\n",
    "enter_airport(from_airport,driver.find_element(by=By.XPATH,value=('//*[@id=\"segments0.origin\"]')))\n",
    "enter_airport(to_airport,driver.find_element(by=By.XPATH,value=('//*[@id=\"segments0.destination\"]')))\n",
    "\n",
    "action.send_keys(Keys.ENTER).perform()"
   ]
  },
  {
   "cell_type": "code",
   "execution_count": null,
   "id": "db229895",
   "metadata": {},
   "outputs": [],
   "source": [
    "# Populate the \"TO\" field\n",
    "to_element = driver.find_element(by=By.XPATH,value=('//*[@id=\"segments0.destination\"]'))\n",
    "\n",
    "action.move_to_element(to_element).perform()\n",
    "time.sleep(button_press(0))\n",
    "\n",
    "action.click(to_element).perform()\n",
    "time.sleep(button_press(0))\n",
    "\n",
    "for x in range(0,3):\n",
    "    action.send_keys(Keys.BACKSPACE).perform()\n",
    "    time.sleep(button_press(\"keystroke\"))\n",
    "\n",
    "for letter in to_airport:\n",
    "    action.send_keys(letter).perform()\n",
    "    time.sleep(button_press(\"keystroke\"))\n",
    "\n",
    "time.sleep(button_press(0)) "
   ]
  },
  {
   "cell_type": "code",
   "execution_count": null,
   "id": "7b27a2a6",
   "metadata": {},
   "outputs": [],
   "source": []
  },
  {
   "cell_type": "code",
   "execution_count": null,
   "id": "a8bfbfc0",
   "metadata": {},
   "outputs": [],
   "source": []
  },
  {
   "cell_type": "code",
   "execution_count": null,
   "id": "0c79c4c3",
   "metadata": {},
   "outputs": [],
   "source": []
  },
  {
   "cell_type": "code",
   "execution_count": null,
   "id": "eafc7605",
   "metadata": {},
   "outputs": [],
   "source": []
  },
  {
   "cell_type": "code",
   "execution_count": null,
   "id": "2f9b9eb1",
   "metadata": {},
   "outputs": [],
   "source": [
    "# AA\n",
    "submit_button = driver.find_element_by_xpath('//*[@id=\"flightSearchForm.button.reSubmit\"]')\n",
    "submit_button\n",
    "\n",
    "# Southwest\n",
    "# submit_button = driver.find_element(by=By.XPATH,value='//*[@id=\"LandingAirBookingSearchForm_submit-button\"]')\n",
    "# submit_button\n",
    "# fare_calendar = driver.find_element(by=By.XPATH,value='//*[@id=\"TabbedArea_4-panel-0\"]/div/div/div/form/ul/li[2]/a')\n",
    "# fare_calendar\n"
   ]
  },
  {
   "cell_type": "code",
   "execution_count": null,
   "id": "0924ed1b",
   "metadata": {},
   "outputs": [],
   "source": [
    "# Execute a button push\n",
    "action.move_to_element(submit_button).perform()\n",
    "action.click(submit_button).perform()\n",
    "\n",
    "# action = ActionChains(driver)\n",
    "# action.move_to_element(fare_calendar).perform()\n",
    "# action.click(fare_calendar).perform()"
   ]
  },
  {
   "cell_type": "code",
   "execution_count": null,
   "id": "05498667",
   "metadata": {},
   "outputs": [],
   "source": []
  },
  {
   "cell_type": "code",
   "execution_count": null,
   "id": "3fe75b42",
   "metadata": {},
   "outputs": [],
   "source": [
    "#This tool solely used in early dev for identifying buttons\n",
    "html = driver.page_source\n",
    "html_soup = soup(html,'html.parser')\n",
    "\n",
    "button_elements = html_soup.findAll('button')\n",
    "i = 0\n",
    "for x in button_elements:\n",
    "    print(f\"{i}: {x}\")\n",
    "    i += 1"
   ]
  },
  {
   "cell_type": "code",
   "execution_count": null,
   "id": "766ccba4",
   "metadata": {},
   "outputs": [],
   "source": [
    "driver.close()"
   ]
  }
 ],
 "metadata": {
  "kernelspec": {
   "display_name": "PythonData",
   "language": "python",
   "name": "pythondata"
  },
  "language_info": {
   "codemirror_mode": {
    "name": "ipython",
    "version": 3
   },
   "file_extension": ".py",
   "mimetype": "text/x-python",
   "name": "python",
   "nbconvert_exporter": "python",
   "pygments_lexer": "ipython3",
   "version": "3.7.11"
  }
 },
 "nbformat": 4,
 "nbformat_minor": 5
}
