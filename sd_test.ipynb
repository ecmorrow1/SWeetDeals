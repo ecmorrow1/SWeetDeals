{
 "cells": [
  {
   "cell_type": "code",
   "execution_count": 1,
   "id": "0510a3a1",
   "metadata": {},
   "outputs": [
    {
     "name": "stdout",
     "output_type": "stream",
     "text": [
      "\n"
     ]
    },
    {
     "name": "stderr",
     "output_type": "stream",
     "text": [
      "[WDM] - ====== WebDriver manager ======\n",
      "INFO:WDM:====== WebDriver manager ======\n",
      "[WDM] - Current google-chrome version is 102.0.5005\n",
      "INFO:WDM:Current google-chrome version is 102.0.5005\n",
      "[WDM] - Get LATEST chromedriver version for 102.0.5005 google-chrome\n",
      "INFO:WDM:Get LATEST chromedriver version for 102.0.5005 google-chrome\n",
      "[WDM] - Driver [C:\\Users\\morroe1\\.wdm\\drivers\\chromedriver\\win32\\102.0.5005.61\\chromedriver.exe] found in cache\n",
      "INFO:WDM:Driver [C:\\Users\\morroe1\\.wdm\\drivers\\chromedriver\\win32\\102.0.5005.61\\chromedriver.exe] found in cache\n"
     ]
    }
   ],
   "source": [
    "from splinter import Browser\n",
    "from selenium import webdriver\n",
    "from bs4 import BeautifulSoup as soup\n",
    "from webdriver_manager.chrome import ChromeDriverManager\n",
    "from selenium.webdriver.common.by import By\n",
    "# import Action chains \n",
    "from selenium.webdriver.common.action_chains import ActionChains\n",
    "from selenium.webdriver.common.keys import Keys\n",
    "from selenium.webdriver.chrome.service import Service\n",
    "import regex as re\n",
    "import time\n",
    "import random\n",
    "\n",
    "# create webdriver object\n",
    "driver = webdriver.Chrome(service=Service(ChromeDriverManager().install()))\n",
    "driver.maximize_window()\n",
    "   \n",
    "# create action chain object\n",
    "action = ActionChains(driver)"
   ]
  },
  {
   "cell_type": "code",
   "execution_count": 2,
   "id": "52cfcc76",
   "metadata": {},
   "outputs": [],
   "source": [
    "# navigate to website\n",
    "driver.get(\"https://www.aa.com/booking/find-flights\")\n",
    "time.sleep(random.uniform(3.072618165231841,5.9364916385))\n",
    "# driver.get(\"https://www.southwest.com/\")\n",
    "# time.sleep(random.uniform(3.072618165231841,5.9364916385))"
   ]
  },
  {
   "cell_type": "code",
   "execution_count": 3,
   "id": "72f34be3",
   "metadata": {},
   "outputs": [],
   "source": [
    "from_airport = \"SNA\"\n",
    "to_airport = \"DFW\""
   ]
  },
  {
   "cell_type": "code",
   "execution_count": 4,
   "id": "ab0caaab",
   "metadata": {},
   "outputs": [],
   "source": [
    "depart_date = \"06/24/2022\"\n",
    "return_date = \"06/26/2022\""
   ]
  },
  {
   "cell_type": "code",
   "execution_count": 5,
   "id": "c2add5c5",
   "metadata": {},
   "outputs": [],
   "source": [
    "def button_press(action):\n",
    "    if action == \"keystroke\":\n",
    "        return random.uniform(.111315816564,.29978136531)\n",
    "    elif action == \"enter_search\":\n",
    "        return random.uniform(34.6551845131843, 37.3189651876)\n",
    "    else :\n",
    "        return random.uniform(.3098741610684,.5098135130)"
   ]
  },
  {
   "cell_type": "code",
   "execution_count": 6,
   "id": "1a7f97e2",
   "metadata": {},
   "outputs": [],
   "source": [
    "def set_time_of_day(element):\n",
    "    \n",
    "    # Select the element\n",
    "    action.move_to_element(element).perform()\n",
    "    time.sleep(button_press(0))\n",
    "    action.click(element).perform()\n",
    "    time.sleep(button_press(0))\n",
    "\n",
    "#     # Move down to \"Early Evening\"\n",
    "#     for x in range(0,4):\n",
    "#         action.send_keys(Keys.DOWN)\n",
    "#         time.sleep(button_press(\"keystroke\"))\n",
    "        \n",
    "    # move up to \"All Day\"\n",
    "    action.send_keys(Keys.UP)\n",
    "    time.sleep(button_press(\"keystroke\"))\n",
    "\n",
    "    action.click(element).perform()\n",
    "    time.sleep(button_press(0))"
   ]
  },
  {
   "cell_type": "code",
   "execution_count": 7,
   "id": "52cd83b9",
   "metadata": {},
   "outputs": [],
   "source": [
    "def enter_airport(airport,element):\n",
    "    action.move_to_element(element).perform()\n",
    "    time.sleep(button_press(0))\n",
    "\n",
    "    action.click(element).perform()\n",
    "    time.sleep(button_press(0))\n",
    "\n",
    "    for x in range(0,3):\n",
    "        action.send_keys(Keys.BACKSPACE).perform()\n",
    "        time.sleep(button_press(\"keystroke\"))\n",
    "\n",
    "    for letter in airport:\n",
    "        action.send_keys(letter).perform()\n",
    "        time.sleep(button_press(\"keystroke\"))\n",
    "\n",
    "    time.sleep(button_press(0))  "
   ]
  },
  {
   "cell_type": "code",
   "execution_count": 8,
   "id": "f9e21e6b",
   "metadata": {},
   "outputs": [],
   "source": [
    "def enter_dates(date,element):\n",
    "    action.move_to_element(element).perform()\n",
    "    time.sleep(button_press(0))\n",
    "    \n",
    "    action.click(element).perform()\n",
    "    time.sleep(button_press(0))\n",
    "\n",
    "    for letter in date:\n",
    "        action.send_keys(letter).perform()\n",
    "        time.sleep(button_press(\"keystroke\"))\n",
    "        \n",
    "    time.sleep(button_press(0))  "
   ]
  },
  {
   "cell_type": "code",
   "execution_count": 9,
   "id": "095db128",
   "metadata": {},
   "outputs": [],
   "source": [
    "# Set Time of Day for Departure and Return\n",
    "set_time_of_day(driver.find_element(by=By.XPATH,value='//*[@id=\"segments0.travelTime\"]'))\n",
    "set_time_of_day(driver.find_element(by=By.XPATH,value='//*[@id=\"segments1.travelTime\"]'))"
   ]
  },
  {
   "cell_type": "code",
   "execution_count": 10,
   "id": "9fde7dfa",
   "metadata": {},
   "outputs": [],
   "source": [
    "# Set the travel dates\n",
    "enter_dates(depart_date,driver.find_element(by=By.XPATH,value='//*[@id=\"segments0.travelDate\"]'))\n",
    "enter_dates(return_date,driver.find_element(by=By.XPATH,value='//*[@id=\"segments1.travelDate\"]'))"
   ]
  },
  {
   "cell_type": "code",
   "execution_count": 11,
   "id": "74b68900",
   "metadata": {},
   "outputs": [],
   "source": [
    "# Set the airports\n",
    "enter_airport(from_airport,driver.find_element(by=By.XPATH,value=('//*[@id=\"segments0.origin\"]')))\n",
    "enter_airport(to_airport,driver.find_element(by=By.XPATH,value=('//*[@id=\"segments0.destination\"]')))"
   ]
  },
  {
   "cell_type": "code",
   "execution_count": 12,
   "id": "da45a63c",
   "metadata": {},
   "outputs": [],
   "source": [
    "# Hitting the ENTER key while still in the airports field will execute a search\n",
    "action.send_keys(Keys.ENTER).perform()\n",
    "time.sleep(button_press(\"enter_search\"))"
   ]
  },
  {
   "cell_type": "code",
   "execution_count": 13,
   "id": "0d3d6673",
   "metadata": {},
   "outputs": [],
   "source": [
    "# Get the html from the page\n",
    "html = driver.page_source\n",
    "html_soup = soup(html,'html.parser')"
   ]
  },
  {
   "cell_type": "code",
   "execution_count": 14,
   "id": "5b74b00d",
   "metadata": {},
   "outputs": [
    {
     "name": "stdout",
     "output_type": "stream",
     "text": [
      "<selenium.webdriver.remote.webelement.WebElement (session=\"4b3aec5844438e08e2f0ec2a2db1bf78\", element=\"f82ae3bb-68e4-44c4-8df7-a79c8a9d29df\")>\n"
     ]
    }
   ],
   "source": [
    "# Identifying the list elements that contain flight and price information\n",
    "list_elements = html_soup.find_all(\"li\",id=re.compile(\"slice0Flight[0-9]+\"))\n",
    "\n",
    "# i = 0\n",
    "# lowest_fare = 2**15\n",
    "# lowest_fare_element = []\n",
    "# for x in list_elements:\n",
    "#     list_elements[i] = re.findall(\"<li.*?>\",str(x.prettify()))[0]\n",
    "#     new_lowest_fare = re.findall(\"data-lowestfare=\\\".*?\\\"\",list_elements[i])[0]\n",
    "#     new_lowest_fare = float(re.findall(\"[0-9]+\",new_lowest_fare)[0])\n",
    "#     if new_lowest_fare < lowest_fare:\n",
    "#         lowest_fare = new_lowest_fare\n",
    "#         lowest_fare_element.append(x)\n",
    "# #     print(f\"{i}: {list_elements[i]}\")\n",
    "# #     print(lowest_fare_element)\n",
    "#     i += 1\n",
    "\n",
    "# # Filter to select the shortest trip duration\n",
    "# i = 0\n",
    "# shortest_trip = 2**15\n",
    "# for x in lowest_fare_element:\n",
    "#     lowest_fare_element[i] = re.findall(\"<li.*?>\",str(x.prettify()))[0]\n",
    "#     new_shortest_trip = re.findall(\"data-triptime=\\\".*?\\\"\",lowest_fare_element[i])[0]\n",
    "#     new_shortest_trip = float(re.findall(\"[0-9]+\",new_shortest_trip)[0])\n",
    "#     if new_shortest_trip < shortest_trip:\n",
    "#         shortest_trip = new_shortest_trip\n",
    "# #     print(lowest_fare_element[i])\n",
    "#     print(shortest_trip)\n",
    "    \n",
    "i = 0\n",
    "lowest_fare = 2**15\n",
    "for x in list_elements:\n",
    "    x = re.findall(\"<li.*?>\",str(x.prettify()))[0]\n",
    "    new_lowest_fare = re.findall(\"data-lowestfare=\\\".*?\\\"\",x)[0]\n",
    "    new_lowest_fare = float(re.findall(\"[0-9]+\",new_lowest_fare)[0])\n",
    "    if new_lowest_fare < lowest_fare:\n",
    "        lowest_fare = new_lowest_fare\n",
    "        lowest_fare_element = list_elements[i]\n",
    "#     print(f\"{i}: {list_elements[i]}\")\n",
    "    i += 1\n",
    "# print(lowest_fare_element)\n",
    "\n",
    "lowest_fare_element = re.findall(\"<button.*?MainCabin.*?>\",str(lowest_fare_element.prettify()))[0]\n",
    "# print(lowest_fare_element)\n",
    "\n",
    "lowest_fare_id = re.findall(\"id=\\\"slice\\dFlight[0-9]+MainCabin\\\"\",lowest_fare_element)[0]\n",
    "# print(lowest_fare_id)\n",
    "lowest_fare_id = f\"//*[@{lowest_fare_id}]\"\n",
    "# print(lowest_fare_id)\n",
    "\n",
    "lowest_fare_element = driver.find_element(\n",
    "    by=By.XPATH,\n",
    "    value=lowest_fare_id\n",
    ")\n",
    "print(lowest_fare_element)"
   ]
  },
  {
   "cell_type": "code",
   "execution_count": 15,
   "id": "8e574203",
   "metadata": {},
   "outputs": [],
   "source": [
    "# sort the results by price, so that the lowest price is no longer hidden\n",
    "sort_menu_element = driver.find_element(By.XPATH,value='//*[@id=\"searchResultsSortOptions\"]')\n",
    "action.move_to_element(sort_menu_element).perform()\n",
    "time.sleep(button_press(0))\n",
    "\n",
    "action.click(sort_menu_element).perform()\n",
    "time.sleep(button_press(0))\n",
    "\n",
    "# Move down to \"Price (low to high)\"\n",
    "for x in range(0,2):\n",
    "    action.send_keys(Keys.DOWN)\n",
    "    time.sleep(button_press(\"keystroke\"))\n",
    "\n",
    "action.click(sort_menu_element).perform()\n",
    "time.sleep(button_press(0))\n",
    "    \n",
    "# Click the button for the lowest flight option\n",
    "action.move_to_element(lowest_fare_element).perform()\n",
    "time.sleep(button_press(0))\n",
    "\n",
    "action.click(lowest_fare_element).perform()\n",
    "time.sleep(button_press(0))"
   ]
  },
  {
   "cell_type": "code",
   "execution_count": 16,
   "id": "258d1536",
   "metadata": {},
   "outputs": [
    {
     "name": "stdout",
     "output_type": "stream",
     "text": [
      "0: <li class=\"flight-search-results js-moreflights\" data-arrivaltime=\"06-26-2022 12:46:00\" data-departuretime=\"06-26-2022 11:45:00\" data-flightindex=\"1\" data-lowestfare=\"597.00\" data-tripprice=\"597.00\" data-tripstops=\"0\" data-triptime=\"181\" id=\"slice1Flight1\">\n",
      "1: <li class=\"flight-search-results js-moreflights\" data-arrivaltime=\"06-26-2022 13:55:00\" data-departuretime=\"06-26-2022 12:54:00\" data-flightindex=\"2\" data-lowestfare=\"597.00\" data-tripprice=\"597.00\" data-tripstops=\"0\" data-triptime=\"181\" id=\"slice1Flight2\">\n",
      "2: <li class=\"flight-search-results js-moreflights\" data-arrivaltime=\"06-26-2022 11:18:00\" data-departuretime=\"06-26-2022 10:15:00\" data-flightindex=\"3\" data-lowestfare=\"597.00\" data-tripprice=\"597.00\" data-tripstops=\"0\" data-triptime=\"183\" id=\"slice1Flight3\">\n",
      "3: <li class=\"flight-search-results js-moreflights\" data-arrivaltime=\"06-26-2022 15:48:00\" data-departuretime=\"06-26-2022 14:46:00\" data-flightindex=\"4\" data-lowestfare=\"597.00\" data-tripprice=\"597.00\" data-tripstops=\"0\" data-triptime=\"182\" id=\"slice1Flight4\">\n",
      "4: <li class=\"flight-search-results js-moreflights\" data-arrivaltime=\"06-26-2022 09:58:00\" data-departuretime=\"06-26-2022 08:54:00\" data-flightindex=\"5\" data-lowestfare=\"597.00\" data-tripprice=\"597.00\" data-tripstops=\"0\" data-triptime=\"184\" id=\"slice1Flight5\">\n",
      "5: <li class=\"flight-search-results js-moreflights\" data-arrivaltime=\"06-26-2022 08:25:00\" data-departuretime=\"06-26-2022 07:25:00\" data-flightindex=\"6\" data-lowestfare=\"597.00\" data-tripprice=\"597.00\" data-tripstops=\"0\" data-triptime=\"180\" id=\"slice1Flight6\">\n",
      "6: <li class=\"flight-search-results js-moreflights\" data-arrivaltime=\"06-26-2022 17:58:00\" data-departuretime=\"06-26-2022 16:58:00\" data-flightindex=\"7\" data-lowestfare=\"597.00\" data-tripprice=\"597.00\" data-tripstops=\"0\" data-triptime=\"180\" id=\"slice1Flight7\">\n",
      "7: <li class=\"flight-search-results js-moreflights\" data-arrivaltime=\"06-26-2022 20:01:00\" data-departuretime=\"06-26-2022 19:00:00\" data-flightindex=\"8\" data-lowestfare=\"597.00\" data-tripprice=\"597.00\" data-tripstops=\"0\" data-triptime=\"181\" id=\"slice1Flight8\">\n",
      "8: <li class=\"flight-search-results js-moreflights\" data-arrivaltime=\"06-26-2022 21:53:00\" data-departuretime=\"06-26-2022 20:50:00\" data-flightindex=\"9\" data-lowestfare=\"597.00\" data-tripprice=\"597.00\" data-tripstops=\"0\" data-triptime=\"183\" id=\"slice1Flight9\">\n",
      "9: <li class=\"flight-search-results js-moreflights\" data-arrivaltime=\"06-26-2022 20:53:00\" data-departuretime=\"06-26-2022 11:49:00\" data-flightindex=\"10\" data-lowestfare=\"964.00\" data-tripprice=\"964.00\" data-tripstops=\"1\" data-triptime=\"664\" id=\"slice1Flight10\">\n",
      "10: <li class=\"flight-search-results js-moreflights is-hidden\" data-arrivaltime=\"06-26-2022 15:19:00\" data-departuretime=\"06-26-2022 12:23:00\" data-flightindex=\"11\" data-lowestfare=\"543.00\" data-tripprice=\"543.00\" data-tripstops=\"1\" data-triptime=\"296\" id=\"slice1Flight11\">\n",
      "11: <li class=\"flight-search-results js-moreflights is-hidden\" data-arrivaltime=\"06-26-2022 19:00:00\" data-departuretime=\"06-26-2022 12:23:00\" data-flightindex=\"12\" data-lowestfare=\"685.00\" data-tripprice=\"685.00\" data-tripstops=\"1\" data-triptime=\"517\" id=\"slice1Flight12\">\n",
      "12: <li class=\"flight-search-results js-moreflights is-hidden\" data-arrivaltime=\"06-26-2022 21:23:00\" data-departuretime=\"06-26-2022 12:23:00\" data-flightindex=\"13\" data-lowestfare=\"782.00\" data-tripprice=\"782.00\" data-tripstops=\"1\" data-triptime=\"660\" id=\"slice1Flight13\">\n",
      "13: <li class=\"flight-search-results js-moreflights is-hidden\" data-arrivaltime=\"06-26-2022 13:55:00\" data-departuretime=\"06-26-2022 11:00:00\" data-flightindex=\"14\" data-lowestfare=\"724.00\" data-tripprice=\"724.00\" data-tripstops=\"1\" data-triptime=\"295\" id=\"slice1Flight14\">\n",
      "14: <li class=\"flight-search-results js-moreflights is-hidden\" data-arrivaltime=\"06-26-2022 15:19:00\" data-departuretime=\"06-26-2022 10:53:00\" data-flightindex=\"15\" data-lowestfare=\"543.00\" data-tripprice=\"543.00\" data-tripstops=\"1\" data-triptime=\"386\" id=\"slice1Flight15\">\n",
      "15: <li class=\"flight-search-results js-moreflights is-hidden\" data-arrivaltime=\"06-26-2022 19:00:00\" data-departuretime=\"06-26-2022 10:53:00\" data-flightindex=\"16\" data-lowestfare=\"685.00\" data-tripprice=\"685.00\" data-tripstops=\"1\" data-triptime=\"607\" id=\"slice1Flight16\">\n",
      "16: <li class=\"flight-search-results js-moreflights is-hidden\" data-arrivaltime=\"06-26-2022 21:23:00\" data-departuretime=\"06-26-2022 10:53:00\" data-flightindex=\"17\" data-lowestfare=\"782.00\" data-tripprice=\"782.00\" data-tripstops=\"1\" data-triptime=\"750\" id=\"slice1Flight17\">\n",
      "17: <li class=\"flight-search-results js-moreflights is-hidden\" data-arrivaltime=\"06-26-2022 20:53:00\" data-departuretime=\"06-26-2022 13:17:00\" data-flightindex=\"18\" data-lowestfare=\"1028.00\" data-tripprice=\"1028.00\" data-tripstops=\"1\" data-triptime=\"576\" id=\"slice1Flight18\">\n",
      "18: <li class=\"flight-search-results js-moreflights is-hidden\" data-arrivaltime=\"06-26-2022 13:55:00\" data-departuretime=\"06-26-2022 09:30:00\" data-flightindex=\"19\" data-lowestfare=\"724.00\" data-tripprice=\"724.00\" data-tripstops=\"1\" data-triptime=\"385\" id=\"slice1Flight19\">\n",
      "19: <li class=\"flight-search-results js-moreflights is-hidden\" data-arrivaltime=\"06-26-2022 19:00:00\" data-departuretime=\"06-26-2022 14:40:00\" data-flightindex=\"20\" data-lowestfare=\"705.00\" data-tripprice=\"705.00\" data-tripstops=\"1\" data-triptime=\"380\" id=\"slice1Flight20\">\n",
      "20: <li class=\"flight-search-results js-moreflights is-hidden\" data-arrivaltime=\"06-26-2022 21:23:00\" data-departuretime=\"06-26-2022 14:40:00\" data-flightindex=\"21\" data-lowestfare=\"839.00\" data-tripprice=\"839.00\" data-tripstops=\"1\" data-triptime=\"523\" id=\"slice1Flight21\">\n",
      "21: <li class=\"flight-search-results js-moreflights is-hidden\" data-arrivaltime=\"06-26-2022 20:53:00\" data-departuretime=\"06-26-2022 15:17:00\" data-flightindex=\"22\" data-lowestfare=\"1028.00\" data-tripprice=\"1028.00\" data-tripstops=\"1\" data-triptime=\"456\" id=\"slice1Flight22\">\n",
      "22: <li class=\"flight-search-results js-moreflights is-hidden\" data-arrivaltime=\"06-26-2022 15:08:00\" data-departuretime=\"06-26-2022 08:43:00\" data-flightindex=\"23\" data-lowestfare=\"1399.00\" data-tripprice=\"1399.00\" data-tripstops=\"1\" data-triptime=\"505\" id=\"slice1Flight23\">\n",
      "23: <li class=\"flight-search-results js-moreflights is-hidden\" data-arrivaltime=\"06-26-2022 13:55:00\" data-departuretime=\"06-26-2022 08:42:00\" data-flightindex=\"24\" data-lowestfare=\"671.00\" data-tripprice=\"671.00\" data-tripstops=\"1\" data-triptime=\"433\" id=\"slice1Flight24\">\n",
      "24: <li class=\"flight-search-results js-moreflights is-hidden\" data-arrivaltime=\"06-26-2022 11:41:00\" data-departuretime=\"06-26-2022 08:25:00\" data-flightindex=\"25\" data-lowestfare=\"543.00\" data-tripprice=\"543.00\" data-tripstops=\"1\" data-triptime=\"316\" id=\"slice1Flight25\">\n",
      "25: <li class=\"flight-search-results js-moreflights is-hidden\" data-arrivaltime=\"06-26-2022 15:19:00\" data-departuretime=\"06-26-2022 08:25:00\" data-flightindex=\"26\" data-lowestfare=\"685.00\" data-tripprice=\"685.00\" data-tripstops=\"1\" data-triptime=\"534\" id=\"slice1Flight26\">\n",
      "26: <li class=\"flight-search-results js-moreflights is-hidden\" data-arrivaltime=\"06-26-2022 19:00:00\" data-departuretime=\"06-26-2022 08:25:00\" data-flightindex=\"27\" data-lowestfare=\"685.00\" data-tripprice=\"685.00\" data-tripstops=\"1\" data-triptime=\"755\" id=\"slice1Flight27\">\n",
      "27: <li class=\"flight-search-results js-moreflights is-hidden\" data-arrivaltime=\"06-26-2022 21:23:00\" data-departuretime=\"06-26-2022 08:25:00\" data-flightindex=\"28\" data-lowestfare=\"782.00\" data-tripprice=\"782.00\" data-tripstops=\"1\" data-triptime=\"898\" id=\"slice1Flight28\">\n",
      "28: <li class=\"flight-search-results js-moreflights is-hidden\" data-arrivaltime=\"06-26-2022 21:23:00\" data-departuretime=\"06-26-2022 17:05:00\" data-flightindex=\"29\" data-lowestfare=\"800.00\" data-tripprice=\"800.00\" data-tripstops=\"1\" data-triptime=\"378\" id=\"slice1Flight29\">\n",
      "29: <li class=\"flight-search-results js-moreflights is-hidden\" data-arrivaltime=\"06-26-2022 12:06:00\" data-departuretime=\"06-26-2022 06:25:00\" data-flightindex=\"30\" data-lowestfare=\"800.00\" data-tripprice=\"800.00\" data-tripstops=\"1\" data-triptime=\"461\" id=\"slice1Flight30\">\n",
      "30: <li class=\"flight-search-results js-moreflights is-hidden\" data-arrivaltime=\"06-26-2022 10:36:00\" data-departuretime=\"06-26-2022 05:09:00\" data-flightindex=\"31\" data-lowestfare=\"705.00\" data-tripprice=\"705.00\" data-tripstops=\"1\" data-triptime=\"447\" id=\"slice1Flight31\">\n",
      "31: <li class=\"flight-search-results js-moreflights is-hidden\" data-arrivaltime=\"06-26-2022 12:06:00\" data-departuretime=\"06-26-2022 05:09:00\" data-flightindex=\"32\" data-lowestfare=\"705.00\" data-tripprice=\"705.00\" data-tripstops=\"1\" data-triptime=\"537\" id=\"slice1Flight32\">\n",
      "32: <li class=\"flight-search-results js-moreflights is-hidden\" data-arrivaltime=\"06-26-2022 21:23:00\" data-departuretime=\"06-26-2022 18:55:00\" data-flightindex=\"33\" data-lowestfare=\"705.00\" data-tripprice=\"705.00\" data-tripstops=\"1\" data-triptime=\"268\" id=\"slice1Flight33\">\n"
     ]
    }
   ],
   "source": [
    "# Identifying the list elements that contain flight and price information for return flights\n",
    "# Get the html from the page\n",
    "html_return = driver.page_source\n",
    "html_soup_return = soup(html_return,'html.parser')\n",
    "\n",
    "return_elements = html_soup_return.find_all(\"li\",id=re.compile(\"slice1Flight\\d\"))\n",
    "\n",
    "i = 0\n",
    "for x in return_elements:\n",
    "#     list_elements[i] = re.search(\"<li\\s*>\\w\",str(x.prettify()))\n",
    "    return_elements[i] = re.findall(\"<li.*?>\",str(x.prettify()))[0]\n",
    "    print(f\"{i}: {return_elements[i]}\")\n",
    "    i += 1"
   ]
  },
  {
   "cell_type": "code",
   "execution_count": 17,
   "id": "5da4f344",
   "metadata": {},
   "outputs": [],
   "source": [
    "#This tool solely used in early dev for identifying html elemnts that contain information\n",
    "\n",
    "\n",
    "# button_elements = html_soup.findAll('button')\n",
    "# i = 0\n",
    "# for x in button_elements:\n",
    "#     print(f\"{i}: {x}\")\n",
    "#     i += 1"
   ]
  },
  {
   "cell_type": "code",
   "execution_count": 18,
   "id": "b6b6c20b",
   "metadata": {},
   "outputs": [],
   "source": [
    "# driver.close()"
   ]
  },
  {
   "cell_type": "code",
   "execution_count": null,
   "id": "8e90a6da",
   "metadata": {},
   "outputs": [],
   "source": []
  }
 ],
 "metadata": {
  "kernelspec": {
   "display_name": "PythonData",
   "language": "python",
   "name": "pythondata"
  },
  "language_info": {
   "codemirror_mode": {
    "name": "ipython",
    "version": 3
   },
   "file_extension": ".py",
   "mimetype": "text/x-python",
   "name": "python",
   "nbconvert_exporter": "python",
   "pygments_lexer": "ipython3",
   "version": "3.7.11"
  }
 },
 "nbformat": 4,
 "nbformat_minor": 5
}
