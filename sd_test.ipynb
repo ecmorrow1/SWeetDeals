{
 "cells": [
  {
   "cell_type": "code",
   "execution_count": 1,
   "id": "91614a4c",
   "metadata": {},
   "outputs": [],
   "source": [
    "#Import Dependencies\n",
    "from selenium.webdriver.common.action_chains import ActionChains\n",
    "from webdriver_manager.chrome import ChromeDriverManager\n",
    "from selenium.webdriver.chrome.service import Service\n",
    "from selenium.webdriver.common.keys import Keys\n",
    "from selenium.webdriver.common.by import By\n",
    "from bs4 import BeautifulSoup as soup\n",
    "from selenium import webdriver\n",
    "from splinter import Browser\n",
    "import pandas as pd\n",
    "import numpy as np\n",
    "import regex as re\n",
    "import datetime\n",
    "import random\n",
    "import time"
   ]
  },
  {
   "cell_type": "code",
   "execution_count": 2,
   "id": "0fe52d5c",
   "metadata": {},
   "outputs": [],
   "source": [
    "def button_press(action):\n",
    "    if action == \"keystroke\":\n",
    "        return random.uniform(.091315816564,.15978136531)\n",
    "    elif action == \"enter_search\":\n",
    "        # This value needs to stay above 30 seconds to accommodate for the pause the website imposes when performing a search\n",
    "        return random.uniform(30.2551845131843, 33.3189651876)\n",
    "    else:\n",
    "        return random.uniform(.2098741610684,.2998135130)"
   ]
  },
  {
   "cell_type": "code",
   "execution_count": 3,
   "id": "3e656359",
   "metadata": {},
   "outputs": [],
   "source": [
    "def get_dates(depart_day,trip_length,number_of_weeks):\n",
    "    \n",
    "    #Get today's date\n",
    "    today = datetime.date.today()\n",
    "    \n",
    "    i = 0\n",
    "    depart_ = []\n",
    "    return_ = []\n",
    "    for x in range(0,number_of_weeks):\n",
    "        # Get the next possible departure date based on the desired day of the week to leave\n",
    "        depart_.append((today + datetime.timedelta((depart_day-today.weekday()) % 7 )).strftime('%m/%d/%Y'))\n",
    "        return_.append((today + datetime.timedelta((depart_day-today.weekday()) % 7 + trip_length)).strftime('%m/%d/%Y'))\n",
    "        today = today + datetime.timedelta((depart_day-today.weekday()) % 7 + 7)\n",
    "        i += 1\n",
    "#         print(f\"{depart_[i]} : {return_[i]}\")\n",
    "        \n",
    "    return depart_,return_"
   ]
  },
  {
   "cell_type": "code",
   "execution_count": 4,
   "id": "349fe612",
   "metadata": {},
   "outputs": [],
   "source": [
    "def move_and_click(element):\n",
    "    action.move_to_element(element).perform()\n",
    "    time.sleep(button_press(0))\n",
    "    \n",
    "    action.click(element).perform()\n",
    "    time.sleep(button_press(0))   "
   ]
  },
  {
   "cell_type": "code",
   "execution_count": 5,
   "id": "a28a8d63",
   "metadata": {},
   "outputs": [],
   "source": [
    "def set_time_of_day(element):\n",
    "    \n",
    "    # Select the element\n",
    "    move_and_click(element)\n",
    "\n",
    "#     # Move down to \"Early Evening\"\n",
    "#     for x in range(0,4):\n",
    "#         action.send_keys(Keys.DOWN)\n",
    "#         time.sleep(button_press(\"keystroke\"))\n",
    "        \n",
    "    # move up to \"All Day\"\n",
    "    action.send_keys(Keys.UP)\n",
    "    time.sleep(button_press(\"keystroke\"))\n",
    "\n",
    "    action.click(element).perform()\n",
    "    time.sleep(button_press(0))"
   ]
  },
  {
   "cell_type": "code",
   "execution_count": 6,
   "id": "51ff86ed",
   "metadata": {},
   "outputs": [],
   "source": [
    "def enter_airport(airport,element):\n",
    "\n",
    "    move_and_click(element)\n",
    "\n",
    "    # Delete any 3-letter airport codes that may be currently in the field\n",
    "    for x in range(0,3):\n",
    "        action.send_keys(Keys.BACKSPACE).perform()\n",
    "        time.sleep(button_press(\"keystroke\"))\n",
    "\n",
    "    # write in the new airport code\n",
    "    for letter in airport:\n",
    "        action.send_keys(letter).perform()\n",
    "        time.sleep(button_press(\"keystroke\"))\n",
    "\n",
    "    time.sleep(button_press(0))  "
   ]
  },
  {
   "cell_type": "code",
   "execution_count": 7,
   "id": "115ac3cf",
   "metadata": {},
   "outputs": [],
   "source": [
    "def enter_dates(date,element):\n",
    "\n",
    "    move_and_click(element)\n",
    "    \n",
    "    for x in range(0,10):\n",
    "        action.send_keys(Keys.BACKSPACE).perform()\n",
    "        time.sleep(button_press(\"keystroke\"))\n",
    "    \n",
    "    for letter in date:\n",
    "        action.send_keys(letter).perform()\n",
    "        time.sleep(button_press(\"keystroke\"))\n",
    "        \n",
    "    time.sleep(button_press(0))  "
   ]
  },
  {
   "cell_type": "code",
   "execution_count": 20,
   "id": "85e791d6",
   "metadata": {},
   "outputs": [],
   "source": [
    "def execute_search(home_airports,visit_airports,depart_dates,return_dates):\n",
    "\n",
    "    # navigate to the website\n",
    "    driver.get(\"https://www.aa.com/booking/find-flights\")\n",
    "    time.sleep(button_press(0))\n",
    "    \n",
    "    # Set Time of Day for Departure and Return\n",
    "    set_time_of_day(driver.find_element(by=By.XPATH,value='//*[@id=\"segments0.travelTime\"]'))\n",
    "    set_time_of_day(driver.find_element(by=By.XPATH,value='//*[@id=\"segments1.travelTime\"]'))\n",
    "            \n",
    "    for (depart_date,return_date) in zip(depart_dates,return_dates):\n",
    "\n",
    "        # Set the travel dates\n",
    "        enter_dates(depart_date,driver.find_element(by=By.XPATH,value='//*[@id=\"segments0.travelDate\"]'))\n",
    "        enter_dates(return_date,driver.find_element(by=By.XPATH,value='//*[@id=\"segments1.travelDate\"]'))\n",
    "    \n",
    "        for from_airport in home_airports:\n",
    "\n",
    "            # Set the home airports\n",
    "            enter_airport(from_airport,driver.find_element(by=By.XPATH,value=('//*[@id=\"segments0.origin\"]')))\n",
    "\n",
    "            for to_airport in visit_airports:\n",
    "\n",
    "                # Set the destination airport\n",
    "                enter_airport(to_airport,driver.find_element(by=By.XPATH,value=('//*[@id=\"segments0.destination\"]')))\n",
    "\n",
    "                # Hitting the ENTER key while still in the airports field will execute a search\n",
    "                action.send_keys(Keys.ENTER).perform()\n",
    "                time.sleep(button_press(\"enter_search\"))\n",
    "                \n",
    "                \n",
    "                \n",
    "#                 # navigate to the website\n",
    "#                 driver.get(\"https://www.aa.com/booking/find-flights\")\n",
    "#                 time.sleep(button_press(0))\n",
    "\n",
    "\n"
   ]
  },
  {
   "cell_type": "code",
   "execution_count": 9,
   "id": "65d98cfc",
   "metadata": {},
   "outputs": [],
   "source": [
    "def get_trip_length(x):\n",
    "    x = re.findall(\"<li.*?>\",str(x.prettify()))[0]\n",
    "    x = re.findall(\"data-triptime=\\\".*?\\\"\",x)[0]\n",
    "    return float(re.findall(\"[0-9]+\",x)[0])"
   ]
  },
  {
   "cell_type": "code",
   "execution_count": 10,
   "id": "56426dd0",
   "metadata": {},
   "outputs": [],
   "source": [
    "def get_max_trip_length(list_elements):\n",
    "    \n",
    "    shortest_trip_length = 2**15 # minutes\n",
    "    for x in list_elements:\n",
    "        x = get_trip_length(x)\n",
    "        if x < shortest_trip_length:\n",
    "            shortest_trip_length = x\n",
    "    \n",
    "    # After finding the shortest trip, return a maximum trip length of 2x the shortest\n",
    "    return shortest_trip_length * 2"
   ]
  },
  {
   "cell_type": "code",
   "execution_count": 11,
   "id": "102fa541",
   "metadata": {},
   "outputs": [],
   "source": [
    "def trip_duration_filter(list_elements):\n",
    "    # Get the maximum trip length\n",
    "    max_trip_length = get_max_trip_length(list_elements)\n",
    "    \n",
    "    i = 0\n",
    "    duration_filtered_elements = []\n",
    "    for x in list_elements:\n",
    "        y = get_trip_length(x)\n",
    "        if y < max_trip_length:\n",
    "            duration_filtered_elements.append(x)\n",
    "        i += 1\n",
    "    \n",
    "    return duration_filtered_elements"
   ]
  },
  {
   "cell_type": "code",
   "execution_count": 12,
   "id": "f544d2de",
   "metadata": {},
   "outputs": [
    {
     "name": "stdout",
     "output_type": "stream",
     "text": [
      "\n"
     ]
    },
    {
     "name": "stderr",
     "output_type": "stream",
     "text": [
      "[WDM] - ====== WebDriver manager ======\n",
      "INFO:WDM:====== WebDriver manager ======\n",
      "[WDM] - Current google-chrome version is 102.0.5005\n",
      "INFO:WDM:Current google-chrome version is 102.0.5005\n",
      "[WDM] - Get LATEST chromedriver version for 102.0.5005 google-chrome\n",
      "INFO:WDM:Get LATEST chromedriver version for 102.0.5005 google-chrome\n",
      "[WDM] - Driver [C:\\Users\\morroe1\\.wdm\\drivers\\chromedriver\\win32\\102.0.5005.61\\chromedriver.exe] found in cache\n",
      "INFO:WDM:Driver [C:\\Users\\morroe1\\.wdm\\drivers\\chromedriver\\win32\\102.0.5005.61\\chromedriver.exe] found in cache\n"
     ]
    }
   ],
   "source": [
    "# create webdriver object\n",
    "driver = webdriver.Chrome(service=Service(ChromeDriverManager().install()))\n",
    "driver.maximize_window()\n",
    "\n",
    "# create action chain object\n",
    "action = ActionChains(driver)"
   ]
  },
  {
   "cell_type": "code",
   "execution_count": 13,
   "id": "6c6f24e3",
   "metadata": {},
   "outputs": [],
   "source": [
    "# Need a function for building lists of desired departure and return airports\n"
   ]
  },
  {
   "cell_type": "code",
   "execution_count": 13,
   "id": "d89f6ad3",
   "metadata": {},
   "outputs": [],
   "source": [
    "home_airports = [\"SNA\"]\n",
    "visit_airports = [\"SMF\"]"
   ]
  },
  {
   "cell_type": "code",
   "execution_count": 14,
   "id": "6b16892e",
   "metadata": {},
   "outputs": [
    {
     "name": "stdout",
     "output_type": "stream",
     "text": [
      "['06/23/2022']\n"
     ]
    }
   ],
   "source": [
    "# Python calendar elements use \"3\" to represent Thursday\n",
    "# Python calendar elements use \"4\" to represent Friday\n",
    "depart_day = 3\n",
    "trip_length = 3 # This value minus 1 gives the total number of non-travel days spent at the destination\n",
    "number_of_weeks = 1\n",
    "depart_dates,return_dates = get_dates(depart_day,trip_length,number_of_weeks)\n",
    "print(depart_dates)"
   ]
  },
  {
   "cell_type": "code",
   "execution_count": 21,
   "id": "a9d86d42",
   "metadata": {},
   "outputs": [
    {
     "name": "stdout",
     "output_type": "stream",
     "text": [
      "1\n"
     ]
    }
   ],
   "source": [
    "execute_search(home_airports,visit_airports,depart_dates,return_dates)"
   ]
  },
  {
   "cell_type": "code",
   "execution_count": 35,
   "id": "9cab6b21",
   "metadata": {},
   "outputs": [
    {
     "data": {
      "text/plain": [
       "<selenium.webdriver.remote.webelement.WebElement (session=\"f0723a610ab1e3b50d1688230c85e662\", element=\"2ff298b1-ec17-4b93-aea6-922fb7846a7d\")>"
      ]
     },
     "execution_count": 35,
     "metadata": {},
     "output_type": "execute_result"
    }
   ],
   "source": [
    "def read_fares():\n",
    "    \n",
    "    # Get the html from the page\n",
    "    html = driver.page_source\n",
    "    html_soup = soup(html,'html.parser')\n",
    "    \n",
    "    # Identifying the list elements that contain flight and price information\n",
    "    list_elements = trip_duration_filter(html_soup.find_all(\"li\",id=re.compile(\"slice0Flight[0-9]+\")))\n",
    "    \n",
    "    i = 0\n",
    "    lowest_fare = 2**15\n",
    "    for x in list_elements:\n",
    "        x = re.findall(\"<li.*?>\",str(x.prettify()))[0]\n",
    "        new_lowest_fare = re.findall(\"data-lowestfare=\\\".*?\\\"\",x)[0]\n",
    "        new_lowest_fare = float(re.findall(\"[0-9]+\",new_lowest_fare)[0])\n",
    "        if new_lowest_fare < lowest_fare:\n",
    "            lowest_fare = new_lowest_fare\n",
    "            lowest_fare_element = list_elements[i]\n",
    "        i += 1\n",
    "        \n",
    "# # # # # # # # # # # # # # # # \n",
    "# Perhaps populating a dictionary with the keys that we care most about is pertinent here\n",
    "# # # # # # # # # # # # # # # # \n",
    "\n",
    "    lowest_fare_element = re.findall(\"<button.*?MainCabin.*?>\",str(lowest_fare_element.prettify()))[0]\n",
    "    lowest_fare_id = re.findall(\"id=\\\"slice\\dFlight[0-9]+MainCabin\\\"\",lowest_fare_element)[0]\n",
    "    lowest_fare_id = f\"//*[@{lowest_fare_id}]\"\n",
    "\n",
    "    lowest_fare_element = driver.find_element(\n",
    "        by=By.XPATH,\n",
    "        value=lowest_fare_id\n",
    "    )\n",
    "    \n",
    "    return lowest_fare_element\n",
    "read_fares()"
   ]
  },
  {
   "cell_type": "code",
   "execution_count": 22,
   "id": "3e2a27f7",
   "metadata": {},
   "outputs": [],
   "source": [
    "# # Get the html from the page\n",
    "# html = driver.page_source\n",
    "# html_soup = soup(html,'html.parser')"
   ]
  },
  {
   "cell_type": "code",
   "execution_count": 23,
   "id": "3e533376",
   "metadata": {},
   "outputs": [
    {
     "data": {
      "text/plain": [
       "15"
      ]
     },
     "execution_count": 23,
     "metadata": {},
     "output_type": "execute_result"
    }
   ],
   "source": [
    "# # Identifying the list elements that contain flight and price information\n",
    "# list_elements = html_soup.find_all(\"li\",id=re.compile(\"slice0Flight[0-9]+\"))\n",
    "# len(list_elements)"
   ]
  },
  {
   "cell_type": "code",
   "execution_count": 24,
   "id": "5af5ccde",
   "metadata": {},
   "outputs": [],
   "source": [
    "# duration_filtered_elements = trip_duration_filter(html_soup.find_all(\"li\",id=re.compile(\"slice0Flight[0-9]+\")))"
   ]
  },
  {
   "cell_type": "code",
   "execution_count": 25,
   "id": "daa5d7ae",
   "metadata": {},
   "outputs": [
    {
     "data": {
      "text/plain": [
       "6"
      ]
     },
     "execution_count": 25,
     "metadata": {},
     "output_type": "execute_result"
    }
   ],
   "source": [
    "# # Identifying the list elements that contain flight and price information\n",
    "# list_elements = duration_filtered_elements\n",
    "# len(list_elements)"
   ]
  },
  {
   "cell_type": "code",
   "execution_count": null,
   "id": "2ddd18b5",
   "metadata": {},
   "outputs": [],
   "source": [
    "\n",
    "\n",
    "# i = 0\n",
    "# lowest_fare = 2**15\n",
    "# lowest_fare_element = []\n",
    "# for x in list_elements:\n",
    "#     list_elements[i] = re.findall(\"<li.*?>\",str(x.prettify()))[0]\n",
    "#     new_lowest_fare = re.findall(\"data-lowestfare=\\\".*?\\\"\",list_elements[i])[0]\n",
    "#     new_lowest_fare = float(re.findall(\"[0-9]+\",new_lowest_fare)[0])\n",
    "#     if new_lowest_fare < lowest_fare:\n",
    "#         lowest_fare = new_lowest_fare\n",
    "#         lowest_fare_element.append(x)\n",
    "# #     print(f\"{i}: {list_elements[i]}\")\n",
    "# #     print(lowest_fare_element)\n",
    "#     i += 1\n",
    "    \n",
    "# i = 0\n",
    "# lowest_fare = 2**15\n",
    "# for x in list_elements:\n",
    "#     x = re.findall(\"<li.*?>\",str(x.prettify()))[0]\n",
    "#     new_lowest_fare = re.findall(\"data-lowestfare=\\\".*?\\\"\",x)[0]\n",
    "#     new_lowest_fare = float(re.findall(\"[0-9]+\",new_lowest_fare)[0])\n",
    "#     if new_lowest_fare < lowest_fare:\n",
    "#         lowest_fare = new_lowest_fare\n",
    "#         lowest_fare_element = list_elements[i]\n",
    "# #     print(f\"{i}: {list_elements[i]}\")\n",
    "#     i += 1\n",
    "# print(lowest_fare_element)\n",
    "\n",
    "# lowest_fare_element = re.findall(\"<button.*?MainCabin.*?>\",str(lowest_fare_element.prettify()))[0]\n",
    "# # print(lowest_fare_element)\n",
    "\n",
    "# lowest_fare_id = re.findall(\"id=\\\"slice\\dFlight[0-9]+MainCabin\\\"\",lowest_fare_element)[0]\n",
    "# # print(lowest_fare_id)\n",
    "# lowest_fare_id = f\"//*[@{lowest_fare_id}]\"\n",
    "# # print(lowest_fare_id)\n",
    "\n",
    "# lowest_fare_element = driver.find_element(\n",
    "#     by=By.XPATH,\n",
    "#     value=lowest_fare_id\n",
    "# )\n",
    "# print(lowest_fare_element)"
   ]
  },
  {
   "cell_type": "code",
   "execution_count": null,
   "id": "6d63c0f1",
   "metadata": {},
   "outputs": [],
   "source": [
    "# sort the results by price, so that the lowest price is no longer hidden\n",
    "sort_menu_element = driver.find_element(By.XPATH,value='//*[@id=\"searchResultsSortOptions\"]')\n",
    "move_and_click(sort_menu_element)\n",
    "\n",
    "# Move down to \"Price (low to high)\"\n",
    "for x in range(0,2):\n",
    "    action.send_keys(Keys.DOWN)\n",
    "    time.sleep(button_press(\"keystroke\"))\n",
    "\n",
    "action.click(sort_menu_element).perform()\n",
    "time.sleep(button_press(0))\n",
    "    \n",
    "# Click the button for the lowest flight option\n",
    "move_and_click(lowest_fare_element)"
   ]
  },
  {
   "cell_type": "code",
   "execution_count": null,
   "id": "f3c0d81a",
   "metadata": {},
   "outputs": [],
   "source": [
    "# Identifying the list elements that contain flight and price information for return flights\n",
    "# Get the html from the page\n",
    "html_return = driver.page_source\n",
    "html_soup_return = soup(html_return,'html.parser')\n",
    "\n",
    "return_elements = html_soup_return.find_all(\"li\",id=re.compile(\"slice1Flight\\d\"))\n",
    "\n",
    "i = 0\n",
    "for x in return_elements:\n",
    "#     list_elements[i] = re.search(\"<li\\s*>\\w\",str(x.prettify()))\n",
    "    return_elements[i] = re.findall(\"<li.*?>\",str(x.prettify()))[0]\n",
    "    print(f\"{i}: {return_elements[i]}\")\n",
    "    i += 1"
   ]
  },
  {
   "cell_type": "code",
   "execution_count": null,
   "id": "d5581e8b",
   "metadata": {},
   "outputs": [],
   "source": [
    "#This tool solely used in early dev for identifying html elemnts that contain information\n",
    "\n",
    "\n",
    "# button_elements = html_soup.findAll('button')\n",
    "# i = 0\n",
    "# for x in button_elements:\n",
    "#     print(f\"{i}: {x}\")\n",
    "#     i += 1"
   ]
  },
  {
   "cell_type": "code",
   "execution_count": null,
   "id": "2350bc23",
   "metadata": {},
   "outputs": [],
   "source": [
    "# driver.close()"
   ]
  },
  {
   "cell_type": "code",
   "execution_count": null,
   "id": "99928e39",
   "metadata": {},
   "outputs": [],
   "source": [
    "return_elements = html_soup_return.find_all(\"li\",id=re.compile(\"slice1Flight\\d\"))\n",
    "i = 0\n",
    "for x in return_elements:\n",
    "#     list_elements[i] = re.search(\"<li\\s*>\\w\",str(x.prettify()))\n",
    "#     return_elements[i] = re.findall(\"<li.*?>\",str(x.prettify()))[0]\n",
    "    return_elements[i] = re.findall(\"<li[^>]+flight-search-results[^>]+>\",str(x))\n",
    "    print(f\"{i}: {return_elements[i]}\")\n",
    "    i += 1\n",
    "    \n",
    "return_elements = html_soup_return.find_all(\"li\",id=re.compile(\"slice1Flight\\d\"))"
   ]
  },
  {
   "cell_type": "code",
   "execution_count": null,
   "id": "19bc8260",
   "metadata": {},
   "outputs": [],
   "source": [
    "'''\n",
    "<li\n",
    "data-arrivaltime=\"06-26-2022 08:25:00\"\n",
    "data-departuretime=\"06-26-2022 07:25:00\"\n",
    "data-flightindex=\"6\"\n",
    "data-lowestfare=\"666.00\"\n",
    "data-tripprice=\"666.00\"\n",
    "data-tripstops=\"0\"\n",
    "data-triptime=\"180\"\n",
    "'''\n",
    "all_keys = [\n",
    "    \"data-arrivaltime\",\n",
    "    \"data-departuretime\",\n",
    "    \"data-flightindex\",\n",
    "    \"data-lowestfare\",\n",
    "    \"data-tripprice\",\n",
    "    \"data-tripstops\",\n",
    "    \"data-triptime\",\n",
    "]\n",
    "# x.find('li')[\"aria-describedby\"]\n",
    "# return_elements[2].find_all('li', class_=\"flight-search-results\")\n",
    "dict_vals = []\n",
    "for i in return_elements:\n",
    "    a = {}\n",
    "    for x in all_keys:\n",
    "        a[x] = i[x]\n",
    "    dict_vals.append(a)\n",
    "#     print(return_elements[2][x])"
   ]
  }
 ],
 "metadata": {
  "kernelspec": {
   "display_name": "PythonData",
   "language": "python",
   "name": "pythondata"
  },
  "language_info": {
   "codemirror_mode": {
    "name": "ipython",
    "version": 3
   },
   "file_extension": ".py",
   "mimetype": "text/x-python",
   "name": "python",
   "nbconvert_exporter": "python",
   "pygments_lexer": "ipython3",
   "version": "3.7.11"
  }
 },
 "nbformat": 4,
 "nbformat_minor": 5
}
