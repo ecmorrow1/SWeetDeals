{
 "cells": [
  {
   "cell_type": "code",
   "execution_count": 1,
   "id": "e0e9bce1",
   "metadata": {},
   "outputs": [
    {
     "name": "stdout",
     "output_type": "stream",
     "text": [
      "\n"
     ]
    },
    {
     "name": "stderr",
     "output_type": "stream",
     "text": [
      "[WDM] - ====== WebDriver manager ======\n",
      "INFO:WDM:====== WebDriver manager ======\n",
      "[WDM] - Current google-chrome version is 102.0.5005\n",
      "INFO:WDM:Current google-chrome version is 102.0.5005\n",
      "[WDM] - Get LATEST chromedriver version for 102.0.5005 google-chrome\n",
      "INFO:WDM:Get LATEST chromedriver version for 102.0.5005 google-chrome\n",
      "[WDM] - Driver [C:\\Users\\morroe1\\.wdm\\drivers\\chromedriver\\win32\\102.0.5005.61\\chromedriver.exe] found in cache\n",
      "INFO:WDM:Driver [C:\\Users\\morroe1\\.wdm\\drivers\\chromedriver\\win32\\102.0.5005.61\\chromedriver.exe] found in cache\n"
     ]
    }
   ],
   "source": [
    "from splinter import Browser\n",
    "from selenium import webdriver\n",
    "from bs4 import BeautifulSoup as soup\n",
    "from webdriver_manager.chrome import ChromeDriverManager\n",
    "from selenium.webdriver.common.by import By\n",
    "# import Action chains \n",
    "from selenium.webdriver.common.action_chains import ActionChains\n",
    "from selenium.webdriver.common.keys import Keys\n",
    "from selenium.webdriver.chrome.service import Service\n",
    "import regex as re\n",
    "import time\n",
    "import random\n",
    "\n",
    "# create webdriver object\n",
    "driver = webdriver.Chrome(service=Service(ChromeDriverManager().install()))\n",
    "driver.maximize_window()\n",
    "   \n",
    "# create action chain object\n",
    "action = ActionChains(driver)"
   ]
  },
  {
   "cell_type": "code",
   "execution_count": 2,
   "id": "9f97917a",
   "metadata": {},
   "outputs": [],
   "source": [
    "# navigate to website\n",
    "driver.get(\"https://www.aa.com/booking/find-flights\")\n",
    "time.sleep(random.uniform(3.072618165231841,5.9364916385))\n",
    "# driver.get(\"https://www.southwest.com/\")\n",
    "# time.sleep(random.uniform(3.072618165231841,5.9364916385))"
   ]
  },
  {
   "cell_type": "code",
   "execution_count": 3,
   "id": "b14d479f",
   "metadata": {},
   "outputs": [],
   "source": [
    "from_airport = \"SNA\"\n",
    "to_airport = \"DFW\""
   ]
  },
  {
   "cell_type": "code",
   "execution_count": 4,
   "id": "c4059a68",
   "metadata": {},
   "outputs": [],
   "source": [
    "depart_date = \"06/24/2022\"\n",
    "return_date = \"06/26/2022\""
   ]
  },
  {
   "cell_type": "code",
   "execution_count": 5,
   "id": "de276aff",
   "metadata": {},
   "outputs": [],
   "source": [
    "def button_press(action):\n",
    "    if action == \"keystroke\":\n",
    "        return random.uniform(.111315816564,.29978136531)\n",
    "    elif action == \"enter_search\":\n",
    "        return random.uniform(34.6551845131843, 37.3189651876)\n",
    "    else :\n",
    "        return random.uniform(.3098741610684,.5098135130)"
   ]
  },
  {
   "cell_type": "code",
   "execution_count": 6,
   "id": "5e45cfef",
   "metadata": {},
   "outputs": [],
   "source": [
    "def set_time_of_day(element):\n",
    "    \n",
    "    # Select the element\n",
    "    action.move_to_element(element).perform()\n",
    "    time.sleep(button_press(0))\n",
    "    action.click(element).perform()\n",
    "    time.sleep(button_press(0))\n",
    "\n",
    "    # Move down to \"Early Evening\"\n",
    "    for x in range(0,4):\n",
    "        action.send_keys(Keys.DOWN)\n",
    "        time.sleep(button_press(\"keystroke\"))\n",
    "\n",
    "    action.click(element).perform()\n",
    "    time.sleep(button_press(0))"
   ]
  },
  {
   "cell_type": "code",
   "execution_count": 7,
   "id": "6dcdd455",
   "metadata": {},
   "outputs": [],
   "source": [
    "def enter_airport(airport,element):\n",
    "    action.move_to_element(element).perform()\n",
    "    time.sleep(button_press(0))\n",
    "\n",
    "    action.click(element).perform()\n",
    "    time.sleep(button_press(0))\n",
    "\n",
    "    for x in range(0,3):\n",
    "        action.send_keys(Keys.BACKSPACE).perform()\n",
    "        time.sleep(button_press(\"keystroke\"))\n",
    "\n",
    "    for letter in airport:\n",
    "        action.send_keys(letter).perform()\n",
    "        time.sleep(button_press(\"keystroke\"))\n",
    "\n",
    "    time.sleep(button_press(0))  "
   ]
  },
  {
   "cell_type": "code",
   "execution_count": 8,
   "id": "bc06676e",
   "metadata": {},
   "outputs": [],
   "source": [
    "def enter_dates(date,element):\n",
    "    action.move_to_element(element).perform()\n",
    "    time.sleep(button_press(0))\n",
    "    \n",
    "    action.click(element).perform()\n",
    "    time.sleep(button_press(0))\n",
    "\n",
    "    for letter in date:\n",
    "        action.send_keys(letter).perform()\n",
    "        time.sleep(button_press(\"keystroke\"))\n",
    "        \n",
    "    time.sleep(button_press(0))  "
   ]
  },
  {
   "cell_type": "code",
   "execution_count": 9,
   "id": "8bd4ae68",
   "metadata": {},
   "outputs": [],
   "source": [
    "# Set Time of Day for Departure and Return\n",
    "set_time_of_day(driver.find_element(by=By.XPATH,value='//*[@id=\"segments0.travelTime\"]'))\n",
    "set_time_of_day(driver.find_element(by=By.XPATH,value='//*[@id=\"segments1.travelTime\"]'))"
   ]
  },
  {
   "cell_type": "code",
   "execution_count": null,
   "id": "064452c7",
   "metadata": {},
   "outputs": [],
   "source": [
    "# Set the travel dates\n",
    "enter_dates(depart_date,driver.find_element(by=By.XPATH,value='//*[@id=\"segments0.travelDate\"]'))\n",
    "enter_dates(return_date,driver.find_element(by=By.XPATH,value='//*[@id=\"segments1.travelDate\"]'))"
   ]
  },
  {
   "cell_type": "code",
   "execution_count": null,
   "id": "b788a95b",
   "metadata": {},
   "outputs": [],
   "source": [
    "# Set the airports\n",
    "enter_airport(from_airport,driver.find_element(by=By.XPATH,value=('//*[@id=\"segments0.origin\"]')))\n",
    "enter_airport(to_airport,driver.find_element(by=By.XPATH,value=('//*[@id=\"segments0.destination\"]')))"
   ]
  },
  {
   "cell_type": "code",
   "execution_count": null,
   "id": "16886f70",
   "metadata": {},
   "outputs": [],
   "source": [
    "# Hitting the ENTER key while still in the airports field will execute a search\n",
    "action.send_keys(Keys.ENTER).perform()\n",
    "time.sleep(button_press(\"enter_search\"))"
   ]
  },
  {
   "cell_type": "code",
   "execution_count": null,
   "id": "96b87287",
   "metadata": {},
   "outputs": [],
   "source": [
    "# Get the html from the page\n",
    "html = driver.page_source\n",
    "html_soup = soup(html,'html.parser')"
   ]
  },
  {
   "cell_type": "code",
   "execution_count": null,
   "id": "a72b45d6",
   "metadata": {},
   "outputs": [],
   "source": [
    "# Identifying the list elements that contain flight and price information\n",
    "list_elements = html_soup.find_all(\"li\",id=re.compile(\"slice0Flight\\d\"))\n",
    "\n",
    "i = 0\n",
    "for x in list_elements:\n",
    "#     list_elements[i] = re.search(\"<li\\s*>\\w\",str(x.prettify()))\n",
    "    list_elements[i] = re.findall(\"<li.*?>\",str(x.prettify()))[0]\n",
    "    print(f\"{i}: {list_elements[i]}\")\n",
    "    i += 1"
   ]
  },
  {
   "cell_type": "code",
   "execution_count": null,
   "id": "8d59f795",
   "metadata": {},
   "outputs": [],
   "source": []
  },
  {
   "cell_type": "code",
   "execution_count": null,
   "id": "c9c78a85",
   "metadata": {},
   "outputs": [],
   "source": [
    "#This tool solely used in early dev for identifying html elemnts that contain information\n",
    "\n",
    "\n",
    "# button_elements = html_soup.findAll('button')\n",
    "# i = 0\n",
    "# for x in button_elements:\n",
    "#     print(f\"{i}: {x}\")\n",
    "#     i += 1"
   ]
  },
  {
   "cell_type": "code",
   "execution_count": null,
   "id": "dd121b33",
   "metadata": {},
   "outputs": [],
   "source": [
    "# driver.close()"
   ]
  },
  {
   "cell_type": "code",
   "execution_count": null,
   "id": "9453b8f0",
   "metadata": {},
   "outputs": [],
   "source": []
  }
 ],
 "metadata": {
  "kernelspec": {
   "display_name": "PythonData",
   "language": "python",
   "name": "pythondata"
  },
  "language_info": {
   "codemirror_mode": {
    "name": "ipython",
    "version": 3
   },
   "file_extension": ".py",
   "mimetype": "text/x-python",
   "name": "python",
   "nbconvert_exporter": "python",
   "pygments_lexer": "ipython3",
   "version": "3.7.11"
  }
 },
 "nbformat": 4,
 "nbformat_minor": 5
}
