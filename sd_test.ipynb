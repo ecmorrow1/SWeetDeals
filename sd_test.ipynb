{
 "cells": [
  {
   "cell_type": "code",
   "execution_count": 1,
   "id": "6579fd88",
   "metadata": {},
   "outputs": [],
   "source": [
    "#Import Dependencies\n",
    "from selenium.webdriver.common.action_chains import ActionChains\n",
    "from webdriver_manager.chrome import ChromeDriverManager\n",
    "from selenium.webdriver.chrome.service import Service\n",
    "from selenium.webdriver.common.keys import Keys\n",
    "from selenium.webdriver.common.by import By\n",
    "from bs4 import BeautifulSoup as soup\n",
    "from selenium import webdriver\n",
    "from splinter import Browser\n",
    "import pandas as pd\n",
    "import numpy as np\n",
    "import regex as re\n",
    "import datetime\n",
    "import random\n",
    "import time"
   ]
  },
  {
   "cell_type": "code",
   "execution_count": 2,
   "id": "f0483b2d",
   "metadata": {},
   "outputs": [],
   "source": [
    "def button_press(action):\n",
    "    if action == \"keystroke\":\n",
    "        return random.uniform(.091315816564,.15978136531)\n",
    "    elif action == \"enter_search\":\n",
    "        # This value needs to stay above 30 seconds to accommodate for the pause the website imposes when performing a search\n",
    "        return random.uniform(30.2551845131843, 33.3189651876)\n",
    "    elif action == \"fare_click\":\n",
    "        return random.uniform(1.9098741610684,2.3498135130)\n",
    "    else:\n",
    "        return random.uniform(.2098741610684,.3498135130)"
   ]
  },
  {
   "cell_type": "code",
   "execution_count": 3,
   "id": "0da327bd",
   "metadata": {},
   "outputs": [],
   "source": [
    "def get_dates(depart_day,trip_length,number_of_weeks):\n",
    "    \n",
    "    #Get today's date\n",
    "    today = datetime.date.today()+datetime.timedelta(1)\n",
    "    \n",
    "    i = 0\n",
    "    depart_ = []\n",
    "    return_ = []\n",
    "    for x in range(0,number_of_weeks):\n",
    "        # Get the next possible departure date based on the desired day of the week to leave\n",
    "        depart_.append((today + datetime.timedelta((depart_day-today.weekday()) % 7 )).strftime('%m/%d/%Y'))\n",
    "        return_.append((today + datetime.timedelta((depart_day-today.weekday()) % 7 + trip_length)).strftime('%m/%d/%Y'))\n",
    "        today = today + datetime.timedelta((depart_day-today.weekday()) % 7 + 7)\n",
    "        i += 1\n",
    "#         print(f\"{depart_[i]} : {return_[i]}\")\n",
    "        \n",
    "    return depart_,return_"
   ]
  },
  {
   "cell_type": "code",
   "execution_count": 4,
   "id": "473b7885",
   "metadata": {},
   "outputs": [],
   "source": [
    "def move_and_click(element):\n",
    "    action.move_to_element(element).perform()\n",
    "    time.sleep(button_press(0))\n",
    "    \n",
    "    action.click(element).perform()\n",
    "    time.sleep(button_press(0))   "
   ]
  },
  {
   "cell_type": "code",
   "execution_count": 5,
   "id": "8a05ae83",
   "metadata": {},
   "outputs": [],
   "source": [
    "def set_time_of_day(element):\n",
    "    \n",
    "    # Select the element\n",
    "    move_and_click(element)\n",
    "\n",
    "#     # Move down to \"Early Evening\"\n",
    "#     for x in range(0,4):\n",
    "#         action.send_keys(Keys.DOWN)\n",
    "#         time.sleep(button_press(\"keystroke\"))\n",
    "        \n",
    "    # move up to \"All Day\"\n",
    "    for x in range(0,7):\n",
    "        action.send_keys(Keys.UP)\n",
    "        time.sleep(button_press(\"keystroke\"))\n",
    "\n",
    "    action.click(element).perform()\n",
    "    time.sleep(button_press(0))"
   ]
  },
  {
   "cell_type": "code",
   "execution_count": 6,
   "id": "d301c411",
   "metadata": {},
   "outputs": [],
   "source": [
    "def enter_airport(airport,element):\n",
    "\n",
    "    move_and_click(element)\n",
    "\n",
    "    # Delete any 3-letter airport codes that may be currently in the field\n",
    "    for x in range(0,3):\n",
    "        action.send_keys(Keys.BACKSPACE).perform()\n",
    "        time.sleep(button_press(\"keystroke\"))\n",
    "\n",
    "    # write in the new airport code\n",
    "    for letter in airport:\n",
    "        action.send_keys(letter).perform()\n",
    "        time.sleep(button_press(\"keystroke\"))\n",
    "\n",
    "    time.sleep(button_press(0))  "
   ]
  },
  {
   "cell_type": "code",
   "execution_count": 7,
   "id": "f2f76cc2",
   "metadata": {},
   "outputs": [],
   "source": [
    "def enter_dates(date,element):\n",
    "\n",
    "    move_and_click(element)\n",
    "    \n",
    "    for x in range(0,10):\n",
    "        action.send_keys(Keys.BACKSPACE).perform()\n",
    "        time.sleep(button_press(\"keystroke\"))\n",
    "    \n",
    "    for letter in date:\n",
    "        action.send_keys(letter).perform()\n",
    "        time.sleep(button_press(\"keystroke\"))\n",
    "        \n",
    "    time.sleep(button_press(0))  "
   ]
  },
  {
   "cell_type": "code",
   "execution_count": 8,
   "id": "d4b9b1ec",
   "metadata": {},
   "outputs": [],
   "source": [
    "def execute_search(home_airports,visit_airports,depart_dates,return_dates):\n",
    "\n",
    "    # navigate to the website\n",
    "    driver.get(\"https://www.aa.com/booking/find-flights\")\n",
    "    time.sleep(button_press(0))\n",
    "    \n",
    "    # Set Time of Day for Departure and Return\n",
    "    set_time_of_day(driver.find_element(by=By.XPATH,value='//*[@id=\"segments0.travelTime\"]'))\n",
    "    set_time_of_day(driver.find_element(by=By.XPATH,value='//*[@id=\"segments1.travelTime\"]'))\n",
    "    \n",
    "    for from_airport in home_airports:\n",
    "\n",
    "        # Set the home airports\n",
    "        enter_airport(from_airport,driver.find_element(by=By.XPATH,value=('//*[@id=\"segments0.origin\"]')))\n",
    "\n",
    "        for to_airport in visit_airports:\n",
    "\n",
    "            # Set the destination airport\n",
    "            enter_airport(to_airport,driver.find_element(by=By.XPATH,value=('//*[@id=\"segments0.destination\"]')))\n",
    "            \n",
    "            for (depart_date,return_date) in zip(depart_dates,return_dates):\n",
    "\n",
    "                # Set the travel dates\n",
    "                enter_dates(depart_date,driver.find_element(by=By.XPATH,value='//*[@id=\"segments0.travelDate\"]'))\n",
    "                enter_dates(return_date,driver.find_element(by=By.XPATH,value='//*[@id=\"segments1.travelDate\"]'))\n",
    "\n",
    "                # Hitting the ENTER key while still in the airports field will execute a search\n",
    "                action.send_keys(Keys.ENTER).perform()\n",
    "                time.sleep(button_press(\"enter_search\"))\n",
    "                \n",
    "                # Read the fares that have been generated by the search\n",
    "                departing_fare_element,returning_fare_element = read_fares()\n",
    "                \n",
    "                # Create a list to be the new line of the dataframe\n",
    "                new_df_line = [datetime.datetime.now().strftime('%Y-%m-%d %H:%M:%S'),\n",
    "                               f\"{from_airport}-{to_airport}-{depart_date}-{return_date}\",\n",
    "                               from_airport,\n",
    "                               to_airport,\n",
    "                               depart_date,\n",
    "                               return_date\n",
    "                              ]\n",
    "                \n",
    "                # Build the rest of the line in the new df\n",
    "                build_df(new_df_line,departing_fare_element,returning_fare_element)\n",
    "                \n",
    "                # navigate to the website\n",
    "                driver.get(\"https://www.aa.com/booking/find-flights\")\n",
    "                time.sleep(button_press(0))\n",
    "\n",
    "\n"
   ]
  },
  {
   "cell_type": "code",
   "execution_count": 9,
   "id": "3f5b3c10",
   "metadata": {},
   "outputs": [],
   "source": [
    "def get_trip_length(x):\n",
    "    x = re.findall(\"<li.*?>\",str(x.prettify()))[0]\n",
    "    x = re.findall(\"data-triptime=\\\".*?\\\"\",x)[0]\n",
    "    return float(re.findall(\"[0-9]+\",x)[0])"
   ]
  },
  {
   "cell_type": "code",
   "execution_count": 10,
   "id": "00384836",
   "metadata": {},
   "outputs": [],
   "source": [
    "def get_max_trip_length(list_elements):\n",
    "    \n",
    "    shortest_trip_length = 2**15 # minutes\n",
    "    for x in list_elements:\n",
    "        x = get_trip_length(x)\n",
    "        if x < shortest_trip_length:\n",
    "            shortest_trip_length = x\n",
    "    \n",
    "    # After finding the shortest trip, return a maximum trip length of 2x the shortest\n",
    "    return shortest_trip_length * 2"
   ]
  },
  {
   "cell_type": "code",
   "execution_count": 11,
   "id": "36ee18e3",
   "metadata": {},
   "outputs": [],
   "source": [
    "def trip_duration_filter(list_elements):\n",
    "    \n",
    "    # Get the maximum trip length\n",
    "    max_trip_length = get_max_trip_length(list_elements)\n",
    "    \n",
    "    i = 0\n",
    "    duration_filtered_elements = []\n",
    "    for x in list_elements:\n",
    "        y = get_trip_length(x)\n",
    "        if y < max_trip_length:\n",
    "            duration_filtered_elements.append(x)\n",
    "        i += 1\n",
    "    \n",
    "    return duration_filtered_elements"
   ]
  },
  {
   "cell_type": "code",
   "execution_count": 12,
   "id": "6a7c538a",
   "metadata": {},
   "outputs": [],
   "source": [
    "def get_lowest_fare(list_elements):\n",
    "    i = 0\n",
    "    lowest_fare = 2**15\n",
    "    for x in list_elements:\n",
    "        x = re.findall(\"<li.*?>\",str(x.prettify()))[0]\n",
    "        new_lowest_fare = re.findall(\"data-lowestfare=\\\".*?\\\"\",x)[0]\n",
    "        new_lowest_fare = float(re.findall(\"[0-9]+\",new_lowest_fare)[0])\n",
    "        if new_lowest_fare < lowest_fare:\n",
    "            lowest_fare = new_lowest_fare\n",
    "            lowest_fare_element = list_elements[i]\n",
    "        i += 1\n",
    "    return lowest_fare_element"
   ]
  },
  {
   "cell_type": "code",
   "execution_count": 13,
   "id": "1d3dbc09",
   "metadata": {},
   "outputs": [],
   "source": [
    "def get_fare_button(departing_fare_element):\n",
    "    \n",
    "    lowest_fare_element = re.findall(\"<button.*?MainCabin.*?>\",str(departing_fare_element.prettify()))[0]\n",
    "    lowest_fare_id = re.findall(\"id=\\\"slice\\dFlight[0-9]+MainCabin\\\"\",lowest_fare_element)[0]\n",
    "    lowest_fare_id = f\"//*[@{lowest_fare_id}]\"\n",
    "\n",
    "    return driver.find_element(by=By.XPATH,value=lowest_fare_id)"
   ]
  },
  {
   "cell_type": "code",
   "execution_count": 14,
   "id": "a06c255b",
   "metadata": {},
   "outputs": [],
   "source": [
    "def sort_by_price():\n",
    "    # Select the sorting menu\n",
    "    sort_menu_element = driver.find_element(By.XPATH,value='//*[@id=\"searchResultsSortOptions\"]')\n",
    "    move_and_click(sort_menu_element)\n",
    "\n",
    "    # Move to \"Price (low to high)\". Scroll to top and then back down 2 lines\n",
    "    for x in range(0,8):\n",
    "        action.send_keys(Keys.UP)\n",
    "        time.sleep(button_press(\"keystroke\"))\n",
    "\n",
    "    for x in range(0,2):\n",
    "        action.send_keys(Keys.DOWN)\n",
    "        time.sleep(button_press(\"keystroke\"))\n",
    "\n",
    "    action.click(sort_menu_element).perform()\n",
    "    time.sleep(button_press(0))"
   ]
  },
  {
   "cell_type": "code",
   "execution_count": 15,
   "id": "62147c2f",
   "metadata": {},
   "outputs": [],
   "source": [
    "def build_df(new_df_line,departing_fare_element,returning_fare_element):\n",
    "    \n",
    "    # Set the pattern for finding everything between quotation marks\n",
    "    pattern = \"\\\"(.*?)\\\"\"\n",
    "\n",
    "    # Add the total price data from the return flight to the list\n",
    "    new_df_line.append(re.findall(pattern,re.findall(\"data-tripprice=\\\".*?\\\"\",str(returning_fare_element))[0])[0])\n",
    "\n",
    "    # Add the departing flight data to the list\n",
    "    new_df_line.append(re.findall(pattern,re.findall(\"data-departuretime=\\\".*?\\\"\",str(departing_fare_element))[0])[0])\n",
    "    new_df_line.append(re.findall(pattern,re.findall(\"data-triptime=\\\".*?\\\"\",str(departing_fare_element))[0])[0])\n",
    "    new_df_line.append(re.findall(pattern,re.findall(\"data-tripstops=\\\".*?\\\"\",str(departing_fare_element))[0])[0])\n",
    "\n",
    "    # Add the returning flight data to the list\n",
    "    new_df_line.append(re.findall(pattern,re.findall(\"data-departuretime=\\\".*?\\\"\",str(returning_fare_element))[0])[0])\n",
    "    new_df_line.append(re.findall(pattern,re.findall(\"data-triptime=\\\".*?\\\"\",str(returning_fare_element))[0])[0])\n",
    "    new_df_line.append(re.findall(pattern,re.findall(\"data-tripstops=\\\".*?\\\"\",str(returning_fare_element))[0])[0])\n",
    "    new_df_line\n",
    "    \n",
    "    # Write the new dataframe line to the next line in the dataframe\n",
    "    df.loc[len(df)] = new_df_line\n",
    "#     df.head()"
   ]
  },
  {
   "cell_type": "code",
   "execution_count": 16,
   "id": "e3a21227",
   "metadata": {},
   "outputs": [],
   "source": [
    "def read_fares():\n",
    "    \n",
    "    # Get the html from the page\n",
    "    html = driver.page_source\n",
    "    html_soup = soup(html,'html.parser')\n",
    "    \n",
    "    # Identifying the list elements that contain flight and price information\n",
    "    depart_elements = trip_duration_filter(html_soup.find_all(\"li\",id=re.compile(\"slice0Flight[0-9]+\")))\n",
    "    \n",
    "    # Get the element for the lowest fare on the departure page\n",
    "    departing_fare_element = get_lowest_fare(depart_elements)\n",
    "    \n",
    "    # Get the button for the lowest fare element\n",
    "    departing_fare_button = get_fare_button(departing_fare_element)\n",
    "\n",
    "    # sort the results by price, so that the lowest price is no longer hidden\n",
    "    sort_by_price()\n",
    "    \n",
    "    # Click the button for the lowest fare flight option\n",
    "    move_and_click(departing_fare_button)\n",
    "    button_press(\"fare_click\")\n",
    "        \n",
    "    # Get the html from the page\n",
    "    html = driver.page_source\n",
    "    html_soup = soup(html,'html.parser')\n",
    "    \n",
    "    # Identifying the list elements that contain flight and price information\n",
    "    return_elements = trip_duration_filter(html_soup.find_all(\"li\",id=re.compile(\"slice1Flight[0-9]+\")))\n",
    "    \n",
    "    # Get the element for the lowest fare on the return page\n",
    "    returning_fare_element = get_lowest_fare(return_elements)\n",
    "    \n",
    "    return departing_fare_element,returning_fare_element"
   ]
  },
  {
   "cell_type": "code",
   "execution_count": 17,
   "id": "93df4269",
   "metadata": {},
   "outputs": [
    {
     "name": "stdout",
     "output_type": "stream",
     "text": [
      "\n"
     ]
    },
    {
     "name": "stderr",
     "output_type": "stream",
     "text": [
      "[WDM] - ====== WebDriver manager ======\n",
      "INFO:WDM:====== WebDriver manager ======\n",
      "[WDM] - Current google-chrome version is 102.0.5005\n",
      "INFO:WDM:Current google-chrome version is 102.0.5005\n",
      "[WDM] - Get LATEST chromedriver version for 102.0.5005 google-chrome\n",
      "INFO:WDM:Get LATEST chromedriver version for 102.0.5005 google-chrome\n",
      "[WDM] - Driver [C:\\Users\\morroe1\\.wdm\\drivers\\chromedriver\\win32\\102.0.5005.61\\chromedriver.exe] found in cache\n",
      "INFO:WDM:Driver [C:\\Users\\morroe1\\.wdm\\drivers\\chromedriver\\win32\\102.0.5005.61\\chromedriver.exe] found in cache\n"
     ]
    }
   ],
   "source": [
    "columns = [\"timestamp\",\"trip_id\",\"depart_airport\",\"return_airport\",\"depart_date\",\"return_date\",\"total_cost\",\"depart_datetime\",\"depart_duration\",\"depart_stops\",\"return_datetime\",\"return_duration\",\"return_stops\"]\n",
    "# columns = [\"trip_id\"]\n",
    "df = pd.DataFrame(columns=columns)\n",
    "\n",
    "# create webdriver object\n",
    "driver = webdriver.Chrome(service=Service(ChromeDriverManager().install()))\n",
    "driver.maximize_window()\n",
    "\n",
    "# create action chain object\n",
    "action = ActionChains(driver)\n",
    "\n",
    "#Define Airports to Search\n",
    "home_airports = [\"SNA\",\"LAX\"]\n",
    "visit_airports = [\"PHX\",\"ORD\"]\n",
    "\n",
    "# Python calendar elements use \"3\" to represent Thursday\n",
    "# Python calendar elements use \"4\" to represent Friday\n",
    "depart_day = 3\n",
    "trip_length = 4 # This value minus 1 gives the total number of non-travel days spent at the destination\n",
    "number_of_weeks = 26\n",
    "depart_dates,return_dates = get_dates(depart_day,trip_length,number_of_weeks)\n",
    "# print(depart_dates)\n",
    "\n",
    "# #Execute the search\n",
    "# execute_search(home_airports,visit_airports,depart_dates,return_dates)"
   ]
  },
  {
   "cell_type": "code",
   "execution_count": 18,
   "id": "d3c0be78",
   "metadata": {},
   "outputs": [
    {
     "ename": "KeyboardInterrupt",
     "evalue": "",
     "output_type": "error",
     "traceback": [
      "\u001b[1;31m---------------------------------------------------------------------------\u001b[0m",
      "\u001b[1;31mKeyboardInterrupt\u001b[0m                         Traceback (most recent call last)",
      "\u001b[1;32m~\\AppData\\Local\\Temp/ipykernel_16792/3490726505.py\u001b[0m in \u001b[0;36m<module>\u001b[1;34m\u001b[0m\n\u001b[0;32m      3\u001b[0m \u001b[1;33m\u001b[0m\u001b[0m\n\u001b[0;32m      4\u001b[0m \u001b[1;31m# Execute the search\u001b[0m\u001b[1;33m\u001b[0m\u001b[1;33m\u001b[0m\u001b[1;33m\u001b[0m\u001b[0m\n\u001b[1;32m----> 5\u001b[1;33m \u001b[0mexecute_search\u001b[0m\u001b[1;33m(\u001b[0m\u001b[0mhome_airports\u001b[0m\u001b[1;33m,\u001b[0m\u001b[0mvisit_airports\u001b[0m\u001b[1;33m,\u001b[0m\u001b[0mdepart_dates\u001b[0m\u001b[1;33m,\u001b[0m\u001b[0mreturn_dates\u001b[0m\u001b[1;33m)\u001b[0m\u001b[1;33m\u001b[0m\u001b[1;33m\u001b[0m\u001b[0m\n\u001b[0m\u001b[0;32m      6\u001b[0m \u001b[1;33m\u001b[0m\u001b[0m\n\u001b[0;32m      7\u001b[0m \u001b[1;31m# Close the driver\u001b[0m\u001b[1;33m\u001b[0m\u001b[1;33m\u001b[0m\u001b[1;33m\u001b[0m\u001b[0m\n",
      "\u001b[1;32m~\\AppData\\Local\\Temp/ipykernel_16792/2373491193.py\u001b[0m in \u001b[0;36mexecute_search\u001b[1;34m(home_airports, visit_airports, depart_dates, return_dates)\u001b[0m\n\u001b[0;32m     27\u001b[0m                 \u001b[1;31m# Hitting the ENTER key while still in the airports field will execute a search\u001b[0m\u001b[1;33m\u001b[0m\u001b[1;33m\u001b[0m\u001b[1;33m\u001b[0m\u001b[0m\n\u001b[0;32m     28\u001b[0m                 \u001b[0maction\u001b[0m\u001b[1;33m.\u001b[0m\u001b[0msend_keys\u001b[0m\u001b[1;33m(\u001b[0m\u001b[0mKeys\u001b[0m\u001b[1;33m.\u001b[0m\u001b[0mENTER\u001b[0m\u001b[1;33m)\u001b[0m\u001b[1;33m.\u001b[0m\u001b[0mperform\u001b[0m\u001b[1;33m(\u001b[0m\u001b[1;33m)\u001b[0m\u001b[1;33m\u001b[0m\u001b[1;33m\u001b[0m\u001b[0m\n\u001b[1;32m---> 29\u001b[1;33m                 \u001b[0mtime\u001b[0m\u001b[1;33m.\u001b[0m\u001b[0msleep\u001b[0m\u001b[1;33m(\u001b[0m\u001b[0mbutton_press\u001b[0m\u001b[1;33m(\u001b[0m\u001b[1;34m\"enter_search\"\u001b[0m\u001b[1;33m)\u001b[0m\u001b[1;33m)\u001b[0m\u001b[1;33m\u001b[0m\u001b[1;33m\u001b[0m\u001b[0m\n\u001b[0m\u001b[0;32m     30\u001b[0m \u001b[1;33m\u001b[0m\u001b[0m\n\u001b[0;32m     31\u001b[0m                 \u001b[1;31m# Read the fares that have been generated by the search\u001b[0m\u001b[1;33m\u001b[0m\u001b[1;33m\u001b[0m\u001b[1;33m\u001b[0m\u001b[0m\n",
      "\u001b[1;31mKeyboardInterrupt\u001b[0m: "
     ]
    }
   ],
   "source": [
    "# Get the timestamp for the save file\n",
    "analysis_time = datetime.datetime.now().strftime('%Y-%m-%d-%H-%M-%S')\n",
    "\n",
    "# Execute the search\n",
    "execute_search(home_airports,visit_airports,depart_dates,return_dates)\n",
    "\n",
    "# Close the driver\n",
    "driver.close()"
   ]
  },
  {
   "cell_type": "code",
   "execution_count": null,
   "id": "cd092ff7",
   "metadata": {},
   "outputs": [],
   "source": [
    "df.head(10)"
   ]
  },
  {
   "cell_type": "code",
   "execution_count": null,
   "id": "034f7c4b",
   "metadata": {},
   "outputs": [],
   "source": [
    "ha = \"\"\n",
    "for x in home_airports:\n",
    "    ha = ha + x\n",
    "va = \"\"\n",
    "for x in visit_airports:\n",
    "    va = va + x\n",
    "path = f\"Data/{analysis_time}_{ha}_{va}.csv\"\n",
    "df.to_csv(path,index=False)"
   ]
  },
  {
   "cell_type": "code",
   "execution_count": 22,
   "id": "56bae5c9",
   "metadata": {},
   "outputs": [
    {
     "data": {
      "text/plain": [
       "datetime.date(2022, 6, 24)"
      ]
     },
     "execution_count": 22,
     "metadata": {},
     "output_type": "execute_result"
    }
   ],
   "source": []
  },
  {
   "cell_type": "code",
   "execution_count": null,
   "id": "394ac422",
   "metadata": {},
   "outputs": [],
   "source": [
    "# columns = [\"timestamp\",\"trip_id\",\"depart_airport\",\"return_airport\",\"depart_date\",\"return_date\",\n",
    "#            \"total_cost\",\n",
    "#            \"depart_datetime\",\"depart_duration\",\"depart_stops\",\n",
    "#            \"return_datetime\",\"return_duration\",\"return_stops\"]\n",
    "# blah = re.findall(\"<li[^>]+flight-search-results[^>]+>\",str(returning_fare_element))[0]\n",
    "# # print(blah)\n",
    "# tripprice = re.findall(\"data-tripprice=\\\".*?\\\"\",blah)[0]\n",
    "# new_df_line = [\"2022-06-23 2:43:23\",\n",
    "#                \"LAX-ORD-6/23/2022\",\n",
    "#                \"LAX\",\n",
    "#                \"ORD\",\n",
    "#                \"6/23/2022\",\n",
    "#                \"6/26/2022\"\n",
    "#               ]\n",
    "\n",
    "# # Set the pattern for finding everything between quotation marks\n",
    "# pattern = \"\\\"(.*?)\\\"\"\n",
    "\n",
    "# # Add the total price data from the return flight to the list\n",
    "# new_df_line.append(re.findall(pattern,re.findall(\"data-tripprice=\\\".*?\\\"\",str(returning_fare_element))[0])[0])\n",
    "\n",
    "# # Add the departing flight data to the list\n",
    "# new_df_line.append(re.findall(pattern,re.findall(\"data-departuretime=\\\".*?\\\"\",str(departing_fare_element))[0])[0])\n",
    "# new_df_line.append(re.findall(pattern,re.findall(\"data-triptime=\\\".*?\\\"\",str(departing_fare_element))[0])[0])\n",
    "# new_df_line.append(re.findall(pattern,re.findall(\"data-tripstops=\\\".*?\\\"\",str(departing_fare_element))[0])[0])\n",
    "\n",
    "# # Add the returning flight data to the list\n",
    "# new_df_line.append(re.findall(pattern,re.findall(\"data-departuretime=\\\".*?\\\"\",str(returning_fare_element))[0])[0])\n",
    "# new_df_line.append(re.findall(pattern,re.findall(\"data-triptime=\\\".*?\\\"\",str(returning_fare_element))[0])[0])\n",
    "# new_df_line.append(re.findall(pattern,re.findall(\"data-tripstops=\\\".*?\\\"\",str(returning_fare_element))[0])[0])\n",
    "# new_df_line"
   ]
  },
  {
   "cell_type": "code",
   "execution_count": null,
   "id": "d605e9e5",
   "metadata": {},
   "outputs": [],
   "source": [
    "# # Identifying the list elements that contain flight and price information\n",
    "# list_elements = html_soup.find_all(\"li\",id=re.compile(\"slice0Flight[0-9]+\"))\n",
    "# len(list_elements)"
   ]
  },
  {
   "cell_type": "code",
   "execution_count": null,
   "id": "8c73f709",
   "metadata": {},
   "outputs": [],
   "source": [
    "# duration_filtered_elements = trip_duration_filter(html_soup.find_all(\"li\",id=re.compile(\"slice0Flight[0-9]+\")))"
   ]
  },
  {
   "cell_type": "code",
   "execution_count": null,
   "id": "a416df2f",
   "metadata": {},
   "outputs": [],
   "source": [
    "# # Identifying the list elements that contain flight and price information\n",
    "# list_elements = duration_filtered_elements\n",
    "# len(list_elements)"
   ]
  },
  {
   "cell_type": "code",
   "execution_count": null,
   "id": "d1f728d3",
   "metadata": {},
   "outputs": [],
   "source": [
    "# #     lowest_fare_element = re.findall(\"<li.*?flight-search-results.*?>\",str(departing_fare_element.prettify()))[0]\n",
    "#     lowest_fare_element = re.findall(\"<button.*?MainCabin.*?>\",str(departing_fare_element.prettify()))[0]\n",
    "# #     return lowest_fare_element\n",
    "#     lowest_fare_id = re.findall(\"id=\\\"slice\\dFlight[0-9]+MainCabin\\\"\",lowest_fare_element)[0]\n",
    "#     lowest_fare_id = f\"//*[@{lowest_fare_id}]\"\n",
    "\n",
    "#     lowest_fare_element = driver.find_element(\n",
    "#         by=By.XPATH,\n",
    "#         value=lowest_fare_id\n",
    "#     )"
   ]
  },
  {
   "cell_type": "code",
   "execution_count": null,
   "id": "a11f6a2b",
   "metadata": {},
   "outputs": [],
   "source": [
    "\n",
    "\n",
    "# i = 0\n",
    "# lowest_fare = 2**15\n",
    "# lowest_fare_element = []\n",
    "# for x in list_elements:\n",
    "#     list_elements[i] = re.findall(\"<li.*?>\",str(x.prettify()))[0]\n",
    "#     new_lowest_fare = re.findall(\"data-lowestfare=\\\".*?\\\"\",list_elements[i])[0]\n",
    "#     new_lowest_fare = float(re.findall(\"[0-9]+\",new_lowest_fare)[0])\n",
    "#     if new_lowest_fare < lowest_fare:\n",
    "#         lowest_fare = new_lowest_fare\n",
    "#         lowest_fare_element.append(x)\n",
    "# #     print(f\"{i}: {list_elements[i]}\")\n",
    "# #     print(lowest_fare_element)\n",
    "#     i += 1\n",
    "    \n",
    "# i = 0\n",
    "# lowest_fare = 2**15\n",
    "# for x in list_elements:\n",
    "#     x = re.findall(\"<li.*?>\",str(x.prettify()))[0]\n",
    "#     new_lowest_fare = re.findall(\"data-lowestfare=\\\".*?\\\"\",x)[0]\n",
    "#     new_lowest_fare = float(re.findall(\"[0-9]+\",new_lowest_fare)[0])\n",
    "#     if new_lowest_fare < lowest_fare:\n",
    "#         lowest_fare = new_lowest_fare\n",
    "#         lowest_fare_element = list_elements[i]\n",
    "# #     print(f\"{i}: {list_elements[i]}\")\n",
    "#     i += 1\n",
    "# print(lowest_fare_element)\n",
    "\n",
    "# lowest_fare_element = re.findall(\"<button.*?MainCabin.*?>\",str(lowest_fare_element.prettify()))[0]\n",
    "# # print(lowest_fare_element)\n",
    "\n",
    "# lowest_fare_id = re.findall(\"id=\\\"slice\\dFlight[0-9]+MainCabin\\\"\",lowest_fare_element)[0]\n",
    "# # print(lowest_fare_id)\n",
    "# lowest_fare_id = f\"//*[@{lowest_fare_id}]\"\n",
    "# # print(lowest_fare_id)\n",
    "\n",
    "# lowest_fare_element = driver.find_element(\n",
    "#     by=By.XPATH,\n",
    "#     value=lowest_fare_id\n",
    "# )\n",
    "# print(lowest_fare_element)"
   ]
  },
  {
   "cell_type": "code",
   "execution_count": null,
   "id": "13f177bc",
   "metadata": {},
   "outputs": [],
   "source": [
    "# # sort the results by price, so that the lowest price is no longer hidden\n",
    "# sort_menu_element = driver.find_element(By.XPATH,value='//*[@id=\"searchResultsSortOptions\"]')\n",
    "# move_and_click(sort_menu_element)\n",
    "\n",
    "# # Move down to \"Price (low to high)\"\n",
    "# for x in range(0,2):\n",
    "#     action.send_keys(Keys.DOWN)\n",
    "#     time.sleep(button_press(\"keystroke\"))\n",
    "\n",
    "# action.click(sort_menu_element).perform()\n",
    "# time.sleep(button_press(0))\n",
    "    \n",
    "# # Click the button for the lowest flight option\n",
    "# move_and_click(lowest_fare_element)"
   ]
  },
  {
   "cell_type": "code",
   "execution_count": null,
   "id": "db75a7dd",
   "metadata": {},
   "outputs": [],
   "source": [
    "# Identifying the list elements that contain flight and price information for return flights\n",
    "# # Get the html from the page\n",
    "# html_return = driver.page_source\n",
    "# html_soup_return = soup(html_return,'html.parser')\n",
    "\n",
    "# return_elements = html_soup_return.find_all(\"li\",id=re.compile(\"slice1Flight\\d\"))\n",
    "\n",
    "# i = 0\n",
    "# for x in return_elements:\n",
    "# #     list_elements[i] = re.search(\"<li\\s*>\\w\",str(x.prettify()))\n",
    "#     return_elements[i] = re.findall(\"<li.*?>\",str(x.prettify()))[0]\n",
    "#     print(f\"{i}: {return_elements[i]}\")\n",
    "#     i += 1"
   ]
  },
  {
   "cell_type": "code",
   "execution_count": null,
   "id": "82c5da8e",
   "metadata": {},
   "outputs": [],
   "source": [
    "#This tool solely used in early dev for identifying html elemnts that contain information\n",
    "\n",
    "\n",
    "# button_elements = html_soup.findAll('button')\n",
    "# i = 0\n",
    "# for x in button_elements:\n",
    "#     print(f\"{i}: {x}\")\n",
    "#     i += 1"
   ]
  },
  {
   "cell_type": "code",
   "execution_count": null,
   "id": "840418cd",
   "metadata": {},
   "outputs": [],
   "source": [
    "# driver.close()"
   ]
  },
  {
   "cell_type": "code",
   "execution_count": null,
   "id": "4656b459",
   "metadata": {},
   "outputs": [],
   "source": [
    "# return_elements = html_soup_return.find_all(\"li\",id=re.compile(\"slice1Flight\\d\"))\n",
    "# i = 0\n",
    "# for x in return_elements:\n",
    "# #     list_elements[i] = re.search(\"<li\\s*>\\w\",str(x.prettify()))\n",
    "# #     return_elements[i] = re.findall(\"<li.*?>\",str(x.prettify()))[0]\n",
    "#     return_elements[i] = re.findall(\"<li[^>]+flight-search-results[^>]+>\",str(x))\n",
    "#     print(f\"{i}: {return_elements[i]}\")\n",
    "#     i += 1\n",
    "    \n",
    "# return_elements = html_soup_return.find_all(\"li\",id=re.compile(\"slice1Flight\\d\"))"
   ]
  },
  {
   "cell_type": "code",
   "execution_count": null,
   "id": "e082d7f3",
   "metadata": {},
   "outputs": [],
   "source": [
    "# '''\n",
    "# <li\n",
    "# data-arrivaltime=\"06-26-2022 08:25:00\"\n",
    "# data-departuretime=\"06-26-2022 07:25:00\"\n",
    "# data-flightindex=\"6\"\n",
    "# data-lowestfare=\"666.00\"\n",
    "# data-tripprice=\"666.00\"\n",
    "# data-tripstops=\"0\"\n",
    "# data-triptime=\"180\"\n",
    "# '''\n",
    "# all_keys = [\n",
    "#     \"data-arrivaltime\",\n",
    "#     \"data-departuretime\",\n",
    "#     \"data-flightindex\",\n",
    "#     \"data-lowestfare\",\n",
    "#     \"data-tripprice\",\n",
    "#     \"data-tripstops\",\n",
    "#     \"data-triptime\",\n",
    "# ]\n",
    "# # x.find('li')[\"aria-describedby\"]\n",
    "# # return_elements[2].find_all('li', class_=\"flight-search-results\")\n",
    "# dict_vals = []\n",
    "# for i in return_elements:\n",
    "#     a = {}\n",
    "#     for x in all_keys:\n",
    "#         a[x] = i[x]\n",
    "#     dict_vals.append(a)\n",
    "# #     print(return_elements[2][x])"
   ]
  }
 ],
 "metadata": {
  "kernelspec": {
   "display_name": "PythonData",
   "language": "python",
   "name": "pythondata"
  },
  "language_info": {
   "codemirror_mode": {
    "name": "ipython",
    "version": 3
   },
   "file_extension": ".py",
   "mimetype": "text/x-python",
   "name": "python",
   "nbconvert_exporter": "python",
   "pygments_lexer": "ipython3",
   "version": "3.7.11"
  }
 },
 "nbformat": 4,
 "nbformat_minor": 5
}
