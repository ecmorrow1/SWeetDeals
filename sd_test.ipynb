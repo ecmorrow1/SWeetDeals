{
 "cells": [
  {
   "cell_type": "code",
   "execution_count": 1,
   "id": "caf72af9",
   "metadata": {},
   "outputs": [
    {
     "name": "stdout",
     "output_type": "stream",
     "text": [
      "\n"
     ]
    },
    {
     "name": "stderr",
     "output_type": "stream",
     "text": [
      "[WDM] - ====== WebDriver manager ======\n",
      "INFO:WDM:====== WebDriver manager ======\n",
      "[WDM] - Current google-chrome version is 102.0.5005\n",
      "INFO:WDM:Current google-chrome version is 102.0.5005\n",
      "[WDM] - Get LATEST chromedriver version for 102.0.5005 google-chrome\n",
      "INFO:WDM:Get LATEST chromedriver version for 102.0.5005 google-chrome\n",
      "[WDM] - Driver [C:\\Users\\morroe1\\.wdm\\drivers\\chromedriver\\win32\\102.0.5005.61\\chromedriver.exe] found in cache\n",
      "INFO:WDM:Driver [C:\\Users\\morroe1\\.wdm\\drivers\\chromedriver\\win32\\102.0.5005.61\\chromedriver.exe] found in cache\n"
     ]
    }
   ],
   "source": [
    "from splinter import Browser\n",
    "from selenium import webdriver\n",
    "from bs4 import BeautifulSoup as soup\n",
    "from webdriver_manager.chrome import ChromeDriverManager\n",
    "from selenium.webdriver.common.by import By\n",
    "# import Action chains \n",
    "from selenium.webdriver.common.action_chains import ActionChains\n",
    "from selenium.webdriver.common.keys import Keys\n",
    "from selenium.webdriver.chrome.service import Service\n",
    "import time\n",
    "import random\n",
    "\n",
    "# create webdriver object\n",
    "driver = webdriver.Chrome(service=Service(ChromeDriverManager().install()))\n",
    "driver.maximize_window()\n",
    "   \n",
    "# create action chain object\n",
    "action = ActionChains(driver)"
   ]
  },
  {
   "cell_type": "code",
   "execution_count": 2,
   "id": "ec0d2db5",
   "metadata": {},
   "outputs": [],
   "source": [
    "# navigate to website\n",
    "driver.get(\"https://www.aa.com/booking/find-flights\")\n",
    "time.sleep(random.uniform(3.072618165231841,5.9364916385))\n",
    "# driver.get(\"https://www.southwest.com/\")\n",
    "# time.sleep(random.uniform(3.072618165231841,5.9364916385))"
   ]
  },
  {
   "cell_type": "code",
   "execution_count": 3,
   "id": "0f96a1e9",
   "metadata": {},
   "outputs": [],
   "source": [
    "from_airport = \"SNA\"\n",
    "to_airport = \"DFW\""
   ]
  },
  {
   "cell_type": "code",
   "execution_count": 4,
   "id": "68d37b35",
   "metadata": {},
   "outputs": [],
   "source": [
    "def button_press(action):\n",
    "    if action == \"keystroke\":\n",
    "        return random.uniform(.111315816564,.29978136531)\n",
    "    else :\n",
    "        return random.uniform(.3698741610684,.5998135130)"
   ]
  },
  {
   "cell_type": "code",
   "execution_count": 5,
   "id": "539e1bb3",
   "metadata": {},
   "outputs": [],
   "source": [
    "def set_time_of_day(element):\n",
    "    \n",
    "    # Select the element\n",
    "    action.move_to_element(element).perform()\n",
    "    time.sleep(button_press(0))\n",
    "    action.click(element).perform()\n",
    "    time.sleep(button_press(0))\n",
    "\n",
    "    # Move down to \"Early Evening\"\n",
    "    for x in range(0,4):\n",
    "        action.send_keys(Keys.DOWN)\n",
    "        time.sleep(button_press(\"keystroke\"))\n",
    "\n",
    "    action.click(element).perform()\n",
    "    time.sleep(button_press(0))"
   ]
  },
  {
   "cell_type": "code",
   "execution_count": 6,
   "id": "d09f8a78",
   "metadata": {},
   "outputs": [],
   "source": [
    "# Set Time of Day for Departure and Return\n",
    "set_time_of_day(driver.find_element(by=By.XPATH,value='//*[@id=\"segments0.travelTime\"]'))\n",
    "set_time_of_day(driver.find_element(by=By.XPATH,value='//*[@id=\"segments1.travelTime\"]'))"
   ]
  },
  {
   "cell_type": "code",
   "execution_count": null,
   "id": "1ce90577",
   "metadata": {},
   "outputs": [],
   "source": []
  },
  {
   "cell_type": "code",
   "execution_count": null,
   "id": "fae29688",
   "metadata": {},
   "outputs": [],
   "source": []
  },
  {
   "cell_type": "code",
   "execution_count": 7,
   "id": "6de6a75e",
   "metadata": {},
   "outputs": [],
   "source": [
    "# Populate the \"FROM\" field\n",
    "from_element = driver.find_element(by=By.XPATH,value=('//*[@id=\"segments0.origin\"]'))\n",
    "\n",
    "action.move_to_element(from_element).perform()\n",
    "time.sleep(button_press(0))\n",
    "\n",
    "action.click(from_element).perform()\n",
    "time.sleep(button_press(0))\n",
    "\n",
    "for x in range(0,3):\n",
    "    action.send_keys(Keys.BACKSPACE).perform()\n",
    "    time.sleep(button_press(\"keystroke\"))\n",
    "\n",
    "for letter in from_airport:\n",
    "    action.send_keys(letter).perform()\n",
    "    time.sleep(button_press(\"keystroke\"))\n",
    "\n",
    "time.sleep(button_press(0))                        "
   ]
  },
  {
   "cell_type": "code",
   "execution_count": 8,
   "id": "78299100",
   "metadata": {},
   "outputs": [],
   "source": [
    "# Populate the \"TO\" field\n",
    "to_element = driver.find_element(by=By.XPATH,value=('//*[@id=\"segments0.destination\"]'))\n",
    "\n",
    "action.move_to_element(to_element).perform()\n",
    "time.sleep(button_press(0))\n",
    "\n",
    "action.click(to_element).perform()\n",
    "time.sleep(button_press(0))\n",
    "\n",
    "for x in range(0,3):\n",
    "    action.send_keys(Keys.BACKSPACE).perform()\n",
    "    time.sleep(button_press(\"keystroke\"))\n",
    "\n",
    "for letter in to_airport:\n",
    "    action.send_keys(letter).perform()\n",
    "    time.sleep(button_press(\"keystroke\"))\n",
    "\n",
    "time.sleep(button_press(0)) "
   ]
  },
  {
   "cell_type": "code",
   "execution_count": 22,
   "id": "85978fdd",
   "metadata": {},
   "outputs": [
    {
     "ename": "AttributeError",
     "evalue": "move_to requires a WebElement",
     "output_type": "error",
     "traceback": [
      "\u001b[1;31m---------------------------------------------------------------------------\u001b[0m",
      "\u001b[1;31mAttributeError\u001b[0m                            Traceback (most recent call last)",
      "\u001b[1;32m~\\AppData\\Local\\Temp/ipykernel_1196/4293956885.py\u001b[0m in \u001b[0;36m<module>\u001b[1;34m\u001b[0m\n\u001b[0;32m     18\u001b[0m         \u001b[0mtime\u001b[0m\u001b[1;33m.\u001b[0m\u001b[0msleep\u001b[0m\u001b[1;33m(\u001b[0m\u001b[0mbutton_press\u001b[0m\u001b[1;33m(\u001b[0m\u001b[1;34m\"keystroke\"\u001b[0m\u001b[1;33m)\u001b[0m\u001b[1;33m)\u001b[0m\u001b[1;33m\u001b[0m\u001b[1;33m\u001b[0m\u001b[0m\n\u001b[0;32m     19\u001b[0m \u001b[1;33m\u001b[0m\u001b[0m\n\u001b[1;32m---> 20\u001b[1;33m     \u001b[0maction\u001b[0m\u001b[1;33m.\u001b[0m\u001b[0mclick\u001b[0m\u001b[1;33m(\u001b[0m\u001b[0mx\u001b[0m\u001b[1;33m)\u001b[0m\u001b[1;33m.\u001b[0m\u001b[0mperform\u001b[0m\u001b[1;33m(\u001b[0m\u001b[1;33m)\u001b[0m\u001b[1;33m\u001b[0m\u001b[1;33m\u001b[0m\u001b[0m\n\u001b[0m\u001b[0;32m     21\u001b[0m     \u001b[0mtime\u001b[0m\u001b[1;33m.\u001b[0m\u001b[0msleep\u001b[0m\u001b[1;33m(\u001b[0m\u001b[0mbutton_press\u001b[0m\u001b[1;33m(\u001b[0m\u001b[1;36m0\u001b[0m\u001b[1;33m)\u001b[0m\u001b[1;33m)\u001b[0m\u001b[1;33m\u001b[0m\u001b[1;33m\u001b[0m\u001b[0m\n",
      "\u001b[1;32m~\\Anaconda3\\envs\\PythonData\\lib\\site-packages\\selenium\\webdriver\\common\\action_chains.py\u001b[0m in \u001b[0;36mclick\u001b[1;34m(self, on_element)\u001b[0m\n\u001b[0;32m     93\u001b[0m         \"\"\"\n\u001b[0;32m     94\u001b[0m         \u001b[1;32mif\u001b[0m \u001b[0mon_element\u001b[0m\u001b[1;33m:\u001b[0m\u001b[1;33m\u001b[0m\u001b[1;33m\u001b[0m\u001b[0m\n\u001b[1;32m---> 95\u001b[1;33m             \u001b[0mself\u001b[0m\u001b[1;33m.\u001b[0m\u001b[0mmove_to_element\u001b[0m\u001b[1;33m(\u001b[0m\u001b[0mon_element\u001b[0m\u001b[1;33m)\u001b[0m\u001b[1;33m\u001b[0m\u001b[1;33m\u001b[0m\u001b[0m\n\u001b[0m\u001b[0;32m     96\u001b[0m \u001b[1;33m\u001b[0m\u001b[0m\n\u001b[0;32m     97\u001b[0m         \u001b[0mself\u001b[0m\u001b[1;33m.\u001b[0m\u001b[0mw3c_actions\u001b[0m\u001b[1;33m.\u001b[0m\u001b[0mpointer_action\u001b[0m\u001b[1;33m.\u001b[0m\u001b[0mclick\u001b[0m\u001b[1;33m(\u001b[0m\u001b[1;33m)\u001b[0m\u001b[1;33m\u001b[0m\u001b[1;33m\u001b[0m\u001b[0m\n",
      "\u001b[1;32m~\\Anaconda3\\envs\\PythonData\\lib\\site-packages\\selenium\\webdriver\\common\\action_chains.py\u001b[0m in \u001b[0;36mmove_to_element\u001b[1;34m(self, to_element)\u001b[0m\n\u001b[0;32m    246\u001b[0m         \"\"\"\n\u001b[0;32m    247\u001b[0m \u001b[1;33m\u001b[0m\u001b[0m\n\u001b[1;32m--> 248\u001b[1;33m         \u001b[0mself\u001b[0m\u001b[1;33m.\u001b[0m\u001b[0mw3c_actions\u001b[0m\u001b[1;33m.\u001b[0m\u001b[0mpointer_action\u001b[0m\u001b[1;33m.\u001b[0m\u001b[0mmove_to\u001b[0m\u001b[1;33m(\u001b[0m\u001b[0mto_element\u001b[0m\u001b[1;33m)\u001b[0m\u001b[1;33m\u001b[0m\u001b[1;33m\u001b[0m\u001b[0m\n\u001b[0m\u001b[0;32m    249\u001b[0m         \u001b[0mself\u001b[0m\u001b[1;33m.\u001b[0m\u001b[0mw3c_actions\u001b[0m\u001b[1;33m.\u001b[0m\u001b[0mkey_action\u001b[0m\u001b[1;33m.\u001b[0m\u001b[0mpause\u001b[0m\u001b[1;33m(\u001b[0m\u001b[1;33m)\u001b[0m\u001b[1;33m\u001b[0m\u001b[1;33m\u001b[0m\u001b[0m\n\u001b[0;32m    250\u001b[0m \u001b[1;33m\u001b[0m\u001b[0m\n",
      "\u001b[1;32m~\\Anaconda3\\envs\\PythonData\\lib\\site-packages\\selenium\\webdriver\\common\\actions\\pointer_actions.py\u001b[0m in \u001b[0;36mmove_to\u001b[1;34m(self, element, x, y, width, height, pressure, tangential_pressure, tilt_x, tilt_y, twist, altitude_angle, azimuth_angle)\u001b[0m\n\u001b[0;32m     55\u001b[0m                 altitude_angle=None, azimuth_angle=None):\n\u001b[0;32m     56\u001b[0m         \u001b[1;32mif\u001b[0m \u001b[1;32mnot\u001b[0m \u001b[0misinstance\u001b[0m\u001b[1;33m(\u001b[0m\u001b[0melement\u001b[0m\u001b[1;33m,\u001b[0m \u001b[0mWebElement\u001b[0m\u001b[1;33m)\u001b[0m\u001b[1;33m:\u001b[0m\u001b[1;33m\u001b[0m\u001b[1;33m\u001b[0m\u001b[0m\n\u001b[1;32m---> 57\u001b[1;33m             \u001b[1;32mraise\u001b[0m \u001b[0mAttributeError\u001b[0m\u001b[1;33m(\u001b[0m\u001b[1;34m\"move_to requires a WebElement\"\u001b[0m\u001b[1;33m)\u001b[0m\u001b[1;33m\u001b[0m\u001b[1;33m\u001b[0m\u001b[0m\n\u001b[0m\u001b[0;32m     58\u001b[0m \u001b[1;33m\u001b[0m\u001b[0m\n\u001b[0;32m     59\u001b[0m         \u001b[1;32mif\u001b[0m \u001b[0mx\u001b[0m \u001b[1;32mor\u001b[0m \u001b[0my\u001b[0m\u001b[1;33m:\u001b[0m\u001b[1;33m\u001b[0m\u001b[1;33m\u001b[0m\u001b[0m\n",
      "\u001b[1;31mAttributeError\u001b[0m: move_to requires a WebElement"
     ]
    }
   ],
   "source": []
  },
  {
   "cell_type": "code",
   "execution_count": null,
   "id": "dd846189",
   "metadata": {},
   "outputs": [],
   "source": []
  },
  {
   "cell_type": "code",
   "execution_count": null,
   "id": "b003df97",
   "metadata": {},
   "outputs": [],
   "source": []
  },
  {
   "cell_type": "code",
   "execution_count": null,
   "id": "26b6a8a2",
   "metadata": {},
   "outputs": [],
   "source": []
  },
  {
   "cell_type": "code",
   "execution_count": 9,
   "id": "abfb3038",
   "metadata": {},
   "outputs": [
    {
     "data": {
      "text/plain": [
       "<selenium.webdriver.remote.webelement.WebElement (session=\"25c792616b8e8d3c97cb6658f9415867\", element=\"867ad4b0-fbe2-434d-9ed5-107c9e74d7e9\")>"
      ]
     },
     "execution_count": 9,
     "metadata": {},
     "output_type": "execute_result"
    }
   ],
   "source": [
    "# AA\n",
    "submit_button = driver.find_element_by_xpath('//*[@id=\"flightSearchForm.button.reSubmit\"]')\n",
    "submit_button\n",
    "\n",
    "# Southwest\n",
    "# submit_button = driver.find_element(by=By.XPATH,value='//*[@id=\"LandingAirBookingSearchForm_submit-button\"]')\n",
    "# submit_button\n",
    "# fare_calendar = driver.find_element(by=By.XPATH,value='//*[@id=\"TabbedArea_4-panel-0\"]/div/div/div/form/ul/li[2]/a')\n",
    "# fare_calendar\n"
   ]
  },
  {
   "cell_type": "code",
   "execution_count": 10,
   "id": "4542fbf6",
   "metadata": {},
   "outputs": [],
   "source": [
    "# Execute a button push\n",
    "action.move_to_element(submit_button).perform()\n",
    "action.click(submit_button).perform()\n",
    "\n",
    "# action = ActionChains(driver)\n",
    "# action.move_to_element(fare_calendar).perform()\n",
    "# action.click(fare_calendar).perform()"
   ]
  },
  {
   "cell_type": "code",
   "execution_count": 11,
   "id": "b5f714d8",
   "metadata": {},
   "outputs": [],
   "source": []
  },
  {
   "cell_type": "code",
   "execution_count": null,
   "id": "1700e00a",
   "metadata": {},
   "outputs": [],
   "source": [
    "#This tool solely used in early dev for identifying buttons\n",
    "html = driver.page_source\n",
    "html_soup = soup(html,'html.parser')\n",
    "\n",
    "button_elements = html_soup.findAll('button')\n",
    "i = 0\n",
    "for x in button_elements:\n",
    "    print(f\"{i}: {x}\")\n",
    "    i += 1"
   ]
  },
  {
   "cell_type": "code",
   "execution_count": null,
   "id": "54fbd1ae",
   "metadata": {},
   "outputs": [],
   "source": [
    "driver.close()"
   ]
  }
 ],
 "metadata": {
  "kernelspec": {
   "display_name": "PythonData",
   "language": "python",
   "name": "pythondata"
  },
  "language_info": {
   "codemirror_mode": {
    "name": "ipython",
    "version": 3
   },
   "file_extension": ".py",
   "mimetype": "text/x-python",
   "name": "python",
   "nbconvert_exporter": "python",
   "pygments_lexer": "ipython3",
   "version": "3.7.11"
  }
 },
 "nbformat": 4,
 "nbformat_minor": 5
}
