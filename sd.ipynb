{
 "cells": [
  {
   "cell_type": "code",
   "execution_count": 29,
   "id": "45535a39",
   "metadata": {},
   "outputs": [],
   "source": [
    "from splinter import Browser\n",
    "from bs4 import BeautifulSoup as soup\n",
    "from webdriver_manager.chrome import ChromeDriverManager\n",
    "from selenium.webdriver.common.by import By\n",
    "from selenium.webdriver.common.action_chains import ActionChains\n",
    "import time\n",
    "import random"
   ]
  },
  {
   "cell_type": "code",
   "execution_count": 2,
   "id": "2d081349",
   "metadata": {},
   "outputs": [
    {
     "name": "stderr",
     "output_type": "stream",
     "text": [
      "\n",
      "\n",
      "INFO:WDM:\n",
      "\n",
      "====== WebDriver manager ======\n",
      "INFO:WDM:====== WebDriver manager ======\n",
      "Current google-chrome version is 102.0.5005\n",
      "INFO:WDM:Current google-chrome version is 102.0.5005\n",
      "Get LATEST chromedriver version for 102.0.5005 google-chrome\n",
      "INFO:WDM:Get LATEST chromedriver version for 102.0.5005 google-chrome\n",
      "Trying to download new driver from https://chromedriver.storage.googleapis.com/102.0.5005.61/chromedriver_win32.zip\n",
      "INFO:WDM:Trying to download new driver from https://chromedriver.storage.googleapis.com/102.0.5005.61/chromedriver_win32.zip\n",
      "Driver has been saved in cache [C:\\Users\\morroe1\\.wdm\\drivers\\chromedriver\\win32\\102.0.5005.61]\n",
      "INFO:WDM:Driver has been saved in cache [C:\\Users\\morroe1\\.wdm\\drivers\\chromedriver\\win32\\102.0.5005.61]\n"
     ]
    }
   ],
   "source": [
    "# Set up Splinter\n",
    "executable_path = {'executable_path': ChromeDriverManager().install()}\n",
    "browser = Browser('chrome', **executable_path, headless=False, incognito=True)"
   ]
  },
  {
   "cell_type": "code",
   "execution_count": 5,
   "id": "f24d25c8",
   "metadata": {},
   "outputs": [],
   "source": [
    "# Visit the Quotes to Scrape site\n",
    "url = 'https://www.aa.com/'\n",
    "browser.visit(url)\n",
    "time.sleep(random.uniform(3.072618165231841,5.9364916385))"
   ]
  },
  {
   "cell_type": "code",
   "execution_count": 6,
   "id": "f727c330",
   "metadata": {},
   "outputs": [],
   "source": [
    "# Parse the HTML\n",
    "html = browser.html\n",
    "html_soup = soup(html, 'html.parser')"
   ]
  },
  {
   "cell_type": "code",
   "execution_count": 25,
   "id": "f16fb5ed",
   "metadata": {},
   "outputs": [
    {
     "name": "stdout",
     "output_type": "stream",
     "text": [
      "0: <button class=\"icon-close\" id=\"globalMessageClose\" name=\"closeButton\" type=\"button\">\n",
      "<span class=\"hidden-accessible\">\n",
      "                        Close Global Alert\n",
      "                    </span>\n",
      "</button>\n",
      "1: <button class=\"btn-search widget\" id=\"aa-search-button\" type=\"submit\" value=\"Go\">\n",
      "<span aria-hidden=\"true\" class=\"icon icon-18 icon-search\"></span>\n",
      "<span class=\"hidden-accessible\">Submit search</span>\n",
      "</button>\n",
      "2: <button aria-expanded=\"false\" aria-haspopup=\"true\" data-behavior=\"toggle-nav\" href=\"#plan\" id=\"plan-travel-expander\" onclick=\"ariaExpandedSwitcher(this)\" style=\"font-size: 14px; margin-left: -14px; padding: 5px 5px 18px;\" tabindex=\"0\">Plan Travel <i aria-hidden=\"true\" class=\"icon-expand icon-large is-hidden visible-phone\"></i></button>\n",
      "3: <button aria-expanded=\"false\" aria-haspopup=\"true\" data-behavior=\"toggle-nav\" href=\"#manage\" id=\"travel-information-expander\" onclick=\"ariaExpandedSwitcher(this)\" style=\"font-size: 14px; margin-left: -38px; padding: 5px 5px 18px;\" tabindex=\"0\">Travel Information <i aria-hidden=\"true\" class=\"icon-expand icon-large is-hidden visible-phone\"></i></button>\n",
      "4: <button aria-expanded=\"false\" aria-haspopup=\"true\" data-behavior=\"toggle-nav\" href=\"#advantage\" id=\"aadvantage-expander\" onclick=\"ariaExpandedSwitcher(this)\" style=\"font-size: 14px; margin-left: -74px; padding: 5px 5px 18px;\" tabindex=\"0\">AAdvantage® <i aria-hidden=\"true\" class=\"icon-expand icon-large is-hidden visible-phone\"></i></button>\n",
      "5: <button id=\"hero-prev\">\n",
      "<img alt=\"Previous slide\" src=\"data:image/png;base64,iVBORw0KGgoAAAANSUhEUgAAAGQAAAAyCAMAAACd646MAAAAQlBMVEUAAAD///////////////////////////////////////////////////////////////////////////////////8IX9KGAAAAFXRSTlMAECAwQFBgcICQoK+wv8DP0N/g7/DPihFXAAAA90lEQVR42u2WyRaFIAxDA07gLNj//9UHK5Y0ep4r7j7HNrSxaDQaDaCzILE9SCaRkazqFk9WdYtEA4ZTRLhe9qRwoBiS5GQFB0g2rjBzs61nbEwqCy2ziMygcUm2Q0kv5dUpriSclGYFoee3VHcbddcbSIrPKxR0kujwCJPfflAulcNDpiQORmXWZVDgl8XX86TSsMbsXpEnC17gs2GKdte3H7mq2fCBXXCV+VDY7VHleDvCl/nzMpbZJMKUZFXPpqmEaS2+qTDlCbm6D35aGxem/O83m2W5QyKAg79wFkLw+MKxkX77wK/XyJ+pUfwHB3eHRqPRwA+1+BKD0ZbiIAAAAABJRU5ErkJggg==\"/>\n",
      "</button>\n",
      "6: <button id=\"hero-next\">\n",
      "<img alt=\"Next slide\" src=\"data:image/png;base64,iVBORw0KGgoAAAANSUhEUgAAAGQAAAAyCAMAAACd646MAAAAQlBMVEUAAAD///////////////////////////////////////////////////////////////////////////////////8IX9KGAAAAFXRSTlMAECAwQFBgcICQoK+wv8DP0N/g7/DPihFXAAAA90lEQVR42u2WyRaFIAxDA07gLNj//9UHK5Y0ep4r7j7HNrSxaDQaDaCzILE9SCaRkazqFk9WdYtEA4ZTRLhe9qRwoBiS5GQFB0g2rjBzs61nbEwqCy2ziMygcUm2Q0kv5dUpriSclGYFoee3VHcbddcbSIrPKxR0kujwCJPfflAulcNDpiQORmXWZVDgl8XX86TSsMbsXpEnC17gs2GKdte3H7mq2fCBXXCV+VDY7VHleDvCl/nzMpbZJMKUZFXPpqmEaS2+qTDlCbm6D35aGxem/O83m2W5QyKAg79wFkLw+MKxkX77wK/XyJ+pUfwHB3eHRqPRwA+1+BKD0ZbiIAAAAABJRU5ErkJggg==\"/>\n",
      "</button>\n",
      "7: <button class=\"pause\" id=\"hero-pause\">\n",
      "<img alt=\"Pause slideshow\" src=\"/content/images/chrome/rebrand/play-pause.png\"/>\n",
      "</button>\n",
      "8: <button class=\"ui-datepicker-trigger\" type=\"button\"><span class=\"hidden-accessible\">View Calendar: To navigate the calendar, use the shift and control keys with the arrow keys. For more information, press the question mark key.</span></button>\n",
      "9: <button class=\"ui-datepicker-trigger\" type=\"button\"><span class=\"hidden-accessible\">View Calendar: To navigate the calendar, use the shift and control keys with the arrow keys. For more information, press the question mark key.</span></button>\n",
      "10: <button class=\"btn btn-fullWidth is-hidden\" data-link=\"aavInterimMessage\" id=\"flightSearchForm.button.vacationSubmit\" style=\"display: none;\" type=\"button\">\n",
      "                    Search<span aria-hidden=\"true\" class=\"icon-newpage\"></span>\n",
      "<span class=\"hidden-accessible\">, Opens another site in a new window that may not meet accessibility guidelines.</span>\n",
      "</button>\n",
      "11: <button aria-disabled=\"false\" class=\"ui-button ui-widget ui-state-default ui-corner-all ui-button-icon-only ui-dialog-titlebar-close\" id=\"modal_deleteVPNRModalDialogClose\" role=\"button\" title=\"\" type=\"button\"><span class=\"ui-button-icon-primary ui-icon ui-icon-closethick\"></span><span class=\"ui-button-text\">Close window</span></button>\n",
      "12: <button aria-disabled=\"false\" class=\"aa-btn btn ui-button ui-widget ui-state-default ui-corner-all ui-button-text-only\" id=\"modal_deleteVPNRModalDialogButton0\" role=\"button\" type=\"button\"><span class=\"ui-button-text\">OK</span></button>\n",
      "13: <button aria-disabled=\"false\" class=\"aa-btn btn btn-secondary ui-button ui-widget ui-state-default ui-corner-all ui-button-text-only\" id=\"modal_deleteVPNRModalDialogButton1\" role=\"button\" type=\"button\"><span class=\"ui-button-text\">CANCEL</span></button>\n",
      "14: <button aria-disabled=\"false\" class=\"ui-button ui-widget ui-state-default ui-corner-all ui-button-icon-only ui-dialog-titlebar-close\" id=\"sessionTimeOutDialogClose\" role=\"button\" title=\"\" type=\"button\"><span class=\"ui-button-icon-primary ui-icon ui-icon-closethick\"></span><span class=\"ui-button-text\">Close window</span></button>\n",
      "15: <button aria-disabled=\"false\" class=\"aa-btn btn no-margin ui-button ui-widget ui-state-default ui-corner-all ui-button-text-only\" id=\"sessionTimeOutDialogButton0\" role=\"button\" type=\"button\"><span class=\"ui-button-text\">Continue session</span></button>\n",
      "16: <button aria-disabled=\"false\" class=\"aa-btn btn no-margin is-hidden ui-button ui-widget ui-state-default ui-corner-all ui-button-text-only\" id=\"sessionTimeOutDialogButton1\" role=\"button\" type=\"button\"><span class=\"ui-button-text\">Close</span></button>\n",
      "17: <button aria-disabled=\"false\" class=\"aa-btn btn no-margin is-hidden ui-button ui-widget ui-state-default ui-corner-all ui-button-text-only\" id=\"sessionTimeOutDialogButton2\" role=\"button\" type=\"button\"><span class=\"ui-button-text\">Start over</span></button>\n",
      "18: <button aria-disabled=\"false\" class=\"ui-button ui-widget ui-state-default ui-corner-all ui-button-icon-only ui-dialog-titlebar-close\" id=\"airportLookupDialogClose\" role=\"button\" title=\"\" type=\"button\"><span class=\"ui-button-icon-primary ui-icon ui-icon-closethick\"></span><span class=\"ui-button-text\">Close window</span></button>\n",
      "19: <button aria-disabled=\"false\" class=\"aa-btn btn ui-button ui-widget ui-state-default ui-corner-all ui-button-text-only\" id=\"airportLookupDialogButton0\" role=\"button\" type=\"button\"><span class=\"ui-button-text\">Close</span></button>\n"
     ]
    }
   ],
   "source": [
    "# button_elements = html_soup.find_element_by_xpath('//button[@id=\"LandingAirBookingSearchForm_submit-button\"]')\n",
    "# button_elements = html_soup.find_element_by_id(\"LandingAirBookingSearchForm_submit-button\")\n",
    "# button_elements = html_soup.find_element_by_css_selector(\"LandingAirBookingSearchForm_submit-button\")\n",
    "# button_elements = html_soup.findAll(\"button\")[14].click()\n",
    "button_elements = html_soup.findAll('button')\n",
    "# button_elements = html_soup.find_element_by_xpath('//button[@id=\"LandingAirBookingSearchForm_submit-button\"]')\n",
    "# blargh=button_elements[14]\n",
    "# blargh\n",
    "# len(button_elements)\n",
    "i = 0\n",
    "for x in button_elements:\n",
    "    print(f\"{i}: {x}\")\n",
    "    i += 1"
   ]
  },
  {
   "cell_type": "code",
   "execution_count": 31,
   "id": "feed0327",
   "metadata": {},
   "outputs": [
    {
     "ename": "AttributeError",
     "evalue": "'WebDriver' object has no attribute 'ActionChains'",
     "output_type": "error",
     "traceback": [
      "\u001b[1;31m---------------------------------------------------------------------------\u001b[0m",
      "\u001b[1;31mAttributeError\u001b[0m                            Traceback (most recent call last)",
      "\u001b[1;32m~\\AppData\\Local\\Temp/ipykernel_24672/1850441585.py\u001b[0m in \u001b[0;36m<module>\u001b[1;34m\u001b[0m\n\u001b[0;32m      1\u001b[0m \u001b[0msubmit_button\u001b[0m \u001b[1;33m=\u001b[0m \u001b[0mbrowser\u001b[0m\u001b[1;33m.\u001b[0m\u001b[0mfind_by_tag\u001b[0m\u001b[1;33m(\u001b[0m\u001b[1;34m'button'\u001b[0m\u001b[1;33m)\u001b[0m\u001b[1;33m[\u001b[0m\u001b[1;36m10\u001b[0m\u001b[1;33m]\u001b[0m\u001b[1;33m\u001b[0m\u001b[1;33m\u001b[0m\u001b[0m\n\u001b[1;32m----> 2\u001b[1;33m \u001b[0mbrowser\u001b[0m\u001b[1;33m.\u001b[0m\u001b[0mActionChains\u001b[0m\u001b[1;33m(\u001b[0m\u001b[0mbrowser\u001b[0m\u001b[1;33m)\u001b[0m\u001b[1;33m.\u001b[0m\u001b[0mmove_to_element\u001b[0m\u001b[1;33m(\u001b[0m\u001b[0msubmit_button\u001b[0m\u001b[1;33m)\u001b[0m\u001b[1;33m.\u001b[0m\u001b[0mclick\u001b[0m\u001b[1;33m(\u001b[0m\u001b[0msubmit_button\u001b[0m\u001b[1;33m)\u001b[0m\u001b[1;33m.\u001b[0m\u001b[0mperform\u001b[0m\u001b[1;33m(\u001b[0m\u001b[1;33m)\u001b[0m\u001b[1;33m\u001b[0m\u001b[1;33m\u001b[0m\u001b[0m\n\u001b[0m",
      "\u001b[1;31mAttributeError\u001b[0m: 'WebDriver' object has no attribute 'ActionChains'"
     ]
    }
   ],
   "source": [
    "submit_button = browser.find_by_tag('button')[10]\n",
    "browser.ActionChains(browser).move_to_element(submit_button).click(submit_button).perform()"
   ]
  },
  {
   "cell_type": "code",
   "execution_count": 27,
   "id": "fbaf101a",
   "metadata": {},
   "outputs": [],
   "source": [
    "\n",
    "full_image_elem = browser.find_by_tag('button')[1]\n",
    "full_image_elem.click()"
   ]
  },
  {
   "cell_type": "code",
   "execution_count": 8,
   "id": "b1680f32",
   "metadata": {},
   "outputs": [
    {
     "ename": "AttributeError",
     "evalue": "'WebDriver' object has no attribute 'find_elements_by_class_name'",
     "output_type": "error",
     "traceback": [
      "\u001b[1;31m---------------------------------------------------------------------------\u001b[0m",
      "\u001b[1;31mAttributeError\u001b[0m                            Traceback (most recent call last)",
      "\u001b[1;32m~\\AppData\\Local\\Temp/ipykernel_5712/266044309.py\u001b[0m in \u001b[0;36m<module>\u001b[1;34m\u001b[0m\n\u001b[0;32m      1\u001b[0m \u001b[1;31m# Push the submit button\u001b[0m\u001b[1;33m\u001b[0m\u001b[1;33m\u001b[0m\u001b[1;33m\u001b[0m\u001b[0m\n\u001b[1;32m----> 2\u001b[1;33m \u001b[0msubmit_button_element\u001b[0m \u001b[1;33m=\u001b[0m \u001b[0mbrowser\u001b[0m\u001b[1;33m.\u001b[0m\u001b[0mfind_elements_by_class_name\u001b[0m\u001b[1;33m(\u001b[0m\u001b[1;34m'submit-button--text'\u001b[0m\u001b[1;33m)\u001b[0m\u001b[1;33m\u001b[0m\u001b[1;33m\u001b[0m\u001b[0m\n\u001b[0m\u001b[0;32m      3\u001b[0m \u001b[0mlen\u001b[0m\u001b[1;33m(\u001b[0m\u001b[0msubmit_button_element\u001b[0m\u001b[1;33m)\u001b[0m\u001b[1;33m\u001b[0m\u001b[1;33m\u001b[0m\u001b[0m\n",
      "\u001b[1;31mAttributeError\u001b[0m: 'WebDriver' object has no attribute 'find_elements_by_class_name'"
     ]
    }
   ],
   "source": [
    "# Push the submit button\n",
    "submit_button_element = browser.find_elements_by_class_name('submit-button--text')\n",
    "len(submit_button_element)"
   ]
  },
  {
   "cell_type": "code",
   "execution_count": 7,
   "id": "da2c487e",
   "metadata": {},
   "outputs": [
    {
     "data": {
      "text/plain": [
       "'Search'"
      ]
     },
     "execution_count": 7,
     "metadata": {},
     "output_type": "execute_result"
    }
   ],
   "source": []
  },
  {
   "cell_type": "code",
   "execution_count": null,
   "id": "d82f7983",
   "metadata": {},
   "outputs": [],
   "source": []
  }
 ],
 "metadata": {
  "kernelspec": {
   "display_name": "PythonData",
   "language": "python",
   "name": "pythondata"
  },
  "language_info": {
   "codemirror_mode": {
    "name": "ipython",
    "version": 3
   },
   "file_extension": ".py",
   "mimetype": "text/x-python",
   "name": "python",
   "nbconvert_exporter": "python",
   "pygments_lexer": "ipython3",
   "version": "3.7.11"
  }
 },
 "nbformat": 4,
 "nbformat_minor": 5
}
