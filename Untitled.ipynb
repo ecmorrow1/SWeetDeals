{
 "cells": [
  {
   "cell_type": "markdown",
   "id": "c3df53da",
   "metadata": {},
   "source": [
    "Data Cleaning Code"
   ]
  },
  {
   "cell_type": "code",
   "execution_count": null,
   "id": "70d3354f",
   "metadata": {},
   "outputs": [],
   "source": [
    "# Files to load\n",
    "file_to_load = ../FinalCSV/0626/\"merged.csv\"\n",
    "\"C:\\Users\\britt\\Desktop\\DataClass\\FinalProject\\FinalCSV\\0626\\merged.csv\"\n",
    "# Read the CSV into a DataFrame\n",
    "df = pd.read_csv(file_to_load)\n",
    "df"
   ]
  },
  {
   "cell_type": "code",
   "execution_count": null,
   "id": "8b1bcfcb",
   "metadata": {},
   "outputs": [],
   "source": [
    "# Determine if there are any missing values in the data.\n",
    "df.count()"
   ]
  },
  {
   "cell_type": "code",
   "execution_count": null,
   "id": "a376af4c",
   "metadata": {},
   "outputs": [],
   "source": [
    "df.head()"
   ]
  },
  {
   "cell_type": "code",
   "execution_count": null,
   "id": "7183b15f",
   "metadata": {},
   "outputs": [],
   "source": [
    "# Determine if there are any missing values in the data.\n",
    "df.isnull()\n",
    "df.isnull().sum()\n",
    "df.notnull()\n",
    "df.notnull().sum()"
   ]
  },
  {
   "cell_type": "code",
   "execution_count": null,
   "id": "508a8885",
   "metadata": {},
   "outputs": [],
   "source": [
    "# Drop the NaNs.\n",
    "df.dropna()"
   ]
  },
  {
   "cell_type": "code",
   "execution_count": null,
   "id": "02e7f3fd",
   "metadata": {},
   "outputs": [],
   "source": [
    "# Fill in the empty rows with whatever the average cost of ticket is.\n",
    "df.fillna(AVGCost)"
   ]
  },
  {
   "cell_type": "code",
   "execution_count": null,
   "id": "44defd7f",
   "metadata": {},
   "outputs": [],
   "source": [
    "# Determine data types for the DataFrame.\n",
    "df.dtypes\n",
    "df.column.dtype\n",
    "df[\"column name\"].dtype"
   ]
  },
  {
   "cell_type": "code",
   "execution_count": null,
   "id": "fe4f8bba",
   "metadata": {},
   "outputs": [],
   "source": [
    "# Put the names in a list.\n",
    "# See Module 4.5.4 for more info\n",
    "names = df[\"name\"].tolist()\n",
    "names\n",
    "\n",
    "# Split the student name and determine the length of the split name.\n",
    "for name in student_names:\n",
    "    print(name.split(), len(name.split()))"
   ]
  },
  {
   "cell_type": "code",
   "execution_count": null,
   "id": "575fd400",
   "metadata": {},
   "outputs": [],
   "source": [
    "# See section 8.3 for more DataCleaning\n",
    "# See 8.3.9 for regular Expressions"
   ]
  },
  {
   "cell_type": "code",
   "execution_count": null,
   "id": "88987fab",
   "metadata": {},
   "outputs": [],
   "source": []
  },
  {
   "cell_type": "code",
   "execution_count": null,
   "id": "ab484a31",
   "metadata": {},
   "outputs": [],
   "source": []
  },
  {
   "cell_type": "code",
   "execution_count": null,
   "id": "21ac8e1c",
   "metadata": {},
   "outputs": [],
   "source": []
  },
  {
   "cell_type": "code",
   "execution_count": null,
   "id": "3b53a6ba",
   "metadata": {},
   "outputs": [],
   "source": []
  },
  {
   "cell_type": "code",
   "execution_count": null,
   "id": "dbae158b",
   "metadata": {},
   "outputs": [],
   "source": []
  },
  {
   "cell_type": "code",
   "execution_count": null,
   "id": "e100a7cf",
   "metadata": {},
   "outputs": [],
   "source": []
  }
 ],
 "metadata": {
  "kernelspec": {
   "display_name": "PythonData",
   "language": "python",
   "name": "pythondata"
  },
  "language_info": {
   "codemirror_mode": {
    "name": "ipython",
    "version": 3
   },
   "file_extension": ".py",
   "mimetype": "text/x-python",
   "name": "python",
   "nbconvert_exporter": "python",
   "pygments_lexer": "ipython3",
   "version": "3.7.11"
  }
 },
 "nbformat": 4,
 "nbformat_minor": 5
}
