{
 "cells": [
  {
   "cell_type": "code",
   "execution_count": 1,
   "id": "5126d82b",
   "metadata": {},
   "outputs": [],
   "source": [
    "import pandas as pd\n",
    "from datetime import datetime\n",
    "import re"
   ]
  },
  {
   "cell_type": "code",
   "execution_count": 2,
   "id": "481829d5",
   "metadata": {},
   "outputs": [],
   "source": [
    "def convert(x):\n",
    "    holder = x.split('-')\n",
    "    return holder[0]+\"-\"+holder[1]+\"-\"+datetime.strftime(pd.to_datetime(holder[2]),'%Y-%m-%d')+\"-\"+datetime.strftime(pd.to_datetime(holder[3]),'%Y-%m-%d')"
   ]
  },
  {
   "cell_type": "code",
   "execution_count": 3,
   "id": "ea443dc9",
   "metadata": {},
   "outputs": [],
   "source": [
    "df = pd.read_csv(\"all_data.csv\")"
   ]
  },
  {
   "cell_type": "code",
   "execution_count": 4,
   "id": "00d64c80",
   "metadata": {},
   "outputs": [],
   "source": [
    "df['trip_id'] = [convert(x) for x in df['trip_id']]"
   ]
  },
  {
   "cell_type": "code",
   "execution_count": 5,
   "id": "fa4f65cb",
   "metadata": {},
   "outputs": [],
   "source": [
    "df.to_csv(\"all_data_2.csv\",index=False)"
   ]
  }
 ],
 "metadata": {
  "kernelspec": {
   "display_name": "PythonData",
   "language": "python",
   "name": "pythondata"
  },
  "language_info": {
   "codemirror_mode": {
    "name": "ipython",
    "version": 3
   },
   "file_extension": ".py",
   "mimetype": "text/x-python",
   "name": "python",
   "nbconvert_exporter": "python",
   "pygments_lexer": "ipython3",
   "version": "3.7.11"
  }
 },
 "nbformat": 4,
 "nbformat_minor": 5
}
