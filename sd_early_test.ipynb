{
 "cells": [
  {
   "cell_type": "code",
   "execution_count": 1,
   "id": "45535a39",
   "metadata": {},
   "outputs": [],
   "source": [
    "from splinter import Browser\n",
    "from bs4 import BeautifulSoup as soup\n",
    "from webdriver_manager.chrome import ChromeDriverManager\n",
    "from selenium.webdriver.common.by import By\n",
    "from selenium.webdriver.common.action_chains import ActionChains\n",
    "from selenium.webdriver.common.keys import Keys\n",
    "from selenium import webdriver\n",
    "import time\n",
    "import random"
   ]
  },
  {
   "cell_type": "code",
   "execution_count": 2,
   "id": "2d081349",
   "metadata": {},
   "outputs": [
    {
     "name": "stderr",
     "output_type": "stream",
     "text": [
      "\n",
      "\n",
      "INFO:WDM:\n",
      "\n",
      "====== WebDriver manager ======\n",
      "INFO:WDM:====== WebDriver manager ======\n",
      "Current google-chrome version is 102.0.5005\n",
      "INFO:WDM:Current google-chrome version is 102.0.5005\n",
      "Get LATEST chromedriver version for 102.0.5005 google-chrome\n",
      "INFO:WDM:Get LATEST chromedriver version for 102.0.5005 google-chrome\n",
      "Driver [C:\\Users\\morroe1\\.wdm\\drivers\\chromedriver\\win32\\102.0.5005.61\\chromedriver.exe] found in cache\n",
      "INFO:WDM:Driver [C:\\Users\\morroe1\\.wdm\\drivers\\chromedriver\\win32\\102.0.5005.61\\chromedriver.exe] found in cache\n"
     ]
    }
   ],
   "source": [
    "# Set up Splinter\n",
    "executable_path = {'executable_path': ChromeDriverManager().install()}\n",
    "browser = Browser('chrome', **executable_path, headless=False, incognito=True)"
   ]
  },
  {
   "cell_type": "code",
   "execution_count": 3,
   "id": "f24d25c8",
   "metadata": {},
   "outputs": [],
   "source": [
    "# Visit the site\n",
    "url = 'https://www.aa.com/'\n",
    "browser.visit(url)\n",
    "time.sleep(random.uniform(3.072618165231841,5.9364916385))"
   ]
  },
  {
   "cell_type": "code",
   "execution_count": 4,
   "id": "033724ec",
   "metadata": {},
   "outputs": [],
   "source": [
    "actions = ActionChains(browser)"
   ]
  },
  {
   "cell_type": "code",
   "execution_count": 6,
   "id": "40e64300",
   "metadata": {},
   "outputs": [
    {
     "data": {
      "text/plain": [
       "<selenium.webdriver.common.action_chains.ActionChains at 0x19964154148>"
      ]
     },
     "execution_count": 6,
     "metadata": {},
     "output_type": "execute_result"
    }
   ],
   "source": [
    "actions.send_keys(Keys.ENTER)"
   ]
  },
  {
   "cell_type": "code",
   "execution_count": 6,
   "id": "f727c330",
   "metadata": {},
   "outputs": [
    {
     "ename": "NameError",
     "evalue": "name 'acitons' is not defined",
     "output_type": "error",
     "traceback": [
      "\u001b[1;31m---------------------------------------------------------------------------\u001b[0m",
      "\u001b[1;31mNameError\u001b[0m                                 Traceback (most recent call last)",
      "\u001b[1;32m~\\AppData\\Local\\Temp/ipykernel_25240/2475741048.py\u001b[0m in \u001b[0;36m<module>\u001b[1;34m\u001b[0m\n\u001b[0;32m      2\u001b[0m \u001b[0mhtml\u001b[0m \u001b[1;33m=\u001b[0m \u001b[0mbrowser\u001b[0m\u001b[1;33m.\u001b[0m\u001b[0mhtml\u001b[0m\u001b[1;33m\u001b[0m\u001b[1;33m\u001b[0m\u001b[0m\n\u001b[0;32m      3\u001b[0m \u001b[0mhtml_soup\u001b[0m \u001b[1;33m=\u001b[0m \u001b[0msoup\u001b[0m\u001b[1;33m(\u001b[0m\u001b[0mhtml\u001b[0m\u001b[1;33m,\u001b[0m \u001b[1;34m'html.parser'\u001b[0m\u001b[1;33m)\u001b[0m\u001b[1;33m\u001b[0m\u001b[1;33m\u001b[0m\u001b[0m\n\u001b[1;32m----> 4\u001b[1;33m \u001b[0macitons\u001b[0m\u001b[1;33m.\u001b[0m\u001b[0msend_keys\u001b[0m\u001b[1;33m(\u001b[0m\u001b[0mKeys\u001b[0m\u001b[1;33m.\u001b[0m\u001b[0mENTER\u001b[0m\u001b[1;33m)\u001b[0m\u001b[1;33m.\u001b[0m\u001b[0mperform\u001b[0m\u001b[1;33m(\u001b[0m\u001b[1;33m)\u001b[0m\u001b[1;33m\u001b[0m\u001b[1;33m\u001b[0m\u001b[0m\n\u001b[0m",
      "\u001b[1;31mNameError\u001b[0m: name 'acitons' is not defined"
     ]
    }
   ],
   "source": [
    "# Parse the HTML\n",
    "html = browser.html\n",
    "html_soup = soup(html, 'html.parser')"
   ]
  },
  {
   "cell_type": "code",
   "execution_count": 25,
   "id": "f16fb5ed",
   "metadata": {},
   "outputs": [
    {
     "name": "stdout",
     "output_type": "stream",
     "text": [
      "0: <button class=\"icon-close\" id=\"globalMessageClose\" name=\"closeButton\" type=\"button\">\n",
      "<span class=\"hidden-accessible\">\n",
      "                        Close Global Alert\n",
      "                    </span>\n",
      "</button>\n",
      "1: <button class=\"btn-search widget\" id=\"aa-search-button\" type=\"submit\" value=\"Go\">\n",
      "<span aria-hidden=\"true\" class=\"icon icon-18 icon-search\"></span>\n",
      "<span class=\"hidden-accessible\">Submit search</span>\n",
      "</button>\n",
      "2: <button aria-expanded=\"false\" aria-haspopup=\"true\" data-behavior=\"toggle-nav\" href=\"#plan\" id=\"plan-travel-expander\" onclick=\"ariaExpandedSwitcher(this)\" style=\"font-size: 14px; margin-left: -14px; padding: 5px 5px 18px;\" tabindex=\"0\">Plan Travel <i aria-hidden=\"true\" class=\"icon-expand icon-large is-hidden visible-phone\"></i></button>\n",
      "3: <button aria-expanded=\"false\" aria-haspopup=\"true\" data-behavior=\"toggle-nav\" href=\"#manage\" id=\"travel-information-expander\" onclick=\"ariaExpandedSwitcher(this)\" style=\"font-size: 14px; margin-left: -38px; padding: 5px 5px 18px;\" tabindex=\"0\">Travel Information <i aria-hidden=\"true\" class=\"icon-expand icon-large is-hidden visible-phone\"></i></button>\n",
      "4: <button aria-expanded=\"false\" aria-haspopup=\"true\" data-behavior=\"toggle-nav\" href=\"#advantage\" id=\"aadvantage-expander\" onclick=\"ariaExpandedSwitcher(this)\" style=\"font-size: 14px; margin-left: -74px; padding: 5px 5px 18px;\" tabindex=\"0\">AAdvantage® <i aria-hidden=\"true\" class=\"icon-expand icon-large is-hidden visible-phone\"></i></button>\n",
      "5: <button id=\"hero-prev\">\n",
      "<img alt=\"Previous slide\" src=\"data:image/png;base64,iVBORw0KGgoAAAANSUhEUgAAAGQAAAAyCAMAAACd646MAAAAQlBMVEUAAAD///////////////////////////////////////////////////////////////////////////////////8IX9KGAAAAFXRSTlMAECAwQFBgcICQoK+wv8DP0N/g7/DPihFXAAAA90lEQVR42u2WyRaFIAxDA07gLNj//9UHK5Y0ep4r7j7HNrSxaDQaDaCzILE9SCaRkazqFk9WdYtEA4ZTRLhe9qRwoBiS5GQFB0g2rjBzs61nbEwqCy2ziMygcUm2Q0kv5dUpriSclGYFoee3VHcbddcbSIrPKxR0kujwCJPfflAulcNDpiQORmXWZVDgl8XX86TSsMbsXpEnC17gs2GKdte3H7mq2fCBXXCV+VDY7VHleDvCl/nzMpbZJMKUZFXPpqmEaS2+qTDlCbm6D35aGxem/O83m2W5QyKAg79wFkLw+MKxkX77wK/XyJ+pUfwHB3eHRqPRwA+1+BKD0ZbiIAAAAABJRU5ErkJggg==\"/>\n",
      "</button>\n",
      "6: <button id=\"hero-next\">\n",
      "<img alt=\"Next slide\" src=\"data:image/png;base64,iVBORw0KGgoAAAANSUhEUgAAAGQAAAAyCAMAAACd646MAAAAQlBMVEUAAAD///////////////////////////////////////////////////////////////////////////////////8IX9KGAAAAFXRSTlMAECAwQFBgcICQoK+wv8DP0N/g7/DPihFXAAAA90lEQVR42u2WyRaFIAxDA07gLNj//9UHK5Y0ep4r7j7HNrSxaDQaDaCzILE9SCaRkazqFk9WdYtEA4ZTRLhe9qRwoBiS5GQFB0g2rjBzs61nbEwqCy2ziMygcUm2Q0kv5dUpriSclGYFoee3VHcbddcbSIrPKxR0kujwCJPfflAulcNDpiQORmXWZVDgl8XX86TSsMbsXpEnC17gs2GKdte3H7mq2fCBXXCV+VDY7VHleDvCl/nzMpbZJMKUZFXPpqmEaS2+qTDlCbm6D35aGxem/O83m2W5QyKAg79wFkLw+MKxkX77wK/XyJ+pUfwHB3eHRqPRwA+1+BKD0ZbiIAAAAABJRU5ErkJggg==\"/>\n",
      "</button>\n",
      "7: <button class=\"pause\" id=\"hero-pause\">\n",
      "<img alt=\"Pause slideshow\" src=\"/content/images/chrome/rebrand/play-pause.png\"/>\n",
      "</button>\n",
      "8: <button class=\"ui-datepicker-trigger\" type=\"button\"><span class=\"hidden-accessible\">View Calendar: To navigate the calendar, use the shift and control keys with the arrow keys. For more information, press the question mark key.</span></button>\n",
      "9: <button class=\"ui-datepicker-trigger\" type=\"button\"><span class=\"hidden-accessible\">View Calendar: To navigate the calendar, use the shift and control keys with the arrow keys. For more information, press the question mark key.</span></button>\n",
      "10: <button class=\"btn btn-fullWidth is-hidden\" data-link=\"aavInterimMessage\" id=\"flightSearchForm.button.vacationSubmit\" style=\"display: none;\" type=\"button\">\n",
      "                    Search<span aria-hidden=\"true\" class=\"icon-newpage\"></span>\n",
      "<span class=\"hidden-accessible\">, Opens another site in a new window that may not meet accessibility guidelines.</span>\n",
      "</button>\n",
      "11: <button aria-disabled=\"false\" class=\"ui-button ui-widget ui-state-default ui-corner-all ui-button-icon-only ui-dialog-titlebar-close\" id=\"modal_deleteVPNRModalDialogClose\" role=\"button\" title=\"\" type=\"button\"><span class=\"ui-button-icon-primary ui-icon ui-icon-closethick\"></span><span class=\"ui-button-text\">Close window</span></button>\n",
      "12: <button aria-disabled=\"false\" class=\"aa-btn btn ui-button ui-widget ui-state-default ui-corner-all ui-button-text-only\" id=\"modal_deleteVPNRModalDialogButton0\" role=\"button\" type=\"button\"><span class=\"ui-button-text\">OK</span></button>\n",
      "13: <button aria-disabled=\"false\" class=\"aa-btn btn btn-secondary ui-button ui-widget ui-state-default ui-corner-all ui-button-text-only\" id=\"modal_deleteVPNRModalDialogButton1\" role=\"button\" type=\"button\"><span class=\"ui-button-text\">CANCEL</span></button>\n",
      "14: <button aria-disabled=\"false\" class=\"ui-button ui-widget ui-state-default ui-corner-all ui-button-icon-only ui-dialog-titlebar-close\" id=\"sessionTimeOutDialogClose\" role=\"button\" title=\"\" type=\"button\"><span class=\"ui-button-icon-primary ui-icon ui-icon-closethick\"></span><span class=\"ui-button-text\">Close window</span></button>\n",
      "15: <button aria-disabled=\"false\" class=\"aa-btn btn no-margin ui-button ui-widget ui-state-default ui-corner-all ui-button-text-only\" id=\"sessionTimeOutDialogButton0\" role=\"button\" type=\"button\"><span class=\"ui-button-text\">Continue session</span></button>\n",
      "16: <button aria-disabled=\"false\" class=\"aa-btn btn no-margin is-hidden ui-button ui-widget ui-state-default ui-corner-all ui-button-text-only\" id=\"sessionTimeOutDialogButton1\" role=\"button\" type=\"button\"><span class=\"ui-button-text\">Close</span></button>\n",
      "17: <button aria-disabled=\"false\" class=\"aa-btn btn no-margin is-hidden ui-button ui-widget ui-state-default ui-corner-all ui-button-text-only\" id=\"sessionTimeOutDialogButton2\" role=\"button\" type=\"button\"><span class=\"ui-button-text\">Start over</span></button>\n",
      "18: <button aria-disabled=\"false\" class=\"ui-button ui-widget ui-state-default ui-corner-all ui-button-icon-only ui-dialog-titlebar-close\" id=\"airportLookupDialogClose\" role=\"button\" title=\"\" type=\"button\"><span class=\"ui-button-icon-primary ui-icon ui-icon-closethick\"></span><span class=\"ui-button-text\">Close window</span></button>\n",
      "19: <button aria-disabled=\"false\" class=\"aa-btn btn ui-button ui-widget ui-state-default ui-corner-all ui-button-text-only\" id=\"airportLookupDialogButton0\" role=\"button\" type=\"button\"><span class=\"ui-button-text\">Close</span></button>\n"
     ]
    }
   ],
   "source": [
    "# button_elements = html_soup.find_element_by_xpath('//button[@id=\"LandingAirBookingSearchForm_submit-button\"]')\n",
    "# button_elements = html_soup.find_element_by_id(\"LandingAirBookingSearchForm_submit-button\")\n",
    "# button_elements = html_soup.find_element_by_css_selector(\"LandingAirBookingSearchForm_submit-button\")\n",
    "# button_elements = html_soup.findAll(\"button\")[14].click()\n",
    "button_elements = html_soup.findAll('button')\n",
    "# button_elements = html_soup.find_element_by_xpath('//button[@id=\"LandingAirBookingSearchForm_submit-button\"]')\n",
    "# blargh=button_elements[14]\n",
    "# blargh\n",
    "# len(button_elements)\n",
    "i = 0\n",
    "for x in button_elements:\n",
    "    print(f\"{i}: {x}\")\n",
    "    i += 1"
   ]
  },
  {
   "cell_type": "code",
   "execution_count": 8,
   "id": "e1ab909a",
   "metadata": {},
   "outputs": [
    {
     "ename": "AttributeError",
     "evalue": "move_to requires a WebElement",
     "output_type": "error",
     "traceback": [
      "\u001b[1;31m---------------------------------------------------------------------------\u001b[0m",
      "\u001b[1;31mAttributeError\u001b[0m                            Traceback (most recent call last)",
      "\u001b[1;32m~\\AppData\\Local\\Temp/ipykernel_19440/3008151156.py\u001b[0m in \u001b[0;36m<module>\u001b[1;34m\u001b[0m\n\u001b[0;32m      1\u001b[0m \u001b[0mactions\u001b[0m \u001b[1;33m=\u001b[0m \u001b[0mActionChains\u001b[0m\u001b[1;33m(\u001b[0m\u001b[0mbrowser\u001b[0m\u001b[1;33m)\u001b[0m\u001b[1;33m\u001b[0m\u001b[1;33m\u001b[0m\u001b[0m\n\u001b[1;32m----> 2\u001b[1;33m \u001b[0mactions\u001b[0m\u001b[1;33m.\u001b[0m\u001b[0mmove_to_element\u001b[0m\u001b[1;33m(\u001b[0m\u001b[0msubmit_button\u001b[0m\u001b[1;33m)\u001b[0m\u001b[1;33m.\u001b[0m\u001b[0mperform\u001b[0m\u001b[1;33m(\u001b[0m\u001b[1;33m)\u001b[0m\u001b[1;33m\u001b[0m\u001b[1;33m\u001b[0m\u001b[0m\n\u001b[0m",
      "\u001b[1;32m~\\Anaconda3\\envs\\PythonData\\lib\\site-packages\\selenium\\webdriver\\common\\action_chains.py\u001b[0m in \u001b[0;36mmove_to_element\u001b[1;34m(self, to_element)\u001b[0m\n\u001b[0;32m    246\u001b[0m         \"\"\"\n\u001b[0;32m    247\u001b[0m \u001b[1;33m\u001b[0m\u001b[0m\n\u001b[1;32m--> 248\u001b[1;33m         \u001b[0mself\u001b[0m\u001b[1;33m.\u001b[0m\u001b[0mw3c_actions\u001b[0m\u001b[1;33m.\u001b[0m\u001b[0mpointer_action\u001b[0m\u001b[1;33m.\u001b[0m\u001b[0mmove_to\u001b[0m\u001b[1;33m(\u001b[0m\u001b[0mto_element\u001b[0m\u001b[1;33m)\u001b[0m\u001b[1;33m\u001b[0m\u001b[1;33m\u001b[0m\u001b[0m\n\u001b[0m\u001b[0;32m    249\u001b[0m         \u001b[0mself\u001b[0m\u001b[1;33m.\u001b[0m\u001b[0mw3c_actions\u001b[0m\u001b[1;33m.\u001b[0m\u001b[0mkey_action\u001b[0m\u001b[1;33m.\u001b[0m\u001b[0mpause\u001b[0m\u001b[1;33m(\u001b[0m\u001b[1;33m)\u001b[0m\u001b[1;33m\u001b[0m\u001b[1;33m\u001b[0m\u001b[0m\n\u001b[0;32m    250\u001b[0m \u001b[1;33m\u001b[0m\u001b[0m\n",
      "\u001b[1;32m~\\Anaconda3\\envs\\PythonData\\lib\\site-packages\\selenium\\webdriver\\common\\actions\\pointer_actions.py\u001b[0m in \u001b[0;36mmove_to\u001b[1;34m(self, element, x, y, width, height, pressure, tangential_pressure, tilt_x, tilt_y, twist, altitude_angle, azimuth_angle)\u001b[0m\n\u001b[0;32m     55\u001b[0m                 altitude_angle=None, azimuth_angle=None):\n\u001b[0;32m     56\u001b[0m         \u001b[1;32mif\u001b[0m \u001b[1;32mnot\u001b[0m \u001b[0misinstance\u001b[0m\u001b[1;33m(\u001b[0m\u001b[0melement\u001b[0m\u001b[1;33m,\u001b[0m \u001b[0mWebElement\u001b[0m\u001b[1;33m)\u001b[0m\u001b[1;33m:\u001b[0m\u001b[1;33m\u001b[0m\u001b[1;33m\u001b[0m\u001b[0m\n\u001b[1;32m---> 57\u001b[1;33m             \u001b[1;32mraise\u001b[0m \u001b[0mAttributeError\u001b[0m\u001b[1;33m(\u001b[0m\u001b[1;34m\"move_to requires a WebElement\"\u001b[0m\u001b[1;33m)\u001b[0m\u001b[1;33m\u001b[0m\u001b[1;33m\u001b[0m\u001b[0m\n\u001b[0m\u001b[0;32m     58\u001b[0m \u001b[1;33m\u001b[0m\u001b[0m\n\u001b[0;32m     59\u001b[0m         \u001b[1;32mif\u001b[0m \u001b[0mx\u001b[0m \u001b[1;32mor\u001b[0m \u001b[0my\u001b[0m\u001b[1;33m:\u001b[0m\u001b[1;33m\u001b[0m\u001b[1;33m\u001b[0m\u001b[0m\n",
      "\u001b[1;31mAttributeError\u001b[0m: move_to requires a WebElement"
     ]
    }
   ],
   "source": [
    "actions = ActionChains(browser)\n",
    "actions.move_to_element(submit_button).perform()"
   ]
  },
  {
   "cell_type": "code",
   "execution_count": 6,
   "id": "cffef892",
   "metadata": {},
   "outputs": [
    {
     "ename": "AttributeError",
     "evalue": "'WebDriver' object has no attribute 'ActionChains'",
     "output_type": "error",
     "traceback": [
      "\u001b[1;31m---------------------------------------------------------------------------\u001b[0m",
      "\u001b[1;31mAttributeError\u001b[0m                            Traceback (most recent call last)",
      "\u001b[1;32m~\\AppData\\Local\\Temp/ipykernel_19440/1731036536.py\u001b[0m in \u001b[0;36m<module>\u001b[1;34m\u001b[0m\n\u001b[0;32m      1\u001b[0m \u001b[0msubmit_button\u001b[0m \u001b[1;33m=\u001b[0m \u001b[0mbrowser\u001b[0m\u001b[1;33m.\u001b[0m\u001b[0mfind_by_tag\u001b[0m\u001b[1;33m(\u001b[0m\u001b[1;34m'button'\u001b[0m\u001b[1;33m)\u001b[0m\u001b[1;33m[\u001b[0m\u001b[1;36m10\u001b[0m\u001b[1;33m]\u001b[0m\u001b[1;33m\u001b[0m\u001b[1;33m\u001b[0m\u001b[0m\n\u001b[1;32m----> 2\u001b[1;33m \u001b[0mbrowser\u001b[0m\u001b[1;33m.\u001b[0m\u001b[0mActionChains\u001b[0m\u001b[1;33m(\u001b[0m\u001b[0mbrowser\u001b[0m\u001b[1;33m)\u001b[0m\u001b[1;33m.\u001b[0m\u001b[0mmove_to_element\u001b[0m\u001b[1;33m(\u001b[0m\u001b[0msubmit_button\u001b[0m\u001b[1;33m)\u001b[0m\u001b[1;33m.\u001b[0m\u001b[0mperform\u001b[0m\u001b[1;33m(\u001b[0m\u001b[1;33m)\u001b[0m\u001b[1;33m.\u001b[0m\u001b[0mclick\u001b[0m\u001b[1;33m(\u001b[0m\u001b[0msubmit_button\u001b[0m\u001b[1;33m)\u001b[0m\u001b[1;33m.\u001b[0m\u001b[0mperform\u001b[0m\u001b[1;33m(\u001b[0m\u001b[1;33m)\u001b[0m\u001b[1;33m\u001b[0m\u001b[1;33m\u001b[0m\u001b[0m\n\u001b[0m",
      "\u001b[1;31mAttributeError\u001b[0m: 'WebDriver' object has no attribute 'ActionChains'"
     ]
    }
   ],
   "source": [
    "submit_button = browser.find_by_tag('button')[10]\n",
    "browser.ActionChains(browser).move_to_element(submit_button).perform().click(submit_button).perform()"
   ]
  },
  {
   "cell_type": "code",
   "execution_count": 27,
   "id": "fbaf101a",
   "metadata": {},
   "outputs": [],
   "source": [
    "\n",
    "full_image_elem = browser.find_by_tag('button')[1]\n",
    "full_image_elem.click()"
   ]
  },
  {
   "cell_type": "code",
   "execution_count": 8,
   "id": "b1680f32",
   "metadata": {},
   "outputs": [
    {
     "ename": "AttributeError",
     "evalue": "'WebDriver' object has no attribute 'find_elements_by_class_name'",
     "output_type": "error",
     "traceback": [
      "\u001b[1;31m---------------------------------------------------------------------------\u001b[0m",
      "\u001b[1;31mAttributeError\u001b[0m                            Traceback (most recent call last)",
      "\u001b[1;32m~\\AppData\\Local\\Temp/ipykernel_5712/266044309.py\u001b[0m in \u001b[0;36m<module>\u001b[1;34m\u001b[0m\n\u001b[0;32m      1\u001b[0m \u001b[1;31m# Push the submit button\u001b[0m\u001b[1;33m\u001b[0m\u001b[1;33m\u001b[0m\u001b[1;33m\u001b[0m\u001b[0m\n\u001b[1;32m----> 2\u001b[1;33m \u001b[0msubmit_button_element\u001b[0m \u001b[1;33m=\u001b[0m \u001b[0mbrowser\u001b[0m\u001b[1;33m.\u001b[0m\u001b[0mfind_elements_by_class_name\u001b[0m\u001b[1;33m(\u001b[0m\u001b[1;34m'submit-button--text'\u001b[0m\u001b[1;33m)\u001b[0m\u001b[1;33m\u001b[0m\u001b[1;33m\u001b[0m\u001b[0m\n\u001b[0m\u001b[0;32m      3\u001b[0m \u001b[0mlen\u001b[0m\u001b[1;33m(\u001b[0m\u001b[0msubmit_button_element\u001b[0m\u001b[1;33m)\u001b[0m\u001b[1;33m\u001b[0m\u001b[1;33m\u001b[0m\u001b[0m\n",
      "\u001b[1;31mAttributeError\u001b[0m: 'WebDriver' object has no attribute 'find_elements_by_class_name'"
     ]
    }
   ],
   "source": [
    "# Push the submit button\n",
    "submit_button_element = browser.find_elements_by_class_name('submit-button--text')\n",
    "len(submit_button_element)"
   ]
  },
  {
   "cell_type": "code",
   "execution_count": 7,
   "id": "da2c487e",
   "metadata": {},
   "outputs": [
    {
     "data": {
      "text/plain": [
       "'Search'"
      ]
     },
     "execution_count": 7,
     "metadata": {},
     "output_type": "execute_result"
    }
   ],
   "source": []
  },
  {
   "cell_type": "code",
   "execution_count": null,
   "id": "d82f7983",
   "metadata": {},
   "outputs": [],
   "source": []
  }
 ],
 "metadata": {
  "kernelspec": {
   "display_name": "PythonData",
   "language": "python",
   "name": "pythondata"
  },
  "language_info": {
   "codemirror_mode": {
    "name": "ipython",
    "version": 3
   },
   "file_extension": ".py",
   "mimetype": "text/x-python",
   "name": "python",
   "nbconvert_exporter": "python",
   "pygments_lexer": "ipython3",
   "version": "3.7.11"
  }
 },
 "nbformat": 4,
 "nbformat_minor": 5
}
