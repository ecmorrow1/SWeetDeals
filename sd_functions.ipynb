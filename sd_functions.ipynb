{
 "cells": [
  {
   "cell_type": "code",
   "execution_count": 1,
   "id": "a114b119",
   "metadata": {},
   "outputs": [],
   "source": [
    "def button_press(action):\n",
    "    if action == \"keystroke\":\n",
    "        return random.uniform(.101315816564,.25978136531)\n",
    "    elif action == \"enter_search\":\n",
    "        # This value needs to stay above 30 seconds to accommodate for the pause the website imposes when performing a search\n",
    "        return random.uniform(31.1551845131843, 34.3189651876)\n",
    "    else:\n",
    "        return random.uniform(.3098741610684,.4598135130)"
   ]
  },
  {
   "cell_type": "code",
   "execution_count": null,
   "id": "960882af",
   "metadata": {},
   "outputs": [],
   "source": []
  }
 ],
 "metadata": {
  "kernelspec": {
   "display_name": "PythonData",
   "language": "python",
   "name": "pythondata"
  },
  "language_info": {
   "codemirror_mode": {
    "name": "ipython",
    "version": 3
   },
   "file_extension": ".py",
   "mimetype": "text/x-python",
   "name": "python",
   "nbconvert_exporter": "python",
   "pygments_lexer": "ipython3",
   "version": "3.7.11"
  }
 },
 "nbformat": 4,
 "nbformat_minor": 5
}
