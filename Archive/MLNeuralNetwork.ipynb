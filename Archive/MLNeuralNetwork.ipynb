{
  "cells": [
    {
      "cell_type": "code",
      "execution_count": 1,
      "id": "877e1ea4",
      "metadata": {
        "id": "877e1ea4"
      },
      "outputs": [],
      "source": [
        "import warnings\n",
        "warnings.filterwarnings('ignore')\n",
        "\n",
        "\n",
        "import json\n",
        "import pandas as pd\n",
        "import numpy as np\n",
        "import os\n",
        "import glob\n",
        "import re\n",
        "from pathlib import Path\n",
        "\n",
        "import datetime\n",
        "from dateutil.relativedelta import relativedelta\n",
        "from datetime import date\n",
        "from collections import Counter\n",
        "import matplotlib as plt\n",
        "from sqlalchemy import create_engine\n",
        "import psycopg2\n",
        "from sklearn.preprocessing import OneHotEncoder\n",
        "from sklearn.datasets import make_blobs\n",
        "import sklearn as skl\n",
        "import tensorflow as tf\n",
        "# from config import db_password\n",
        "from imblearn.under_sampling import ClusterCentroids \n",
        "import time\n",
        "from imblearn.combine import SMOTEENN\n",
        "# import hvplot.pandas\n",
        "import plotly.express as px\n",
        "from sklearn.preprocessing import StandardScaler, MinMaxScaler\n",
        "from sklearn.decomposition import PCA\n",
        "from sklearn.cluster import KMeans\n",
        "from sklearn import datasets, linear_model, metrics\n",
        "from sklearn.metrics import balanced_accuracy_score\n",
        "from sklearn.metrics import confusion_matrix\n",
        "from imblearn.metrics import classification_report_imbalanced\n",
        "from sklearn.linear_model import LogisticRegression\n",
        "from imblearn.over_sampling import RandomOverSampler\n",
        "from sklearn.ensemble import RandomForestClassifier\n",
        "from sklearn.preprocessing import StandardScaler\n",
        "from sklearn.model_selection import train_test_split\n",
        "from sklearn.metrics import confusion_matrix, accuracy_score, classification_report\n",
        "from imblearn.ensemble import BalancedRandomForestClassifier\n",
        "from imblearn.ensemble import EasyEnsembleClassifier"
      ]
    },
    {
      "cell_type": "code",
      "execution_count": 2,
      "id": "33d1b6ea",
      "metadata": {
        "id": "33d1b6ea"
      },
      "outputs": [],
      "source": [
        "file_path = Path(\"/content/tmintest.csv\")"
      ]
    },
    {
      "cell_type": "code",
      "execution_count": 3,
      "id": "7b5318ba",
      "metadata": {
        "colab": {
          "base_uri": "https://localhost:8080/",
          "height": 238
        },
        "id": "7b5318ba",
        "outputId": "d9dde35d-7d45-4f0e-f154-90ce5664e404"
      },
      "outputs": [
        {
          "output_type": "execute_result",
          "data": {
            "text/plain": [
              "                                           trip_id depart_airport  \\\n",
              "timestamp                                                           \n",
              "2022-06-23 03:41:00  SNA-SMF-06/23/2022-06/26/2022            SNA   \n",
              "2022-06-23 03:42:00  SNA-SMF-06/30/2022-07/03/2022            SNA   \n",
              "2022-06-23 03:43:00  SNA-PHX-06/23/2022-06/26/2022            SNA   \n",
              "2022-06-23 03:43:00  SNA-PHX-06/30/2022-07/03/2022            SNA   \n",
              "2022-06-23 03:44:00  SNA-ORD-06/23/2022-06/26/2022            SNA   \n",
              "\n",
              "                    return_airport depart_date return_date  total_cost  \\\n",
              "timestamp                                                                \n",
              "2022-06-23 03:41:00            SMF  2022-06-23   6/26/2022         720   \n",
              "2022-06-23 03:42:00            SMF  2022-06-30    7/3/2022         630   \n",
              "2022-06-23 03:43:00            PHX  2022-06-23   6/26/2022         353   \n",
              "2022-06-23 03:43:00            PHX  2022-06-30    7/3/2022         299   \n",
              "2022-06-23 03:44:00            ORD  2022-06-23   6/26/2022        2939   \n",
              "\n",
              "                     depart_datetime  depart_duration  depart_stops  \\\n",
              "timestamp                                                             \n",
              "2022-06-23 03:41:00  6/23/2022 10:17              309             1   \n",
              "2022-06-23 03:42:00  6/30/2022 10:17              309             1   \n",
              "2022-06-23 03:43:00  6/23/2022 12:56               78             0   \n",
              "2022-06-23 03:43:00  6/30/2022 12:56               78             0   \n",
              "2022-06-23 03:44:00  6/23/2022 16:44              636             1   \n",
              "\n",
              "                     return_datetime  return_duration  return_stops  \\\n",
              "timestamp                                                             \n",
              "2022-06-23 03:41:00   6/26/2022 6:00              341             1   \n",
              "2022-06-23 03:42:00  6/30/2022 10:17              309             1   \n",
              "2022-06-23 03:43:00  6/26/2022 10:13               88             0   \n",
              "2022-06-23 03:43:00   7/3/2022 14:59               78             0   \n",
              "2022-06-23 03:44:00   6/26/2022 8:25              251             0   \n",
              "\n",
              "                     day_before_purchase  total_min  \n",
              "timestamp                                            \n",
              "2022-06-23 03:41:00                    0          0  \n",
              "2022-06-23 03:42:00                    6          6  \n",
              "2022-06-23 03:43:00                    0          0  \n",
              "2022-06-23 03:43:00                    6          6  \n",
              "2022-06-23 03:44:00                    0          0  "
            ],
            "text/html": [
              "\n",
              "  <div id=\"df-757f564a-7572-4641-b0e1-7447711bf394\">\n",
              "    <div class=\"colab-df-container\">\n",
              "      <div>\n",
              "<style scoped>\n",
              "    .dataframe tbody tr th:only-of-type {\n",
              "        vertical-align: middle;\n",
              "    }\n",
              "\n",
              "    .dataframe tbody tr th {\n",
              "        vertical-align: top;\n",
              "    }\n",
              "\n",
              "    .dataframe thead th {\n",
              "        text-align: right;\n",
              "    }\n",
              "</style>\n",
              "<table border=\"1\" class=\"dataframe\">\n",
              "  <thead>\n",
              "    <tr style=\"text-align: right;\">\n",
              "      <th></th>\n",
              "      <th>trip_id</th>\n",
              "      <th>depart_airport</th>\n",
              "      <th>return_airport</th>\n",
              "      <th>depart_date</th>\n",
              "      <th>return_date</th>\n",
              "      <th>total_cost</th>\n",
              "      <th>depart_datetime</th>\n",
              "      <th>depart_duration</th>\n",
              "      <th>depart_stops</th>\n",
              "      <th>return_datetime</th>\n",
              "      <th>return_duration</th>\n",
              "      <th>return_stops</th>\n",
              "      <th>day_before_purchase</th>\n",
              "      <th>total_min</th>\n",
              "    </tr>\n",
              "    <tr>\n",
              "      <th>timestamp</th>\n",
              "      <th></th>\n",
              "      <th></th>\n",
              "      <th></th>\n",
              "      <th></th>\n",
              "      <th></th>\n",
              "      <th></th>\n",
              "      <th></th>\n",
              "      <th></th>\n",
              "      <th></th>\n",
              "      <th></th>\n",
              "      <th></th>\n",
              "      <th></th>\n",
              "      <th></th>\n",
              "      <th></th>\n",
              "    </tr>\n",
              "  </thead>\n",
              "  <tbody>\n",
              "    <tr>\n",
              "      <th>2022-06-23 03:41:00</th>\n",
              "      <td>SNA-SMF-06/23/2022-06/26/2022</td>\n",
              "      <td>SNA</td>\n",
              "      <td>SMF</td>\n",
              "      <td>2022-06-23</td>\n",
              "      <td>6/26/2022</td>\n",
              "      <td>720</td>\n",
              "      <td>6/23/2022 10:17</td>\n",
              "      <td>309</td>\n",
              "      <td>1</td>\n",
              "      <td>6/26/2022 6:00</td>\n",
              "      <td>341</td>\n",
              "      <td>1</td>\n",
              "      <td>0</td>\n",
              "      <td>0</td>\n",
              "    </tr>\n",
              "    <tr>\n",
              "      <th>2022-06-23 03:42:00</th>\n",
              "      <td>SNA-SMF-06/30/2022-07/03/2022</td>\n",
              "      <td>SNA</td>\n",
              "      <td>SMF</td>\n",
              "      <td>2022-06-30</td>\n",
              "      <td>7/3/2022</td>\n",
              "      <td>630</td>\n",
              "      <td>6/30/2022 10:17</td>\n",
              "      <td>309</td>\n",
              "      <td>1</td>\n",
              "      <td>6/30/2022 10:17</td>\n",
              "      <td>309</td>\n",
              "      <td>1</td>\n",
              "      <td>6</td>\n",
              "      <td>6</td>\n",
              "    </tr>\n",
              "    <tr>\n",
              "      <th>2022-06-23 03:43:00</th>\n",
              "      <td>SNA-PHX-06/23/2022-06/26/2022</td>\n",
              "      <td>SNA</td>\n",
              "      <td>PHX</td>\n",
              "      <td>2022-06-23</td>\n",
              "      <td>6/26/2022</td>\n",
              "      <td>353</td>\n",
              "      <td>6/23/2022 12:56</td>\n",
              "      <td>78</td>\n",
              "      <td>0</td>\n",
              "      <td>6/26/2022 10:13</td>\n",
              "      <td>88</td>\n",
              "      <td>0</td>\n",
              "      <td>0</td>\n",
              "      <td>0</td>\n",
              "    </tr>\n",
              "    <tr>\n",
              "      <th>2022-06-23 03:43:00</th>\n",
              "      <td>SNA-PHX-06/30/2022-07/03/2022</td>\n",
              "      <td>SNA</td>\n",
              "      <td>PHX</td>\n",
              "      <td>2022-06-30</td>\n",
              "      <td>7/3/2022</td>\n",
              "      <td>299</td>\n",
              "      <td>6/30/2022 12:56</td>\n",
              "      <td>78</td>\n",
              "      <td>0</td>\n",
              "      <td>7/3/2022 14:59</td>\n",
              "      <td>78</td>\n",
              "      <td>0</td>\n",
              "      <td>6</td>\n",
              "      <td>6</td>\n",
              "    </tr>\n",
              "    <tr>\n",
              "      <th>2022-06-23 03:44:00</th>\n",
              "      <td>SNA-ORD-06/23/2022-06/26/2022</td>\n",
              "      <td>SNA</td>\n",
              "      <td>ORD</td>\n",
              "      <td>2022-06-23</td>\n",
              "      <td>6/26/2022</td>\n",
              "      <td>2939</td>\n",
              "      <td>6/23/2022 16:44</td>\n",
              "      <td>636</td>\n",
              "      <td>1</td>\n",
              "      <td>6/26/2022 8:25</td>\n",
              "      <td>251</td>\n",
              "      <td>0</td>\n",
              "      <td>0</td>\n",
              "      <td>0</td>\n",
              "    </tr>\n",
              "  </tbody>\n",
              "</table>\n",
              "</div>\n",
              "      <button class=\"colab-df-convert\" onclick=\"convertToInteractive('df-757f564a-7572-4641-b0e1-7447711bf394')\"\n",
              "              title=\"Convert this dataframe to an interactive table.\"\n",
              "              style=\"display:none;\">\n",
              "        \n",
              "  <svg xmlns=\"http://www.w3.org/2000/svg\" height=\"24px\"viewBox=\"0 0 24 24\"\n",
              "       width=\"24px\">\n",
              "    <path d=\"M0 0h24v24H0V0z\" fill=\"none\"/>\n",
              "    <path d=\"M18.56 5.44l.94 2.06.94-2.06 2.06-.94-2.06-.94-.94-2.06-.94 2.06-2.06.94zm-11 1L8.5 8.5l.94-2.06 2.06-.94-2.06-.94L8.5 2.5l-.94 2.06-2.06.94zm10 10l.94 2.06.94-2.06 2.06-.94-2.06-.94-.94-2.06-.94 2.06-2.06.94z\"/><path d=\"M17.41 7.96l-1.37-1.37c-.4-.4-.92-.59-1.43-.59-.52 0-1.04.2-1.43.59L10.3 9.45l-7.72 7.72c-.78.78-.78 2.05 0 2.83L4 21.41c.39.39.9.59 1.41.59.51 0 1.02-.2 1.41-.59l7.78-7.78 2.81-2.81c.8-.78.8-2.07 0-2.86zM5.41 20L4 18.59l7.72-7.72 1.47 1.35L5.41 20z\"/>\n",
              "  </svg>\n",
              "      </button>\n",
              "      \n",
              "  <style>\n",
              "    .colab-df-container {\n",
              "      display:flex;\n",
              "      flex-wrap:wrap;\n",
              "      gap: 12px;\n",
              "    }\n",
              "\n",
              "    .colab-df-convert {\n",
              "      background-color: #E8F0FE;\n",
              "      border: none;\n",
              "      border-radius: 50%;\n",
              "      cursor: pointer;\n",
              "      display: none;\n",
              "      fill: #1967D2;\n",
              "      height: 32px;\n",
              "      padding: 0 0 0 0;\n",
              "      width: 32px;\n",
              "    }\n",
              "\n",
              "    .colab-df-convert:hover {\n",
              "      background-color: #E2EBFA;\n",
              "      box-shadow: 0px 1px 2px rgba(60, 64, 67, 0.3), 0px 1px 3px 1px rgba(60, 64, 67, 0.15);\n",
              "      fill: #174EA6;\n",
              "    }\n",
              "\n",
              "    [theme=dark] .colab-df-convert {\n",
              "      background-color: #3B4455;\n",
              "      fill: #D2E3FC;\n",
              "    }\n",
              "\n",
              "    [theme=dark] .colab-df-convert:hover {\n",
              "      background-color: #434B5C;\n",
              "      box-shadow: 0px 1px 3px 1px rgba(0, 0, 0, 0.15);\n",
              "      filter: drop-shadow(0px 1px 2px rgba(0, 0, 0, 0.3));\n",
              "      fill: #FFFFFF;\n",
              "    }\n",
              "  </style>\n",
              "\n",
              "      <script>\n",
              "        const buttonEl =\n",
              "          document.querySelector('#df-757f564a-7572-4641-b0e1-7447711bf394 button.colab-df-convert');\n",
              "        buttonEl.style.display =\n",
              "          google.colab.kernel.accessAllowed ? 'block' : 'none';\n",
              "\n",
              "        async function convertToInteractive(key) {\n",
              "          const element = document.querySelector('#df-757f564a-7572-4641-b0e1-7447711bf394');\n",
              "          const dataTable =\n",
              "            await google.colab.kernel.invokeFunction('convertToInteractive',\n",
              "                                                     [key], {});\n",
              "          if (!dataTable) return;\n",
              "\n",
              "          const docLinkHtml = 'Like what you see? Visit the ' +\n",
              "            '<a target=\"_blank\" href=https://colab.research.google.com/notebooks/data_table.ipynb>data table notebook</a>'\n",
              "            + ' to learn more about interactive tables.';\n",
              "          element.innerHTML = '';\n",
              "          dataTable['output_type'] = 'display_data';\n",
              "          await google.colab.output.renderOutput(dataTable, element);\n",
              "          const docLink = document.createElement('div');\n",
              "          docLink.innerHTML = docLinkHtml;\n",
              "          element.appendChild(docLink);\n",
              "        }\n",
              "      </script>\n",
              "    </div>\n",
              "  </div>\n",
              "  "
            ]
          },
          "metadata": {},
          "execution_count": 3
        }
      ],
      "source": [
        "df = pd.read_csv(file_path,index_col = 0)\n",
        "df.head()"
      ]
    },
    {
      "cell_type": "code",
      "execution_count": 4,
      "id": "43a9dd76",
      "metadata": {
        "id": "43a9dd76"
      },
      "outputs": [],
      "source": [
        "df = df[['depart_airport','return_airport','total_cost','depart_duration','depart_stops','return_duration','return_stops','day_before_purchase','total_min']]"
      ]
    },
    {
      "cell_type": "code",
      "execution_count": 5,
      "id": "8d2ac113",
      "metadata": {
        "colab": {
          "base_uri": "https://localhost:8080/",
          "height": 238
        },
        "id": "8d2ac113",
        "outputId": "e1e0e8fa-65c3-4b65-8a53-bbd367640d0d"
      },
      "outputs": [
        {
          "output_type": "execute_result",
          "data": {
            "text/plain": [
              "                    depart_airport return_airport  total_cost  \\\n",
              "timestamp                                                       \n",
              "2022-06-23 03:41:00            SNA            SMF         720   \n",
              "2022-06-23 03:42:00            SNA            SMF         630   \n",
              "2022-06-23 03:43:00            SNA            PHX         353   \n",
              "2022-06-23 03:43:00            SNA            PHX         299   \n",
              "2022-06-23 03:44:00            SNA            ORD        2939   \n",
              "\n",
              "                     depart_duration  depart_stops  return_duration  \\\n",
              "timestamp                                                             \n",
              "2022-06-23 03:41:00              309             1              341   \n",
              "2022-06-23 03:42:00              309             1              309   \n",
              "2022-06-23 03:43:00               78             0               88   \n",
              "2022-06-23 03:43:00               78             0               78   \n",
              "2022-06-23 03:44:00              636             1              251   \n",
              "\n",
              "                     return_stops  day_before_purchase  total_min  \n",
              "timestamp                                                          \n",
              "2022-06-23 03:41:00             1                    0          0  \n",
              "2022-06-23 03:42:00             1                    6          6  \n",
              "2022-06-23 03:43:00             0                    0          0  \n",
              "2022-06-23 03:43:00             0                    6          6  \n",
              "2022-06-23 03:44:00             0                    0          0  "
            ],
            "text/html": [
              "\n",
              "  <div id=\"df-c597c418-628b-4e3c-8904-4392713ca9b3\">\n",
              "    <div class=\"colab-df-container\">\n",
              "      <div>\n",
              "<style scoped>\n",
              "    .dataframe tbody tr th:only-of-type {\n",
              "        vertical-align: middle;\n",
              "    }\n",
              "\n",
              "    .dataframe tbody tr th {\n",
              "        vertical-align: top;\n",
              "    }\n",
              "\n",
              "    .dataframe thead th {\n",
              "        text-align: right;\n",
              "    }\n",
              "</style>\n",
              "<table border=\"1\" class=\"dataframe\">\n",
              "  <thead>\n",
              "    <tr style=\"text-align: right;\">\n",
              "      <th></th>\n",
              "      <th>depart_airport</th>\n",
              "      <th>return_airport</th>\n",
              "      <th>total_cost</th>\n",
              "      <th>depart_duration</th>\n",
              "      <th>depart_stops</th>\n",
              "      <th>return_duration</th>\n",
              "      <th>return_stops</th>\n",
              "      <th>day_before_purchase</th>\n",
              "      <th>total_min</th>\n",
              "    </tr>\n",
              "    <tr>\n",
              "      <th>timestamp</th>\n",
              "      <th></th>\n",
              "      <th></th>\n",
              "      <th></th>\n",
              "      <th></th>\n",
              "      <th></th>\n",
              "      <th></th>\n",
              "      <th></th>\n",
              "      <th></th>\n",
              "      <th></th>\n",
              "    </tr>\n",
              "  </thead>\n",
              "  <tbody>\n",
              "    <tr>\n",
              "      <th>2022-06-23 03:41:00</th>\n",
              "      <td>SNA</td>\n",
              "      <td>SMF</td>\n",
              "      <td>720</td>\n",
              "      <td>309</td>\n",
              "      <td>1</td>\n",
              "      <td>341</td>\n",
              "      <td>1</td>\n",
              "      <td>0</td>\n",
              "      <td>0</td>\n",
              "    </tr>\n",
              "    <tr>\n",
              "      <th>2022-06-23 03:42:00</th>\n",
              "      <td>SNA</td>\n",
              "      <td>SMF</td>\n",
              "      <td>630</td>\n",
              "      <td>309</td>\n",
              "      <td>1</td>\n",
              "      <td>309</td>\n",
              "      <td>1</td>\n",
              "      <td>6</td>\n",
              "      <td>6</td>\n",
              "    </tr>\n",
              "    <tr>\n",
              "      <th>2022-06-23 03:43:00</th>\n",
              "      <td>SNA</td>\n",
              "      <td>PHX</td>\n",
              "      <td>353</td>\n",
              "      <td>78</td>\n",
              "      <td>0</td>\n",
              "      <td>88</td>\n",
              "      <td>0</td>\n",
              "      <td>0</td>\n",
              "      <td>0</td>\n",
              "    </tr>\n",
              "    <tr>\n",
              "      <th>2022-06-23 03:43:00</th>\n",
              "      <td>SNA</td>\n",
              "      <td>PHX</td>\n",
              "      <td>299</td>\n",
              "      <td>78</td>\n",
              "      <td>0</td>\n",
              "      <td>78</td>\n",
              "      <td>0</td>\n",
              "      <td>6</td>\n",
              "      <td>6</td>\n",
              "    </tr>\n",
              "    <tr>\n",
              "      <th>2022-06-23 03:44:00</th>\n",
              "      <td>SNA</td>\n",
              "      <td>ORD</td>\n",
              "      <td>2939</td>\n",
              "      <td>636</td>\n",
              "      <td>1</td>\n",
              "      <td>251</td>\n",
              "      <td>0</td>\n",
              "      <td>0</td>\n",
              "      <td>0</td>\n",
              "    </tr>\n",
              "  </tbody>\n",
              "</table>\n",
              "</div>\n",
              "      <button class=\"colab-df-convert\" onclick=\"convertToInteractive('df-c597c418-628b-4e3c-8904-4392713ca9b3')\"\n",
              "              title=\"Convert this dataframe to an interactive table.\"\n",
              "              style=\"display:none;\">\n",
              "        \n",
              "  <svg xmlns=\"http://www.w3.org/2000/svg\" height=\"24px\"viewBox=\"0 0 24 24\"\n",
              "       width=\"24px\">\n",
              "    <path d=\"M0 0h24v24H0V0z\" fill=\"none\"/>\n",
              "    <path d=\"M18.56 5.44l.94 2.06.94-2.06 2.06-.94-2.06-.94-.94-2.06-.94 2.06-2.06.94zm-11 1L8.5 8.5l.94-2.06 2.06-.94-2.06-.94L8.5 2.5l-.94 2.06-2.06.94zm10 10l.94 2.06.94-2.06 2.06-.94-2.06-.94-.94-2.06-.94 2.06-2.06.94z\"/><path d=\"M17.41 7.96l-1.37-1.37c-.4-.4-.92-.59-1.43-.59-.52 0-1.04.2-1.43.59L10.3 9.45l-7.72 7.72c-.78.78-.78 2.05 0 2.83L4 21.41c.39.39.9.59 1.41.59.51 0 1.02-.2 1.41-.59l7.78-7.78 2.81-2.81c.8-.78.8-2.07 0-2.86zM5.41 20L4 18.59l7.72-7.72 1.47 1.35L5.41 20z\"/>\n",
              "  </svg>\n",
              "      </button>\n",
              "      \n",
              "  <style>\n",
              "    .colab-df-container {\n",
              "      display:flex;\n",
              "      flex-wrap:wrap;\n",
              "      gap: 12px;\n",
              "    }\n",
              "\n",
              "    .colab-df-convert {\n",
              "      background-color: #E8F0FE;\n",
              "      border: none;\n",
              "      border-radius: 50%;\n",
              "      cursor: pointer;\n",
              "      display: none;\n",
              "      fill: #1967D2;\n",
              "      height: 32px;\n",
              "      padding: 0 0 0 0;\n",
              "      width: 32px;\n",
              "    }\n",
              "\n",
              "    .colab-df-convert:hover {\n",
              "      background-color: #E2EBFA;\n",
              "      box-shadow: 0px 1px 2px rgba(60, 64, 67, 0.3), 0px 1px 3px 1px rgba(60, 64, 67, 0.15);\n",
              "      fill: #174EA6;\n",
              "    }\n",
              "\n",
              "    [theme=dark] .colab-df-convert {\n",
              "      background-color: #3B4455;\n",
              "      fill: #D2E3FC;\n",
              "    }\n",
              "\n",
              "    [theme=dark] .colab-df-convert:hover {\n",
              "      background-color: #434B5C;\n",
              "      box-shadow: 0px 1px 3px 1px rgba(0, 0, 0, 0.15);\n",
              "      filter: drop-shadow(0px 1px 2px rgba(0, 0, 0, 0.3));\n",
              "      fill: #FFFFFF;\n",
              "    }\n",
              "  </style>\n",
              "\n",
              "      <script>\n",
              "        const buttonEl =\n",
              "          document.querySelector('#df-c597c418-628b-4e3c-8904-4392713ca9b3 button.colab-df-convert');\n",
              "        buttonEl.style.display =\n",
              "          google.colab.kernel.accessAllowed ? 'block' : 'none';\n",
              "\n",
              "        async function convertToInteractive(key) {\n",
              "          const element = document.querySelector('#df-c597c418-628b-4e3c-8904-4392713ca9b3');\n",
              "          const dataTable =\n",
              "            await google.colab.kernel.invokeFunction('convertToInteractive',\n",
              "                                                     [key], {});\n",
              "          if (!dataTable) return;\n",
              "\n",
              "          const docLinkHtml = 'Like what you see? Visit the ' +\n",
              "            '<a target=\"_blank\" href=https://colab.research.google.com/notebooks/data_table.ipynb>data table notebook</a>'\n",
              "            + ' to learn more about interactive tables.';\n",
              "          element.innerHTML = '';\n",
              "          dataTable['output_type'] = 'display_data';\n",
              "          await google.colab.output.renderOutput(dataTable, element);\n",
              "          const docLink = document.createElement('div');\n",
              "          docLink.innerHTML = docLinkHtml;\n",
              "          element.appendChild(docLink);\n",
              "        }\n",
              "      </script>\n",
              "    </div>\n",
              "  </div>\n",
              "  "
            ]
          },
          "metadata": {},
          "execution_count": 5
        }
      ],
      "source": [
        "df.head()"
      ]
    },
    {
      "cell_type": "code",
      "execution_count": 6,
      "id": "d929b8c7",
      "metadata": {
        "colab": {
          "base_uri": "https://localhost:8080/"
        },
        "id": "d929b8c7",
        "outputId": "9a8f352b-ec03-41f6-e71a-cad3808dd88e"
      },
      "outputs": [
        {
          "output_type": "execute_result",
          "data": {
            "text/plain": [
              "depart_airport         object\n",
              "return_airport         object\n",
              "total_cost              int64\n",
              "depart_duration         int64\n",
              "depart_stops            int64\n",
              "return_duration         int64\n",
              "return_stops            int64\n",
              "day_before_purchase     int64\n",
              "total_min               int64\n",
              "dtype: object"
            ]
          },
          "metadata": {},
          "execution_count": 6
        }
      ],
      "source": [
        "df.dtypes"
      ]
    },
    {
      "cell_type": "code",
      "execution_count": 7,
      "id": "962ae30b",
      "metadata": {
        "colab": {
          "base_uri": "https://localhost:8080/"
        },
        "id": "962ae30b",
        "outputId": "1a3661b3-45c2-4e92-e166-86c0cf14d00f"
      },
      "outputs": [
        {
          "output_type": "stream",
          "name": "stdout",
          "text": [
            "['SNA' 'LAX' 'SFO' 'SJC']\n"
          ]
        }
      ],
      "source": [
        "print(df['depart_airport'].unique())"
      ]
    },
    {
      "cell_type": "code",
      "execution_count": 8,
      "id": "5b58ff77",
      "metadata": {
        "colab": {
          "base_uri": "https://localhost:8080/"
        },
        "id": "5b58ff77",
        "outputId": "b7cabbdb-8b7b-4df7-dc3d-edc0f47086c2"
      },
      "outputs": [
        {
          "output_type": "stream",
          "name": "stdout",
          "text": [
            "['SMF' 'PHX' 'ORD' 'IAD' 'MSY']\n"
          ]
        }
      ],
      "source": [
        "print(df['return_airport'].unique())"
      ]
    },
    {
      "cell_type": "code",
      "execution_count": 9,
      "id": "e08836fb",
      "metadata": {
        "colab": {
          "base_uri": "https://localhost:8080/"
        },
        "id": "e08836fb",
        "outputId": "ae928f1a-cedb-424c-f2fe-9d06e7eef40d"
      },
      "outputs": [
        {
          "output_type": "execute_result",
          "data": {
            "text/plain": [
              "SNA    20\n",
              "LAX    15\n",
              "SFO     5\n",
              "SJC     5\n",
              "Name: depart_airport, dtype: int64"
            ]
          },
          "metadata": {},
          "execution_count": 9
        }
      ],
      "source": [
        "df['depart_airport'].value_counts()"
      ]
    },
    {
      "cell_type": "code",
      "execution_count": 10,
      "id": "30f3c53d",
      "metadata": {
        "scrolled": false,
        "colab": {
          "base_uri": "https://localhost:8080/"
        },
        "id": "30f3c53d",
        "outputId": "35598da7-7861-4abc-ba91-8249f1fd5df6"
      },
      "outputs": [
        {
          "output_type": "execute_result",
          "data": {
            "text/plain": [
              "ORD    17\n",
              "PHX    16\n",
              "IAD     5\n",
              "MSY     5\n",
              "SMF     2\n",
              "Name: return_airport, dtype: int64"
            ]
          },
          "metadata": {},
          "execution_count": 10
        }
      ],
      "source": [
        "df['return_airport'].value_counts()"
      ]
    },
    {
      "cell_type": "code",
      "execution_count": 11,
      "id": "cd9ad19b",
      "metadata": {
        "colab": {
          "base_uri": "https://localhost:8080/"
        },
        "id": "cd9ad19b",
        "outputId": "78f22c6f-b7b4-48dc-f757-6f58e3446769"
      },
      "outputs": [
        {
          "output_type": "execute_result",
          "data": {
            "text/plain": [
              "(45, 9)"
            ]
          },
          "metadata": {},
          "execution_count": 11
        }
      ],
      "source": [
        "df.shape"
      ]
    },
    {
      "cell_type": "code",
      "execution_count": 12,
      "id": "b34d4309",
      "metadata": {
        "id": "b34d4309"
      },
      "outputs": [],
      "source": [
        "columns = [\"depart_airport\",\"return_airport\",\n",
        "           \"total_cost\",\"depart_duration\",\n",
        "           \"depart_stops\",\"return_duration\",\"return_stops\",\n",
        "           \"day_before_purchase\",\"total_min\"\n",
        "    \n",
        "]\n",
        "\n",
        "# target = [\"total_cost\"]\n",
        "target = [\"day_before_purchase\"]"
      ]
    },
    {
      "cell_type": "code",
      "execution_count": 13,
      "id": "7535cb68",
      "metadata": {
        "id": "7535cb68"
      },
      "outputs": [],
      "source": [
        "# Create our features\n",
        "# X = df2.drop(columns='total_cost')\n",
        "X = df[[\"day_before_purchase\", \"return_duration\", \"return_stops\", \"depart_duration\", \"depart_airport\", \"return_airport\"]] #, \"depart_airport\", \"return_airport\"\n",
        "X = pd.get_dummies(X)\n",
        "\n",
        "# Create our target\n",
        "y = df.loc[:, target].copy()"
      ]
    },
    {
      "cell_type": "code",
      "source": [
        "X.head()"
      ],
      "metadata": {
        "colab": {
          "base_uri": "https://localhost:8080/",
          "height": 238
        },
        "id": "X-BWdiCidoHa",
        "outputId": "4a8d274d-ea29-410a-c7a1-9e46a0692f9f"
      },
      "id": "X-BWdiCidoHa",
      "execution_count": 14,
      "outputs": [
        {
          "output_type": "execute_result",
          "data": {
            "text/plain": [
              "                     day_before_purchase  return_duration  return_stops  \\\n",
              "timestamp                                                                 \n",
              "2022-06-23 03:41:00                    0              341             1   \n",
              "2022-06-23 03:42:00                    6              309             1   \n",
              "2022-06-23 03:43:00                    0               88             0   \n",
              "2022-06-23 03:43:00                    6               78             0   \n",
              "2022-06-23 03:44:00                    0              251             0   \n",
              "\n",
              "                     depart_duration  depart_airport_LAX  depart_airport_SFO  \\\n",
              "timestamp                                                                      \n",
              "2022-06-23 03:41:00              309                   0                   0   \n",
              "2022-06-23 03:42:00              309                   0                   0   \n",
              "2022-06-23 03:43:00               78                   0                   0   \n",
              "2022-06-23 03:43:00               78                   0                   0   \n",
              "2022-06-23 03:44:00              636                   0                   0   \n",
              "\n",
              "                     depart_airport_SJC  depart_airport_SNA  \\\n",
              "timestamp                                                     \n",
              "2022-06-23 03:41:00                   0                   1   \n",
              "2022-06-23 03:42:00                   0                   1   \n",
              "2022-06-23 03:43:00                   0                   1   \n",
              "2022-06-23 03:43:00                   0                   1   \n",
              "2022-06-23 03:44:00                   0                   1   \n",
              "\n",
              "                     return_airport_IAD  return_airport_MSY  \\\n",
              "timestamp                                                     \n",
              "2022-06-23 03:41:00                   0                   0   \n",
              "2022-06-23 03:42:00                   0                   0   \n",
              "2022-06-23 03:43:00                   0                   0   \n",
              "2022-06-23 03:43:00                   0                   0   \n",
              "2022-06-23 03:44:00                   0                   0   \n",
              "\n",
              "                     return_airport_ORD  return_airport_PHX  \\\n",
              "timestamp                                                     \n",
              "2022-06-23 03:41:00                   0                   0   \n",
              "2022-06-23 03:42:00                   0                   0   \n",
              "2022-06-23 03:43:00                   0                   1   \n",
              "2022-06-23 03:43:00                   0                   1   \n",
              "2022-06-23 03:44:00                   1                   0   \n",
              "\n",
              "                     return_airport_SMF  \n",
              "timestamp                                \n",
              "2022-06-23 03:41:00                   1  \n",
              "2022-06-23 03:42:00                   1  \n",
              "2022-06-23 03:43:00                   0  \n",
              "2022-06-23 03:43:00                   0  \n",
              "2022-06-23 03:44:00                   0  "
            ],
            "text/html": [
              "\n",
              "  <div id=\"df-964f8b86-4304-4536-a08a-2bdff0f38200\">\n",
              "    <div class=\"colab-df-container\">\n",
              "      <div>\n",
              "<style scoped>\n",
              "    .dataframe tbody tr th:only-of-type {\n",
              "        vertical-align: middle;\n",
              "    }\n",
              "\n",
              "    .dataframe tbody tr th {\n",
              "        vertical-align: top;\n",
              "    }\n",
              "\n",
              "    .dataframe thead th {\n",
              "        text-align: right;\n",
              "    }\n",
              "</style>\n",
              "<table border=\"1\" class=\"dataframe\">\n",
              "  <thead>\n",
              "    <tr style=\"text-align: right;\">\n",
              "      <th></th>\n",
              "      <th>day_before_purchase</th>\n",
              "      <th>return_duration</th>\n",
              "      <th>return_stops</th>\n",
              "      <th>depart_duration</th>\n",
              "      <th>depart_airport_LAX</th>\n",
              "      <th>depart_airport_SFO</th>\n",
              "      <th>depart_airport_SJC</th>\n",
              "      <th>depart_airport_SNA</th>\n",
              "      <th>return_airport_IAD</th>\n",
              "      <th>return_airport_MSY</th>\n",
              "      <th>return_airport_ORD</th>\n",
              "      <th>return_airport_PHX</th>\n",
              "      <th>return_airport_SMF</th>\n",
              "    </tr>\n",
              "    <tr>\n",
              "      <th>timestamp</th>\n",
              "      <th></th>\n",
              "      <th></th>\n",
              "      <th></th>\n",
              "      <th></th>\n",
              "      <th></th>\n",
              "      <th></th>\n",
              "      <th></th>\n",
              "      <th></th>\n",
              "      <th></th>\n",
              "      <th></th>\n",
              "      <th></th>\n",
              "      <th></th>\n",
              "      <th></th>\n",
              "    </tr>\n",
              "  </thead>\n",
              "  <tbody>\n",
              "    <tr>\n",
              "      <th>2022-06-23 03:41:00</th>\n",
              "      <td>0</td>\n",
              "      <td>341</td>\n",
              "      <td>1</td>\n",
              "      <td>309</td>\n",
              "      <td>0</td>\n",
              "      <td>0</td>\n",
              "      <td>0</td>\n",
              "      <td>1</td>\n",
              "      <td>0</td>\n",
              "      <td>0</td>\n",
              "      <td>0</td>\n",
              "      <td>0</td>\n",
              "      <td>1</td>\n",
              "    </tr>\n",
              "    <tr>\n",
              "      <th>2022-06-23 03:42:00</th>\n",
              "      <td>6</td>\n",
              "      <td>309</td>\n",
              "      <td>1</td>\n",
              "      <td>309</td>\n",
              "      <td>0</td>\n",
              "      <td>0</td>\n",
              "      <td>0</td>\n",
              "      <td>1</td>\n",
              "      <td>0</td>\n",
              "      <td>0</td>\n",
              "      <td>0</td>\n",
              "      <td>0</td>\n",
              "      <td>1</td>\n",
              "    </tr>\n",
              "    <tr>\n",
              "      <th>2022-06-23 03:43:00</th>\n",
              "      <td>0</td>\n",
              "      <td>88</td>\n",
              "      <td>0</td>\n",
              "      <td>78</td>\n",
              "      <td>0</td>\n",
              "      <td>0</td>\n",
              "      <td>0</td>\n",
              "      <td>1</td>\n",
              "      <td>0</td>\n",
              "      <td>0</td>\n",
              "      <td>0</td>\n",
              "      <td>1</td>\n",
              "      <td>0</td>\n",
              "    </tr>\n",
              "    <tr>\n",
              "      <th>2022-06-23 03:43:00</th>\n",
              "      <td>6</td>\n",
              "      <td>78</td>\n",
              "      <td>0</td>\n",
              "      <td>78</td>\n",
              "      <td>0</td>\n",
              "      <td>0</td>\n",
              "      <td>0</td>\n",
              "      <td>1</td>\n",
              "      <td>0</td>\n",
              "      <td>0</td>\n",
              "      <td>0</td>\n",
              "      <td>1</td>\n",
              "      <td>0</td>\n",
              "    </tr>\n",
              "    <tr>\n",
              "      <th>2022-06-23 03:44:00</th>\n",
              "      <td>0</td>\n",
              "      <td>251</td>\n",
              "      <td>0</td>\n",
              "      <td>636</td>\n",
              "      <td>0</td>\n",
              "      <td>0</td>\n",
              "      <td>0</td>\n",
              "      <td>1</td>\n",
              "      <td>0</td>\n",
              "      <td>0</td>\n",
              "      <td>1</td>\n",
              "      <td>0</td>\n",
              "      <td>0</td>\n",
              "    </tr>\n",
              "  </tbody>\n",
              "</table>\n",
              "</div>\n",
              "      <button class=\"colab-df-convert\" onclick=\"convertToInteractive('df-964f8b86-4304-4536-a08a-2bdff0f38200')\"\n",
              "              title=\"Convert this dataframe to an interactive table.\"\n",
              "              style=\"display:none;\">\n",
              "        \n",
              "  <svg xmlns=\"http://www.w3.org/2000/svg\" height=\"24px\"viewBox=\"0 0 24 24\"\n",
              "       width=\"24px\">\n",
              "    <path d=\"M0 0h24v24H0V0z\" fill=\"none\"/>\n",
              "    <path d=\"M18.56 5.44l.94 2.06.94-2.06 2.06-.94-2.06-.94-.94-2.06-.94 2.06-2.06.94zm-11 1L8.5 8.5l.94-2.06 2.06-.94-2.06-.94L8.5 2.5l-.94 2.06-2.06.94zm10 10l.94 2.06.94-2.06 2.06-.94-2.06-.94-.94-2.06-.94 2.06-2.06.94z\"/><path d=\"M17.41 7.96l-1.37-1.37c-.4-.4-.92-.59-1.43-.59-.52 0-1.04.2-1.43.59L10.3 9.45l-7.72 7.72c-.78.78-.78 2.05 0 2.83L4 21.41c.39.39.9.59 1.41.59.51 0 1.02-.2 1.41-.59l7.78-7.78 2.81-2.81c.8-.78.8-2.07 0-2.86zM5.41 20L4 18.59l7.72-7.72 1.47 1.35L5.41 20z\"/>\n",
              "  </svg>\n",
              "      </button>\n",
              "      \n",
              "  <style>\n",
              "    .colab-df-container {\n",
              "      display:flex;\n",
              "      flex-wrap:wrap;\n",
              "      gap: 12px;\n",
              "    }\n",
              "\n",
              "    .colab-df-convert {\n",
              "      background-color: #E8F0FE;\n",
              "      border: none;\n",
              "      border-radius: 50%;\n",
              "      cursor: pointer;\n",
              "      display: none;\n",
              "      fill: #1967D2;\n",
              "      height: 32px;\n",
              "      padding: 0 0 0 0;\n",
              "      width: 32px;\n",
              "    }\n",
              "\n",
              "    .colab-df-convert:hover {\n",
              "      background-color: #E2EBFA;\n",
              "      box-shadow: 0px 1px 2px rgba(60, 64, 67, 0.3), 0px 1px 3px 1px rgba(60, 64, 67, 0.15);\n",
              "      fill: #174EA6;\n",
              "    }\n",
              "\n",
              "    [theme=dark] .colab-df-convert {\n",
              "      background-color: #3B4455;\n",
              "      fill: #D2E3FC;\n",
              "    }\n",
              "\n",
              "    [theme=dark] .colab-df-convert:hover {\n",
              "      background-color: #434B5C;\n",
              "      box-shadow: 0px 1px 3px 1px rgba(0, 0, 0, 0.15);\n",
              "      filter: drop-shadow(0px 1px 2px rgba(0, 0, 0, 0.3));\n",
              "      fill: #FFFFFF;\n",
              "    }\n",
              "  </style>\n",
              "\n",
              "      <script>\n",
              "        const buttonEl =\n",
              "          document.querySelector('#df-964f8b86-4304-4536-a08a-2bdff0f38200 button.colab-df-convert');\n",
              "        buttonEl.style.display =\n",
              "          google.colab.kernel.accessAllowed ? 'block' : 'none';\n",
              "\n",
              "        async function convertToInteractive(key) {\n",
              "          const element = document.querySelector('#df-964f8b86-4304-4536-a08a-2bdff0f38200');\n",
              "          const dataTable =\n",
              "            await google.colab.kernel.invokeFunction('convertToInteractive',\n",
              "                                                     [key], {});\n",
              "          if (!dataTable) return;\n",
              "\n",
              "          const docLinkHtml = 'Like what you see? Visit the ' +\n",
              "            '<a target=\"_blank\" href=https://colab.research.google.com/notebooks/data_table.ipynb>data table notebook</a>'\n",
              "            + ' to learn more about interactive tables.';\n",
              "          element.innerHTML = '';\n",
              "          dataTable['output_type'] = 'display_data';\n",
              "          await google.colab.output.renderOutput(dataTable, element);\n",
              "          const docLink = document.createElement('div');\n",
              "          docLink.innerHTML = docLinkHtml;\n",
              "          element.appendChild(docLink);\n",
              "        }\n",
              "      </script>\n",
              "    </div>\n",
              "  </div>\n",
              "  "
            ]
          },
          "metadata": {},
          "execution_count": 14
        }
      ]
    },
    {
      "cell_type": "code",
      "execution_count": 15,
      "id": "9e5f73cb",
      "metadata": {
        "id": "9e5f73cb"
      },
      "outputs": [],
      "source": [
        "# Use sklearn to split dataset\n",
        "from sklearn.model_selection import train_test_split\n",
        "X_train, X_test, y_train, y_test = train_test_split(X, y, random_state=78)"
      ]
    },
    {
      "cell_type": "code",
      "execution_count": 16,
      "id": "491c45fc",
      "metadata": {
        "id": "491c45fc"
      },
      "outputs": [],
      "source": [
        "# Create scaler instance\n",
        "X_scaler = skl.preprocessing.StandardScaler()\n",
        "\n",
        "# Fit the scaler\n",
        "X_scaler.fit(X_train)\n",
        "\n",
        "# Scale the data\n",
        "X_train_scaled = X_scaler.transform(X_train)\n",
        "X_test_scaled = X_scaler.transform(X_test)"
      ]
    },
    {
      "cell_type": "code",
      "execution_count": 58,
      "id": "379a752b",
      "metadata": {
        "id": "379a752b"
      },
      "outputs": [],
      "source": [
        "# Create the Keras Sequential model\n",
        "nn_model = tf.keras.models.Sequential()"
      ]
    },
    {
      "cell_type": "code",
      "execution_count": 59,
      "id": "bb403c0d",
      "metadata": {
        "id": "bb403c0d"
      },
      "outputs": [],
      "source": [
        "# Add the first input layer with relu\n",
        "nn_model.add(tf.keras.layers.Dense(units=32, activation=\"relu\", input_dim=13))"
      ]
    },
    {
      "cell_type": "code",
      "source": [
        "nn_model.add(tf.keras.layers.Dense(units=16, activation=\"exponential\"))"
      ],
      "metadata": {
        "id": "7Fm4ua-Wea8w"
      },
      "id": "7Fm4ua-Wea8w",
      "execution_count": 60,
      "outputs": []
    },
    {
      "cell_type": "code",
      "source": [
        "nn_model.add(tf.keras.layers.Dense(units=8, activation=\"tanh\"))"
      ],
      "metadata": {
        "id": "k2hOYVaGdyTH"
      },
      "id": "k2hOYVaGdyTH",
      "execution_count": 61,
      "outputs": []
    },
    {
      "cell_type": "code",
      "source": [
        "# nn_model.add(tf.keras.layers.Dense(units=4, activation=\"softmax\"))"
      ],
      "metadata": {
        "id": "RTjYC1HUeztY"
      },
      "id": "RTjYC1HUeztY",
      "execution_count": 62,
      "outputs": []
    },
    {
      "cell_type": "code",
      "execution_count": 63,
      "id": "b776ab8c",
      "metadata": {
        "id": "b776ab8c"
      },
      "outputs": [],
      "source": [
        "# Add the output layer that uses a probability activation function\n",
        "nn_model.add(tf.keras.layers.Dense(units=1, activation=\"sigmoid\"))"
      ]
    },
    {
      "cell_type": "code",
      "execution_count": 64,
      "id": "ee2d0936",
      "metadata": {
        "colab": {
          "base_uri": "https://localhost:8080/"
        },
        "id": "ee2d0936",
        "outputId": "e45d15a5-e871-4a12-d892-d21daafd246e"
      },
      "outputs": [
        {
          "output_type": "stream",
          "name": "stdout",
          "text": [
            "Model: \"sequential_5\"\n",
            "_________________________________________________________________\n",
            " Layer (type)                Output Shape              Param #   \n",
            "=================================================================\n",
            " dense_18 (Dense)            (None, 32)                448       \n",
            "                                                                 \n",
            " dense_19 (Dense)            (None, 8)                 264       \n",
            "                                                                 \n",
            " dense_20 (Dense)            (None, 1)                 9         \n",
            "                                                                 \n",
            "=================================================================\n",
            "Total params: 721\n",
            "Trainable params: 721\n",
            "Non-trainable params: 0\n",
            "_________________________________________________________________\n"
          ]
        }
      ],
      "source": [
        "# Check the structure of the Sequential model\n",
        "nn_model.summary()"
      ]
    },
    {
      "cell_type": "code",
      "execution_count": 65,
      "id": "1ff02a4d",
      "metadata": {
        "id": "1ff02a4d"
      },
      "outputs": [],
      "source": [
        "# Compile the Sequential model together and customize metrics\n",
        "nn_model.compile(loss=\"mean_squared_error\", optimizer=\"adam\", metrics=[\"accuracy\"])"
      ]
    },
    {
      "cell_type": "code",
      "execution_count": 66,
      "id": "b9cd5d0a",
      "metadata": {
        "id": "b9cd5d0a"
      },
      "outputs": [],
      "source": [
        "# tf.keras.models.Model.build build(input_shape)"
      ]
    },
    {
      "cell_type": "code",
      "execution_count": 67,
      "id": "f430ba98",
      "metadata": {
        "colab": {
          "base_uri": "https://localhost:8080/"
        },
        "id": "f430ba98",
        "outputId": "5ad6970e-42c1-477e-f07c-be0dd47efd6f"
      },
      "outputs": [
        {
          "output_type": "stream",
          "name": "stdout",
          "text": [
            "Epoch 1/10\n",
            "2/2 [==============================] - 0s 8ms/step - loss: 110.8045 - accuracy: 0.0000e+00\n",
            "Epoch 2/10\n",
            "2/2 [==============================] - 0s 8ms/step - loss: 110.3192 - accuracy: 0.0000e+00\n",
            "Epoch 3/10\n",
            "2/2 [==============================] - 0s 4ms/step - loss: 110.0399 - accuracy: 0.0000e+00\n",
            "Epoch 4/10\n",
            "2/2 [==============================] - 0s 6ms/step - loss: 109.8510 - accuracy: 0.0000e+00\n",
            "Epoch 5/10\n",
            "2/2 [==============================] - 0s 5ms/step - loss: 109.7261 - accuracy: 0.0000e+00\n",
            "Epoch 6/10\n",
            "2/2 [==============================] - 0s 5ms/step - loss: 109.5912 - accuracy: 0.0000e+00\n",
            "Epoch 7/10\n",
            "2/2 [==============================] - 0s 5ms/step - loss: 109.4918 - accuracy: 0.0000e+00\n",
            "Epoch 8/10\n",
            "2/2 [==============================] - 0s 12ms/step - loss: 109.4599 - accuracy: 0.0000e+00\n",
            "Epoch 9/10\n",
            "2/2 [==============================] - 0s 7ms/step - loss: 109.4320 - accuracy: 0.0000e+00\n",
            "Epoch 10/10\n",
            "2/2 [==============================] - 0s 7ms/step - loss: 109.4053 - accuracy: 0.0000e+00\n"
          ]
        }
      ],
      "source": [
        "fit_mdl = nn_model.fit(X_train, y_train, epochs=10)"
      ]
    },
    {
      "cell_type": "code",
      "execution_count": 69,
      "id": "5e36b817",
      "metadata": {
        "colab": {
          "base_uri": "https://localhost:8080/"
        },
        "id": "5e36b817",
        "outputId": "292da38b-f43b-4fad-9a2b-becb869c8fbe"
      },
      "outputs": [
        {
          "output_type": "execute_result",
          "data": {
            "text/plain": [
              "array([[0.8351561 ],\n",
              "       [0.7217762 ],\n",
              "       [0.8351332 ],\n",
              "       [0.8351561 ],\n",
              "       [0.8350704 ],\n",
              "       [0.8351561 ],\n",
              "       [0.8351509 ],\n",
              "       [0.8351399 ],\n",
              "       [0.8351561 ],\n",
              "       [0.72177017],\n",
              "       [0.8351561 ],\n",
              "       [0.8351561 ]], dtype=float32)"
            ]
          },
          "metadata": {},
          "execution_count": 69
        }
      ],
      "source": [
        "nn_model.predict(X_test)"
      ]
    },
    {
      "cell_type": "code",
      "execution_count": 70,
      "id": "7d3a4fc5",
      "metadata": {
        "colab": {
          "base_uri": "https://localhost:8080/",
          "height": 457
        },
        "id": "7d3a4fc5",
        "outputId": "756b016a-84d4-4658-c899-1d1f5700314d"
      },
      "outputs": [
        {
          "output_type": "execute_result",
          "data": {
            "text/plain": [
              "                     day_before_purchase\n",
              "timestamp                               \n",
              "2022-06-23 04:48:32                   27\n",
              "2022-06-23 04:54:01                    0\n",
              "2022-06-23 04:52:12                   20\n",
              "2022-06-24 01:51:01                   12\n",
              "2022-06-23 04:41:02                    6\n",
              "2022-06-23 04:43:34                   27\n",
              "2022-06-25 00:00:00                   12\n",
              "2022-06-23 04:51:19                   13\n",
              "2022-06-24 01:52:03                    5\n",
              "2022-06-23 04:44:30                    0\n",
              "2022-06-23 04:56:48                   20\n",
              "2022-06-23 03:42:00                    6"
            ],
            "text/html": [
              "\n",
              "  <div id=\"df-af84fd58-b87b-425c-bc6c-224c12b76467\">\n",
              "    <div class=\"colab-df-container\">\n",
              "      <div>\n",
              "<style scoped>\n",
              "    .dataframe tbody tr th:only-of-type {\n",
              "        vertical-align: middle;\n",
              "    }\n",
              "\n",
              "    .dataframe tbody tr th {\n",
              "        vertical-align: top;\n",
              "    }\n",
              "\n",
              "    .dataframe thead th {\n",
              "        text-align: right;\n",
              "    }\n",
              "</style>\n",
              "<table border=\"1\" class=\"dataframe\">\n",
              "  <thead>\n",
              "    <tr style=\"text-align: right;\">\n",
              "      <th></th>\n",
              "      <th>day_before_purchase</th>\n",
              "    </tr>\n",
              "    <tr>\n",
              "      <th>timestamp</th>\n",
              "      <th></th>\n",
              "    </tr>\n",
              "  </thead>\n",
              "  <tbody>\n",
              "    <tr>\n",
              "      <th>2022-06-23 04:48:32</th>\n",
              "      <td>27</td>\n",
              "    </tr>\n",
              "    <tr>\n",
              "      <th>2022-06-23 04:54:01</th>\n",
              "      <td>0</td>\n",
              "    </tr>\n",
              "    <tr>\n",
              "      <th>2022-06-23 04:52:12</th>\n",
              "      <td>20</td>\n",
              "    </tr>\n",
              "    <tr>\n",
              "      <th>2022-06-24 01:51:01</th>\n",
              "      <td>12</td>\n",
              "    </tr>\n",
              "    <tr>\n",
              "      <th>2022-06-23 04:41:02</th>\n",
              "      <td>6</td>\n",
              "    </tr>\n",
              "    <tr>\n",
              "      <th>2022-06-23 04:43:34</th>\n",
              "      <td>27</td>\n",
              "    </tr>\n",
              "    <tr>\n",
              "      <th>2022-06-25 00:00:00</th>\n",
              "      <td>12</td>\n",
              "    </tr>\n",
              "    <tr>\n",
              "      <th>2022-06-23 04:51:19</th>\n",
              "      <td>13</td>\n",
              "    </tr>\n",
              "    <tr>\n",
              "      <th>2022-06-24 01:52:03</th>\n",
              "      <td>5</td>\n",
              "    </tr>\n",
              "    <tr>\n",
              "      <th>2022-06-23 04:44:30</th>\n",
              "      <td>0</td>\n",
              "    </tr>\n",
              "    <tr>\n",
              "      <th>2022-06-23 04:56:48</th>\n",
              "      <td>20</td>\n",
              "    </tr>\n",
              "    <tr>\n",
              "      <th>2022-06-23 03:42:00</th>\n",
              "      <td>6</td>\n",
              "    </tr>\n",
              "  </tbody>\n",
              "</table>\n",
              "</div>\n",
              "      <button class=\"colab-df-convert\" onclick=\"convertToInteractive('df-af84fd58-b87b-425c-bc6c-224c12b76467')\"\n",
              "              title=\"Convert this dataframe to an interactive table.\"\n",
              "              style=\"display:none;\">\n",
              "        \n",
              "  <svg xmlns=\"http://www.w3.org/2000/svg\" height=\"24px\"viewBox=\"0 0 24 24\"\n",
              "       width=\"24px\">\n",
              "    <path d=\"M0 0h24v24H0V0z\" fill=\"none\"/>\n",
              "    <path d=\"M18.56 5.44l.94 2.06.94-2.06 2.06-.94-2.06-.94-.94-2.06-.94 2.06-2.06.94zm-11 1L8.5 8.5l.94-2.06 2.06-.94-2.06-.94L8.5 2.5l-.94 2.06-2.06.94zm10 10l.94 2.06.94-2.06 2.06-.94-2.06-.94-.94-2.06-.94 2.06-2.06.94z\"/><path d=\"M17.41 7.96l-1.37-1.37c-.4-.4-.92-.59-1.43-.59-.52 0-1.04.2-1.43.59L10.3 9.45l-7.72 7.72c-.78.78-.78 2.05 0 2.83L4 21.41c.39.39.9.59 1.41.59.51 0 1.02-.2 1.41-.59l7.78-7.78 2.81-2.81c.8-.78.8-2.07 0-2.86zM5.41 20L4 18.59l7.72-7.72 1.47 1.35L5.41 20z\"/>\n",
              "  </svg>\n",
              "      </button>\n",
              "      \n",
              "  <style>\n",
              "    .colab-df-container {\n",
              "      display:flex;\n",
              "      flex-wrap:wrap;\n",
              "      gap: 12px;\n",
              "    }\n",
              "\n",
              "    .colab-df-convert {\n",
              "      background-color: #E8F0FE;\n",
              "      border: none;\n",
              "      border-radius: 50%;\n",
              "      cursor: pointer;\n",
              "      display: none;\n",
              "      fill: #1967D2;\n",
              "      height: 32px;\n",
              "      padding: 0 0 0 0;\n",
              "      width: 32px;\n",
              "    }\n",
              "\n",
              "    .colab-df-convert:hover {\n",
              "      background-color: #E2EBFA;\n",
              "      box-shadow: 0px 1px 2px rgba(60, 64, 67, 0.3), 0px 1px 3px 1px rgba(60, 64, 67, 0.15);\n",
              "      fill: #174EA6;\n",
              "    }\n",
              "\n",
              "    [theme=dark] .colab-df-convert {\n",
              "      background-color: #3B4455;\n",
              "      fill: #D2E3FC;\n",
              "    }\n",
              "\n",
              "    [theme=dark] .colab-df-convert:hover {\n",
              "      background-color: #434B5C;\n",
              "      box-shadow: 0px 1px 3px 1px rgba(0, 0, 0, 0.15);\n",
              "      filter: drop-shadow(0px 1px 2px rgba(0, 0, 0, 0.3));\n",
              "      fill: #FFFFFF;\n",
              "    }\n",
              "  </style>\n",
              "\n",
              "      <script>\n",
              "        const buttonEl =\n",
              "          document.querySelector('#df-af84fd58-b87b-425c-bc6c-224c12b76467 button.colab-df-convert');\n",
              "        buttonEl.style.display =\n",
              "          google.colab.kernel.accessAllowed ? 'block' : 'none';\n",
              "\n",
              "        async function convertToInteractive(key) {\n",
              "          const element = document.querySelector('#df-af84fd58-b87b-425c-bc6c-224c12b76467');\n",
              "          const dataTable =\n",
              "            await google.colab.kernel.invokeFunction('convertToInteractive',\n",
              "                                                     [key], {});\n",
              "          if (!dataTable) return;\n",
              "\n",
              "          const docLinkHtml = 'Like what you see? Visit the ' +\n",
              "            '<a target=\"_blank\" href=https://colab.research.google.com/notebooks/data_table.ipynb>data table notebook</a>'\n",
              "            + ' to learn more about interactive tables.';\n",
              "          element.innerHTML = '';\n",
              "          dataTable['output_type'] = 'display_data';\n",
              "          await google.colab.output.renderOutput(dataTable, element);\n",
              "          const docLink = document.createElement('div');\n",
              "          docLink.innerHTML = docLinkHtml;\n",
              "          element.appendChild(docLink);\n",
              "        }\n",
              "      </script>\n",
              "    </div>\n",
              "  </div>\n",
              "  "
            ]
          },
          "metadata": {},
          "execution_count": 70
        }
      ],
      "source": [
        "y_test"
      ]
    },
    {
      "cell_type": "code",
      "execution_count": null,
      "id": "192edeb3",
      "metadata": {
        "id": "192edeb3"
      },
      "outputs": [],
      "source": [
        ""
      ]
    },
    {
      "cell_type": "code",
      "execution_count": null,
      "id": "a41a62d4",
      "metadata": {
        "id": "a41a62d4"
      },
      "outputs": [],
      "source": [
        ""
      ]
    }
  ],
  "metadata": {
    "kernelspec": {
      "display_name": "PythonData",
      "language": "python",
      "name": "pythondata"
    },
    "language_info": {
      "codemirror_mode": {
        "name": "ipython",
        "version": 3
      },
      "file_extension": ".py",
      "mimetype": "text/x-python",
      "name": "python",
      "nbconvert_exporter": "python",
      "pygments_lexer": "ipython3",
      "version": "3.7.11"
    },
    "colab": {
      "name": "group_10.ipynb",
      "provenance": [],
      "collapsed_sections": []
    }
  },
  "nbformat": 4,
  "nbformat_minor": 5
}