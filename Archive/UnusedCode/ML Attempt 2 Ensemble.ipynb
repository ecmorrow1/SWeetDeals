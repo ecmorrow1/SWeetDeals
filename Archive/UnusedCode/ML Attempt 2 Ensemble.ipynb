{
 "cells": [
  {
   "cell_type": "code",
   "execution_count": 1,
   "id": "64b80804",
   "metadata": {},
   "outputs": [],
   "source": [
    "import warnings\n",
    "warnings.filterwarnings('ignore')"
   ]
  },
  {
   "cell_type": "code",
   "execution_count": 2,
   "id": "b8c4c76c",
   "metadata": {},
   "outputs": [],
   "source": [
    "import numpy as np\n",
    "import pandas as pd\n",
    "from pathlib import Path\n",
    "from collections import Counter"
   ]
  },
  {
   "cell_type": "code",
   "execution_count": 3,
   "id": "c74caa03",
   "metadata": {},
   "outputs": [],
   "source": [
    "from sklearn.metrics import balanced_accuracy_score\n",
    "from sklearn.metrics import confusion_matrix\n",
    "from imblearn.metrics import classification_report_imbalanced"
   ]
  },
  {
   "cell_type": "code",
   "execution_count": 4,
   "id": "622f36ac",
   "metadata": {},
   "outputs": [],
   "source": [
    "from sklearn.ensemble import RandomForestClassifier\n",
    "from sklearn.preprocessing import StandardScaler\n",
    "from sklearn.model_selection import train_test_split\n",
    "from sklearn.metrics import confusion_matrix, accuracy_score, classification_report\n",
    "from imblearn.ensemble import BalancedRandomForestClassifier\n",
    "from imblearn.ensemble import EasyEnsembleClassifier"
   ]
  },
  {
   "cell_type": "code",
   "execution_count": 5,
   "id": "d72f0c4a",
   "metadata": {},
   "outputs": [
    {
     "data": {
      "text/html": [
       "<div>\n",
       "<style scoped>\n",
       "    .dataframe tbody tr th:only-of-type {\n",
       "        vertical-align: middle;\n",
       "    }\n",
       "\n",
       "    .dataframe tbody tr th {\n",
       "        vertical-align: top;\n",
       "    }\n",
       "\n",
       "    .dataframe thead th {\n",
       "        text-align: right;\n",
       "    }\n",
       "</style>\n",
       "<table border=\"1\" class=\"dataframe\">\n",
       "  <thead>\n",
       "    <tr style=\"text-align: right;\">\n",
       "      <th></th>\n",
       "      <th>trip_id</th>\n",
       "      <th>depart_airport</th>\n",
       "      <th>return_airport</th>\n",
       "      <th>depart_date</th>\n",
       "      <th>return_date</th>\n",
       "      <th>total_cost</th>\n",
       "      <th>depart_datetime</th>\n",
       "      <th>depart_duration</th>\n",
       "      <th>depart_stops</th>\n",
       "      <th>return_datetime</th>\n",
       "      <th>return_duration</th>\n",
       "      <th>return_stops</th>\n",
       "      <th>day_before_purchase</th>\n",
       "      <th>total_min</th>\n",
       "    </tr>\n",
       "    <tr>\n",
       "      <th>timestamp</th>\n",
       "      <th></th>\n",
       "      <th></th>\n",
       "      <th></th>\n",
       "      <th></th>\n",
       "      <th></th>\n",
       "      <th></th>\n",
       "      <th></th>\n",
       "      <th></th>\n",
       "      <th></th>\n",
       "      <th></th>\n",
       "      <th></th>\n",
       "      <th></th>\n",
       "      <th></th>\n",
       "      <th></th>\n",
       "    </tr>\n",
       "  </thead>\n",
       "  <tbody>\n",
       "    <tr>\n",
       "      <th>2022-06-23 03:41:00</th>\n",
       "      <td>SNA-SMF-06/23/2022-06/26/2022</td>\n",
       "      <td>SNA</td>\n",
       "      <td>SMF</td>\n",
       "      <td>2022-06-23</td>\n",
       "      <td>6/26/2022</td>\n",
       "      <td>720</td>\n",
       "      <td>6/23/2022 10:17</td>\n",
       "      <td>309</td>\n",
       "      <td>1</td>\n",
       "      <td>6/26/2022 6:00</td>\n",
       "      <td>341</td>\n",
       "      <td>1</td>\n",
       "      <td>0</td>\n",
       "      <td>0</td>\n",
       "    </tr>\n",
       "    <tr>\n",
       "      <th>2022-06-23 03:42:00</th>\n",
       "      <td>SNA-SMF-06/30/2022-07/03/2022</td>\n",
       "      <td>SNA</td>\n",
       "      <td>SMF</td>\n",
       "      <td>2022-06-30</td>\n",
       "      <td>7/3/2022</td>\n",
       "      <td>630</td>\n",
       "      <td>6/30/2022 10:17</td>\n",
       "      <td>309</td>\n",
       "      <td>1</td>\n",
       "      <td>6/30/2022 10:17</td>\n",
       "      <td>309</td>\n",
       "      <td>1</td>\n",
       "      <td>6</td>\n",
       "      <td>6</td>\n",
       "    </tr>\n",
       "    <tr>\n",
       "      <th>2022-06-23 03:43:00</th>\n",
       "      <td>SNA-PHX-06/23/2022-06/26/2022</td>\n",
       "      <td>SNA</td>\n",
       "      <td>PHX</td>\n",
       "      <td>2022-06-23</td>\n",
       "      <td>6/26/2022</td>\n",
       "      <td>353</td>\n",
       "      <td>6/23/2022 12:56</td>\n",
       "      <td>78</td>\n",
       "      <td>0</td>\n",
       "      <td>6/26/2022 10:13</td>\n",
       "      <td>88</td>\n",
       "      <td>0</td>\n",
       "      <td>0</td>\n",
       "      <td>0</td>\n",
       "    </tr>\n",
       "    <tr>\n",
       "      <th>2022-06-23 03:43:00</th>\n",
       "      <td>SNA-PHX-06/30/2022-07/03/2022</td>\n",
       "      <td>SNA</td>\n",
       "      <td>PHX</td>\n",
       "      <td>2022-06-30</td>\n",
       "      <td>7/3/2022</td>\n",
       "      <td>299</td>\n",
       "      <td>6/30/2022 12:56</td>\n",
       "      <td>78</td>\n",
       "      <td>0</td>\n",
       "      <td>7/3/2022 14:59</td>\n",
       "      <td>78</td>\n",
       "      <td>0</td>\n",
       "      <td>6</td>\n",
       "      <td>6</td>\n",
       "    </tr>\n",
       "    <tr>\n",
       "      <th>2022-06-23 03:44:00</th>\n",
       "      <td>SNA-ORD-06/23/2022-06/26/2022</td>\n",
       "      <td>SNA</td>\n",
       "      <td>ORD</td>\n",
       "      <td>2022-06-23</td>\n",
       "      <td>6/26/2022</td>\n",
       "      <td>2939</td>\n",
       "      <td>6/23/2022 16:44</td>\n",
       "      <td>636</td>\n",
       "      <td>1</td>\n",
       "      <td>6/26/2022 8:25</td>\n",
       "      <td>251</td>\n",
       "      <td>0</td>\n",
       "      <td>0</td>\n",
       "      <td>0</td>\n",
       "    </tr>\n",
       "  </tbody>\n",
       "</table>\n",
       "</div>"
      ],
      "text/plain": [
       "                                           trip_id depart_airport  \\\n",
       "timestamp                                                           \n",
       "2022-06-23 03:41:00  SNA-SMF-06/23/2022-06/26/2022            SNA   \n",
       "2022-06-23 03:42:00  SNA-SMF-06/30/2022-07/03/2022            SNA   \n",
       "2022-06-23 03:43:00  SNA-PHX-06/23/2022-06/26/2022            SNA   \n",
       "2022-06-23 03:43:00  SNA-PHX-06/30/2022-07/03/2022            SNA   \n",
       "2022-06-23 03:44:00  SNA-ORD-06/23/2022-06/26/2022            SNA   \n",
       "\n",
       "                    return_airport depart_date return_date  total_cost  \\\n",
       "timestamp                                                                \n",
       "2022-06-23 03:41:00            SMF  2022-06-23   6/26/2022         720   \n",
       "2022-06-23 03:42:00            SMF  2022-06-30    7/3/2022         630   \n",
       "2022-06-23 03:43:00            PHX  2022-06-23   6/26/2022         353   \n",
       "2022-06-23 03:43:00            PHX  2022-06-30    7/3/2022         299   \n",
       "2022-06-23 03:44:00            ORD  2022-06-23   6/26/2022        2939   \n",
       "\n",
       "                     depart_datetime  depart_duration  depart_stops  \\\n",
       "timestamp                                                             \n",
       "2022-06-23 03:41:00  6/23/2022 10:17              309             1   \n",
       "2022-06-23 03:42:00  6/30/2022 10:17              309             1   \n",
       "2022-06-23 03:43:00  6/23/2022 12:56               78             0   \n",
       "2022-06-23 03:43:00  6/30/2022 12:56               78             0   \n",
       "2022-06-23 03:44:00  6/23/2022 16:44              636             1   \n",
       "\n",
       "                     return_datetime  return_duration  return_stops  \\\n",
       "timestamp                                                             \n",
       "2022-06-23 03:41:00   6/26/2022 6:00              341             1   \n",
       "2022-06-23 03:42:00  6/30/2022 10:17              309             1   \n",
       "2022-06-23 03:43:00  6/26/2022 10:13               88             0   \n",
       "2022-06-23 03:43:00   7/3/2022 14:59               78             0   \n",
       "2022-06-23 03:44:00   6/26/2022 8:25              251             0   \n",
       "\n",
       "                     day_before_purchase  total_min  \n",
       "timestamp                                            \n",
       "2022-06-23 03:41:00                    0          0  \n",
       "2022-06-23 03:42:00                    6          6  \n",
       "2022-06-23 03:43:00                    0          0  \n",
       "2022-06-23 03:43:00                    6          6  \n",
       "2022-06-23 03:44:00                    0          0  "
      ]
     },
     "execution_count": 5,
     "metadata": {},
     "output_type": "execute_result"
    }
   ],
   "source": [
    "file_path = Path(\"tmintest.csv\")\n",
    "df = pd.read_csv(file_path,index_col = 0)\n",
    "df.head()"
   ]
  },
  {
   "cell_type": "code",
   "execution_count": 6,
   "id": "e3e1689e",
   "metadata": {},
   "outputs": [],
   "source": [
    "columns = [\"trip_id\",\"depart_airport\",\"return_airport\",\"depart_date\",\n",
    "           \"return_date\",\"total_cost\",\"depart_datetime\",\"depart_duration\",\n",
    "           \"depart_stops\",\"return_datetime\",\"return_duration\",\"return_stops\",\n",
    "           \"day_before_purchase\",\"total_min\",\n",
    "    \n",
    "]\n",
    "\n",
    "target = [\"day_before_purchase\"]"
   ]
  },
  {
   "cell_type": "code",
   "execution_count": 7,
   "id": "be0dc8f6",
   "metadata": {},
   "outputs": [
    {
     "data": {
      "text/html": [
       "<div>\n",
       "<style scoped>\n",
       "    .dataframe tbody tr th:only-of-type {\n",
       "        vertical-align: middle;\n",
       "    }\n",
       "\n",
       "    .dataframe tbody tr th {\n",
       "        vertical-align: top;\n",
       "    }\n",
       "\n",
       "    .dataframe thead th {\n",
       "        text-align: right;\n",
       "    }\n",
       "</style>\n",
       "<table border=\"1\" class=\"dataframe\">\n",
       "  <thead>\n",
       "    <tr style=\"text-align: right;\">\n",
       "      <th></th>\n",
       "      <th>trip_id</th>\n",
       "      <th>depart_airport</th>\n",
       "      <th>return_airport</th>\n",
       "      <th>depart_date</th>\n",
       "      <th>return_date</th>\n",
       "      <th>total_cost</th>\n",
       "      <th>depart_datetime</th>\n",
       "      <th>depart_duration</th>\n",
       "      <th>depart_stops</th>\n",
       "      <th>return_datetime</th>\n",
       "      <th>return_duration</th>\n",
       "      <th>return_stops</th>\n",
       "      <th>day_before_purchase</th>\n",
       "      <th>total_min</th>\n",
       "    </tr>\n",
       "    <tr>\n",
       "      <th>timestamp</th>\n",
       "      <th></th>\n",
       "      <th></th>\n",
       "      <th></th>\n",
       "      <th></th>\n",
       "      <th></th>\n",
       "      <th></th>\n",
       "      <th></th>\n",
       "      <th></th>\n",
       "      <th></th>\n",
       "      <th></th>\n",
       "      <th></th>\n",
       "      <th></th>\n",
       "      <th></th>\n",
       "      <th></th>\n",
       "    </tr>\n",
       "  </thead>\n",
       "  <tbody>\n",
       "    <tr>\n",
       "      <th>2022-06-23 03:41:00</th>\n",
       "      <td>SNA-SMF-06/23/2022-06/26/2022</td>\n",
       "      <td>SNA</td>\n",
       "      <td>SMF</td>\n",
       "      <td>2022-06-23</td>\n",
       "      <td>6/26/2022</td>\n",
       "      <td>720</td>\n",
       "      <td>6/23/2022 10:17</td>\n",
       "      <td>309</td>\n",
       "      <td>1</td>\n",
       "      <td>6/26/2022 6:00</td>\n",
       "      <td>341</td>\n",
       "      <td>1</td>\n",
       "      <td>0</td>\n",
       "      <td>0</td>\n",
       "    </tr>\n",
       "    <tr>\n",
       "      <th>2022-06-23 03:42:00</th>\n",
       "      <td>SNA-SMF-06/30/2022-07/03/2022</td>\n",
       "      <td>SNA</td>\n",
       "      <td>SMF</td>\n",
       "      <td>2022-06-30</td>\n",
       "      <td>7/3/2022</td>\n",
       "      <td>630</td>\n",
       "      <td>6/30/2022 10:17</td>\n",
       "      <td>309</td>\n",
       "      <td>1</td>\n",
       "      <td>6/30/2022 10:17</td>\n",
       "      <td>309</td>\n",
       "      <td>1</td>\n",
       "      <td>6</td>\n",
       "      <td>6</td>\n",
       "    </tr>\n",
       "    <tr>\n",
       "      <th>2022-06-23 03:43:00</th>\n",
       "      <td>SNA-PHX-06/23/2022-06/26/2022</td>\n",
       "      <td>SNA</td>\n",
       "      <td>PHX</td>\n",
       "      <td>2022-06-23</td>\n",
       "      <td>6/26/2022</td>\n",
       "      <td>353</td>\n",
       "      <td>6/23/2022 12:56</td>\n",
       "      <td>78</td>\n",
       "      <td>0</td>\n",
       "      <td>6/26/2022 10:13</td>\n",
       "      <td>88</td>\n",
       "      <td>0</td>\n",
       "      <td>0</td>\n",
       "      <td>0</td>\n",
       "    </tr>\n",
       "    <tr>\n",
       "      <th>2022-06-23 03:43:00</th>\n",
       "      <td>SNA-PHX-06/30/2022-07/03/2022</td>\n",
       "      <td>SNA</td>\n",
       "      <td>PHX</td>\n",
       "      <td>2022-06-30</td>\n",
       "      <td>7/3/2022</td>\n",
       "      <td>299</td>\n",
       "      <td>6/30/2022 12:56</td>\n",
       "      <td>78</td>\n",
       "      <td>0</td>\n",
       "      <td>7/3/2022 14:59</td>\n",
       "      <td>78</td>\n",
       "      <td>0</td>\n",
       "      <td>6</td>\n",
       "      <td>6</td>\n",
       "    </tr>\n",
       "    <tr>\n",
       "      <th>2022-06-23 03:44:00</th>\n",
       "      <td>SNA-ORD-06/23/2022-06/26/2022</td>\n",
       "      <td>SNA</td>\n",
       "      <td>ORD</td>\n",
       "      <td>2022-06-23</td>\n",
       "      <td>6/26/2022</td>\n",
       "      <td>2939</td>\n",
       "      <td>6/23/2022 16:44</td>\n",
       "      <td>636</td>\n",
       "      <td>1</td>\n",
       "      <td>6/26/2022 8:25</td>\n",
       "      <td>251</td>\n",
       "      <td>0</td>\n",
       "      <td>0</td>\n",
       "      <td>0</td>\n",
       "    </tr>\n",
       "  </tbody>\n",
       "</table>\n",
       "</div>"
      ],
      "text/plain": [
       "                                           trip_id depart_airport  \\\n",
       "timestamp                                                           \n",
       "2022-06-23 03:41:00  SNA-SMF-06/23/2022-06/26/2022            SNA   \n",
       "2022-06-23 03:42:00  SNA-SMF-06/30/2022-07/03/2022            SNA   \n",
       "2022-06-23 03:43:00  SNA-PHX-06/23/2022-06/26/2022            SNA   \n",
       "2022-06-23 03:43:00  SNA-PHX-06/30/2022-07/03/2022            SNA   \n",
       "2022-06-23 03:44:00  SNA-ORD-06/23/2022-06/26/2022            SNA   \n",
       "\n",
       "                    return_airport depart_date return_date  total_cost  \\\n",
       "timestamp                                                                \n",
       "2022-06-23 03:41:00            SMF  2022-06-23   6/26/2022         720   \n",
       "2022-06-23 03:42:00            SMF  2022-06-30    7/3/2022         630   \n",
       "2022-06-23 03:43:00            PHX  2022-06-23   6/26/2022         353   \n",
       "2022-06-23 03:43:00            PHX  2022-06-30    7/3/2022         299   \n",
       "2022-06-23 03:44:00            ORD  2022-06-23   6/26/2022        2939   \n",
       "\n",
       "                     depart_datetime  depart_duration  depart_stops  \\\n",
       "timestamp                                                             \n",
       "2022-06-23 03:41:00  6/23/2022 10:17              309             1   \n",
       "2022-06-23 03:42:00  6/30/2022 10:17              309             1   \n",
       "2022-06-23 03:43:00  6/23/2022 12:56               78             0   \n",
       "2022-06-23 03:43:00  6/30/2022 12:56               78             0   \n",
       "2022-06-23 03:44:00  6/23/2022 16:44              636             1   \n",
       "\n",
       "                     return_datetime  return_duration  return_stops  \\\n",
       "timestamp                                                             \n",
       "2022-06-23 03:41:00   6/26/2022 6:00              341             1   \n",
       "2022-06-23 03:42:00  6/30/2022 10:17              309             1   \n",
       "2022-06-23 03:43:00  6/26/2022 10:13               88             0   \n",
       "2022-06-23 03:43:00   7/3/2022 14:59               78             0   \n",
       "2022-06-23 03:44:00   6/26/2022 8:25              251             0   \n",
       "\n",
       "                     day_before_purchase  total_min  \n",
       "timestamp                                            \n",
       "2022-06-23 03:41:00                    0          0  \n",
       "2022-06-23 03:42:00                    6          6  \n",
       "2022-06-23 03:43:00                    0          0  \n",
       "2022-06-23 03:43:00                    6          6  \n",
       "2022-06-23 03:44:00                    0          0  "
      ]
     },
     "execution_count": 7,
     "metadata": {},
     "output_type": "execute_result"
    }
   ],
   "source": [
    "file_path = Path(\"tmintest.csv\")\n",
    "df2 = pd.read_csv(file_path, skiprows=1)[:-2]\n",
    "df2 = df.loc[:, columns].copy()\n",
    "df2.head()"
   ]
  },
  {
   "cell_type": "code",
   "execution_count": 8,
   "id": "e92ff813",
   "metadata": {},
   "outputs": [],
   "source": [
    "# # Create our features\n",
    "# X = df2.drop(columns='total_cost')\n",
    "# X = pd.get_dummies(X)\n",
    "# # Create our target\n",
    "# y = df2.loc[:, target].copy()"
   ]
  },
  {
   "cell_type": "code",
   "execution_count": 16,
   "id": "61bb42cf",
   "metadata": {},
   "outputs": [],
   "source": [
    "# Create our features\n",
    "# X = df2.drop(columns='total_cost')\n",
    "X = df2[[\"total_cost\", \"return_duration\", \"return_stops\", \"depart_duration\"]] #, \"depart_airport\", \"return_airport\"\n",
    "# X.head()\n",
    "X = pd.get_dummies(X)\n",
    "X.head()\n",
    "# Create our target\n",
    "y = df2.loc[:, target].copy()"
   ]
  },
  {
   "cell_type": "code",
   "execution_count": 17,
   "id": "9827046d",
   "metadata": {},
   "outputs": [
    {
     "data": {
      "text/html": [
       "<div>\n",
       "<style scoped>\n",
       "    .dataframe tbody tr th:only-of-type {\n",
       "        vertical-align: middle;\n",
       "    }\n",
       "\n",
       "    .dataframe tbody tr th {\n",
       "        vertical-align: top;\n",
       "    }\n",
       "\n",
       "    .dataframe thead th {\n",
       "        text-align: right;\n",
       "    }\n",
       "</style>\n",
       "<table border=\"1\" class=\"dataframe\">\n",
       "  <thead>\n",
       "    <tr style=\"text-align: right;\">\n",
       "      <th></th>\n",
       "      <th>day_before_purchase</th>\n",
       "      <th>return_duration</th>\n",
       "      <th>return_stops</th>\n",
       "      <th>depart_duration</th>\n",
       "    </tr>\n",
       "  </thead>\n",
       "  <tbody>\n",
       "    <tr>\n",
       "      <th>count</th>\n",
       "      <td>45.000000</td>\n",
       "      <td>45.000000</td>\n",
       "      <td>45.000000</td>\n",
       "      <td>45.000000</td>\n",
       "    </tr>\n",
       "    <tr>\n",
       "      <th>mean</th>\n",
       "      <td>9.622222</td>\n",
       "      <td>272.711111</td>\n",
       "      <td>0.422222</td>\n",
       "      <td>261.888889</td>\n",
       "    </tr>\n",
       "    <tr>\n",
       "      <th>std</th>\n",
       "      <td>7.840132</td>\n",
       "      <td>172.541908</td>\n",
       "      <td>0.583442</td>\n",
       "      <td>166.268707</td>\n",
       "    </tr>\n",
       "    <tr>\n",
       "      <th>min</th>\n",
       "      <td>0.000000</td>\n",
       "      <td>78.000000</td>\n",
       "      <td>0.000000</td>\n",
       "      <td>78.000000</td>\n",
       "    </tr>\n",
       "    <tr>\n",
       "      <th>25%</th>\n",
       "      <td>5.000000</td>\n",
       "      <td>88.000000</td>\n",
       "      <td>0.000000</td>\n",
       "      <td>90.000000</td>\n",
       "    </tr>\n",
       "    <tr>\n",
       "      <th>50%</th>\n",
       "      <td>6.000000</td>\n",
       "      <td>253.000000</td>\n",
       "      <td>0.000000</td>\n",
       "      <td>255.000000</td>\n",
       "    </tr>\n",
       "    <tr>\n",
       "      <th>75%</th>\n",
       "      <td>13.000000</td>\n",
       "      <td>420.000000</td>\n",
       "      <td>1.000000</td>\n",
       "      <td>330.000000</td>\n",
       "    </tr>\n",
       "    <tr>\n",
       "      <th>max</th>\n",
       "      <td>27.000000</td>\n",
       "      <td>625.000000</td>\n",
       "      <td>2.000000</td>\n",
       "      <td>636.000000</td>\n",
       "    </tr>\n",
       "  </tbody>\n",
       "</table>\n",
       "</div>"
      ],
      "text/plain": [
       "       day_before_purchase  return_duration  return_stops  depart_duration\n",
       "count            45.000000        45.000000     45.000000        45.000000\n",
       "mean              9.622222       272.711111      0.422222       261.888889\n",
       "std               7.840132       172.541908      0.583442       166.268707\n",
       "min               0.000000        78.000000      0.000000        78.000000\n",
       "25%               5.000000        88.000000      0.000000        90.000000\n",
       "50%               6.000000       253.000000      0.000000       255.000000\n",
       "75%              13.000000       420.000000      1.000000       330.000000\n",
       "max              27.000000       625.000000      2.000000       636.000000"
      ]
     },
     "execution_count": 17,
     "metadata": {},
     "output_type": "execute_result"
    }
   ],
   "source": [
    "X.describe()"
   ]
  },
  {
   "cell_type": "code",
   "execution_count": 18,
   "id": "90bbbe04",
   "metadata": {},
   "outputs": [
    {
     "data": {
      "text/plain": [
       "280     2\n",
       "353     2\n",
       "707     2\n",
       "2939    2\n",
       "582     2\n",
       "1069    2\n",
       "300     2\n",
       "301     2\n",
       "1262    1\n",
       "1394    1\n",
       "528     1\n",
       "958     1\n",
       "720     1\n",
       "784     1\n",
       "622     1\n",
       "571     1\n",
       "971     1\n",
       "908     1\n",
       "1470    1\n",
       "628     1\n",
       "579     1\n",
       "588     1\n",
       "494     1\n",
       "630     1\n",
       "714     1\n",
       "198     1\n",
       "228     1\n",
       "183     1\n",
       "223     1\n",
       "273     1\n",
       "771     1\n",
       "690     1\n",
       "634     1\n",
       "239     1\n",
       "269     1\n",
       "299     1\n",
       "910     1\n",
       "Name: total_cost, dtype: int64"
      ]
     },
     "execution_count": 18,
     "metadata": {},
     "output_type": "execute_result"
    }
   ],
   "source": [
    "# Check the balance of our target values\n",
    "y['day_before_purchase'].value_counts()"
   ]
  },
  {
   "cell_type": "code",
   "execution_count": 19,
   "id": "e8041364",
   "metadata": {},
   "outputs": [
    {
     "data": {
      "text/plain": [
       "(33, 4)"
      ]
     },
     "execution_count": 19,
     "metadata": {},
     "output_type": "execute_result"
    }
   ],
   "source": [
    "X_train, X_test, y_train, y_test = train_test_split(X, y, random_state=1)\n",
    "X_train.shape"
   ]
  },
  {
   "cell_type": "markdown",
   "id": "87efc4ff",
   "metadata": {},
   "source": [
    "# Ensemble Learners"
   ]
  },
  {
   "cell_type": "markdown",
   "id": "83d3a34f",
   "metadata": {},
   "source": [
    "# Balanced Random Forest Classifier"
   ]
  },
  {
   "cell_type": "code",
   "execution_count": 20,
   "id": "ed5b0349",
   "metadata": {},
   "outputs": [],
   "source": [
    "# # Creating a StandardScaler instance.\n",
    "# scaler = StandardScaler()\n",
    "# # Fitting the Standard Scaler with the training data.\n",
    "# X_scaler = scaler.fit(X_train)\n",
    "\n",
    "# # Scaling the data.\n",
    "# X_train_scaled = X_scaler.transform(X_train)\n",
    "# X_test_scaled = X_scaler.transform(X_test)"
   ]
  },
  {
   "cell_type": "code",
   "execution_count": 21,
   "id": "6b348c67",
   "metadata": {},
   "outputs": [
    {
     "data": {
      "text/plain": [
       "((33, 4), (33, 1))"
      ]
     },
     "execution_count": 21,
     "metadata": {},
     "output_type": "execute_result"
    }
   ],
   "source": [
    "# X_train_scaled.shape, y_train.shape"
   ]
  },
  {
   "cell_type": "code",
   "execution_count": 22,
   "id": "886d6450",
   "metadata": {},
   "outputs": [],
   "source": [
    "# # Resample the training data with the BalancedRandomForestClassifier\n",
    "\n",
    "# clf = BalancedRandomForestClassifier(n_estimators=128, random_state=78) \n",
    "# # Fitting the model\n",
    "# clf = clf.fit(X_train_scaled, y_train)"
   ]
  },
  {
   "cell_type": "code",
   "execution_count": 23,
   "id": "eac5b1ea",
   "metadata": {},
   "outputs": [
    {
     "data": {
      "text/plain": [
       "0.0"
      ]
     },
     "execution_count": 23,
     "metadata": {},
     "output_type": "execute_result"
    }
   ],
   "source": [
    "# # Calculated the balanced accuracy score\n",
    "# # YOUR CODE HERE\n",
    "# y_pred = clf.predict(X_test)\n",
    "# balanced_accuracy_score(y_test, y_pred)"
   ]
  },
  {
   "cell_type": "code",
   "execution_count": 24,
   "id": "45f3163d",
   "metadata": {},
   "outputs": [
    {
     "data": {
      "text/plain": [
       "array([[0, 0, 0, 0, 0, 0, 0, 0, 1, 0, 0, 0, 0],\n",
       "       [0, 0, 0, 0, 0, 0, 0, 0, 1, 0, 0, 0, 0],\n",
       "       [0, 0, 0, 0, 0, 0, 0, 0, 1, 0, 0, 0, 0],\n",
       "       [0, 0, 0, 0, 0, 0, 0, 0, 1, 0, 0, 0, 0],\n",
       "       [0, 0, 0, 0, 0, 0, 0, 0, 1, 0, 0, 0, 0],\n",
       "       [0, 0, 0, 0, 0, 0, 0, 0, 1, 0, 0, 0, 0],\n",
       "       [0, 0, 0, 0, 0, 0, 0, 0, 1, 0, 0, 0, 0],\n",
       "       [0, 0, 0, 0, 0, 0, 0, 0, 1, 0, 0, 0, 0],\n",
       "       [0, 0, 0, 0, 0, 0, 0, 0, 0, 0, 0, 0, 0],\n",
       "       [0, 0, 0, 0, 0, 0, 0, 0, 1, 0, 0, 0, 0],\n",
       "       [0, 0, 0, 0, 0, 0, 0, 0, 1, 0, 0, 0, 0],\n",
       "       [0, 0, 0, 0, 0, 0, 0, 0, 1, 0, 0, 0, 0],\n",
       "       [0, 0, 0, 0, 0, 0, 0, 0, 1, 0, 0, 0, 0]], dtype=int64)"
      ]
     },
     "execution_count": 24,
     "metadata": {},
     "output_type": "execute_result"
    }
   ],
   "source": [
    "# # Display the confusion matrix\n",
    "# # YOUR CODE HERE\n",
    "# confusion_matrix(y_test, y_pred)"
   ]
  },
  {
   "cell_type": "code",
   "execution_count": 25,
   "id": "f6e1539e",
   "metadata": {
    "scrolled": true
   },
   "outputs": [
    {
     "name": "stdout",
     "output_type": "stream",
     "text": [
      "                   pre       rec       spe        f1       geo       iba       sup\n",
      "\n",
      "        228       0.00      0.00      1.00      0.00      0.00      0.00       1.0\n",
      "        280       0.00      0.00      1.00      0.00      0.00      0.00       1.0\n",
      "        299       0.00      0.00      1.00      0.00      0.00      0.00       1.0\n",
      "        353       0.00      0.00      1.00      0.00      0.00      0.00       1.0\n",
      "        528       0.00      0.00      1.00      0.00      0.00      0.00       1.0\n",
      "        579       0.00      0.00      1.00      0.00      0.00      0.00       1.0\n",
      "        707       0.00      0.00      1.00      0.00      0.00      0.00       1.0\n",
      "        714       0.00      0.00      1.00      0.00      0.00      0.00       1.0\n",
      "        784       0.00      0.00      0.00      0.00      0.00      0.00       0.0\n",
      "        910       0.00      0.00      1.00      0.00      0.00      0.00       1.0\n",
      "        958       0.00      0.00      1.00      0.00      0.00      0.00       1.0\n",
      "        971       0.00      0.00      1.00      0.00      0.00      0.00       1.0\n",
      "       1069       0.00      0.00      1.00      0.00      0.00      0.00       1.0\n",
      "\n",
      "avg / total       0.00      0.00      1.00      0.00      0.00      0.00      12.0\n",
      "\n"
     ]
    }
   ],
   "source": [
    "# # Print the imbalanced classification report\n",
    "# # YOUR CODE HERE\n",
    "\n",
    "# print(classification_report_imbalanced(y_test, y_pred))"
   ]
  },
  {
   "cell_type": "code",
   "execution_count": 26,
   "id": "a712bc78",
   "metadata": {},
   "outputs": [
    {
     "data": {
      "text/plain": [
       "[(0.32906143681018757, 'depart_duration'),\n",
       " (0.30836439171831215, 'return_duration'),\n",
       " (0.2925763492412372, 'day_before_purchase'),\n",
       " (0.06999782223026296, 'return_stops')]"
      ]
     },
     "execution_count": 26,
     "metadata": {},
     "output_type": "execute_result"
    }
   ],
   "source": [
    "# # List the features sorted in descending order by feature importance\n",
    "# # YOUR CODE HERE\n",
    "# feature_names = X.columns\n",
    "# sorted(zip(clf.feature_importances_, feature_names), reverse=True)"
   ]
  },
  {
   "cell_type": "code",
   "execution_count": 27,
   "id": "1e62e542",
   "metadata": {},
   "outputs": [
    {
     "data": {
      "text/plain": [
       "Index(['day_before_purchase', 'return_duration', 'return_stops',\n",
       "       'depart_duration'],\n",
       "      dtype='object')"
      ]
     },
     "execution_count": 27,
     "metadata": {},
     "output_type": "execute_result"
    }
   ],
   "source": [
    "# X.columns"
   ]
  },
  {
   "cell_type": "code",
   "execution_count": null,
   "id": "7e580513",
   "metadata": {},
   "outputs": [],
   "source": []
  },
  {
   "cell_type": "code",
   "execution_count": 28,
   "id": "f65baf9e",
   "metadata": {},
   "outputs": [],
   "source": [
    "# Need to create Bins or EEC will take way too damn long"
   ]
  },
  {
   "cell_type": "markdown",
   "id": "5026a551",
   "metadata": {},
   "source": [
    "# Easy Ensemble AdaBoost Classifier"
   ]
  },
  {
   "cell_type": "code",
   "execution_count": 29,
   "id": "3cea1b67",
   "metadata": {},
   "outputs": [],
   "source": [
    "# # Train the EasyEnsembleClassifier\n",
    "# # YOUR CODE HERE\n",
    "# eec = EasyEnsembleClassifier(n_estimators = 100,random_state=1)\n",
    "# eec = eec.fit(X_train, y_train)"
   ]
  },
  {
   "cell_type": "code",
   "execution_count": 30,
   "id": "8fde9783",
   "metadata": {},
   "outputs": [
    {
     "data": {
      "text/plain": [
       "0.16666666666666666"
      ]
     },
     "execution_count": 30,
     "metadata": {},
     "output_type": "execute_result"
    }
   ],
   "source": [
    "# # Calculated the balanced accuracy score\n",
    "# # YOUR CODE HERE\n",
    "# y_pred = eec.predict(X_test)\n",
    "# balanced_accuracy_score(y_test, y_pred)"
   ]
  },
  {
   "cell_type": "code",
   "execution_count": 31,
   "id": "394fa68e",
   "metadata": {},
   "outputs": [
    {
     "data": {
      "text/plain": [
       "array([[0, 0, 0, 0, 0, 0, 0, 0, 0, 0, 0, 0, 0, 0, 0, 0, 0, 0],\n",
       "       [1, 0, 0, 0, 0, 0, 0, 0, 0, 0, 0, 0, 0, 0, 0, 0, 0, 0],\n",
       "       [0, 0, 0, 0, 1, 0, 0, 0, 0, 0, 0, 0, 0, 0, 0, 0, 0, 0],\n",
       "       [0, 0, 0, 0, 1, 0, 0, 0, 0, 0, 0, 0, 0, 0, 0, 0, 0, 0],\n",
       "       [0, 0, 0, 0, 0, 0, 0, 0, 0, 0, 0, 0, 0, 0, 0, 0, 0, 0],\n",
       "       [0, 0, 0, 0, 0, 1, 0, 0, 0, 0, 0, 0, 0, 0, 0, 0, 0, 0],\n",
       "       [0, 0, 0, 0, 0, 0, 0, 0, 0, 0, 0, 0, 0, 0, 0, 0, 0, 0],\n",
       "       [0, 0, 0, 0, 0, 0, 0, 0, 1, 0, 0, 0, 0, 0, 0, 0, 0, 0],\n",
       "       [0, 0, 0, 0, 0, 0, 0, 0, 0, 0, 0, 0, 0, 0, 0, 0, 0, 0],\n",
       "       [0, 0, 0, 0, 0, 0, 0, 0, 1, 0, 0, 0, 0, 0, 0, 0, 0, 0],\n",
       "       [0, 0, 0, 0, 0, 0, 0, 0, 0, 0, 0, 0, 0, 0, 0, 0, 0, 0],\n",
       "       [0, 0, 0, 0, 0, 0, 0, 0, 0, 0, 1, 0, 0, 0, 0, 0, 0, 0],\n",
       "       [0, 0, 0, 0, 0, 0, 0, 0, 0, 0, 1, 0, 0, 0, 0, 0, 0, 0],\n",
       "       [0, 0, 0, 0, 0, 0, 0, 0, 0, 0, 0, 0, 0, 0, 0, 0, 0, 0],\n",
       "       [0, 0, 0, 0, 0, 0, 0, 0, 0, 0, 0, 0, 0, 1, 0, 0, 0, 0],\n",
       "       [0, 0, 0, 0, 0, 0, 1, 0, 0, 0, 0, 0, 0, 0, 0, 0, 0, 0],\n",
       "       [0, 0, 0, 0, 0, 0, 0, 0, 0, 0, 0, 0, 0, 0, 0, 0, 0, 1],\n",
       "       [0, 0, 0, 0, 0, 0, 0, 0, 0, 0, 0, 0, 0, 0, 0, 0, 0, 1]],\n",
       "      dtype=int64)"
      ]
     },
     "execution_count": 31,
     "metadata": {},
     "output_type": "execute_result"
    }
   ],
   "source": [
    "# # Display the confusion matrix\n",
    "# # YOUR CODE HERE\n",
    "# confusion_matrix(y_test, y_pred)"
   ]
  },
  {
   "cell_type": "code",
   "execution_count": 32,
   "id": "919f6b4d",
   "metadata": {},
   "outputs": [
    {
     "name": "stdout",
     "output_type": "stream",
     "text": [
      "                   pre       rec       spe        f1       geo       iba       sup\n",
      "\n",
      "        183       0.00      0.00      0.92      0.00      0.00      0.00         0\n",
      "        228       0.00      0.00      1.00      0.00      0.00      0.00         1\n",
      "        280       0.00      0.00      1.00      0.00      0.00      0.00         1\n",
      "        299       0.00      0.00      1.00      0.00      0.00      0.00         1\n",
      "        301       0.00      0.00      0.83      0.00      0.00      0.00         0\n",
      "        353       1.00      1.00      1.00      1.00      1.00      1.00         1\n",
      "        494       0.00      0.00      0.92      0.00      0.00      0.00         0\n",
      "        528       0.00      0.00      1.00      0.00      0.00      0.00         1\n",
      "        571       0.00      0.00      0.83      0.00      0.00      0.00         0\n",
      "        579       0.00      0.00      1.00      0.00      0.00      0.00         1\n",
      "        628       0.00      0.00      0.83      0.00      0.00      0.00         0\n",
      "        707       0.00      0.00      1.00      0.00      0.00      0.00         1\n",
      "        714       0.00      0.00      1.00      0.00      0.00      0.00         1\n",
      "        784       0.00      0.00      0.92      0.00      0.00      0.00         0\n",
      "        910       0.00      0.00      1.00      0.00      0.00      0.00         1\n",
      "        958       0.00      0.00      1.00      0.00      0.00      0.00         1\n",
      "        971       0.00      0.00      1.00      0.00      0.00      0.00         1\n",
      "       1069       0.50      1.00      0.91      0.67      0.95      0.92         1\n",
      "\n",
      "avg / total       0.12      0.17      0.99      0.14      0.16      0.16        12\n",
      "\n"
     ]
    }
   ],
   "source": [
    "# # Print the imbalanced classification report\n",
    "# # YOUR CODE HERE\n",
    "# print(classification_report_imbalanced(y_test, y_pred))"
   ]
  },
  {
   "cell_type": "code",
   "execution_count": null,
   "id": "c0901b4c",
   "metadata": {},
   "outputs": [],
   "source": []
  }
 ],
 "metadata": {
  "kernelspec": {
   "display_name": "PythonData",
   "language": "python",
   "name": "pythondata"
  },
  "language_info": {
   "codemirror_mode": {
    "name": "ipython",
    "version": 3
   },
   "file_extension": ".py",
   "mimetype": "text/x-python",
   "name": "python",
   "nbconvert_exporter": "python",
   "pygments_lexer": "ipython3",
   "version": "3.7.11"
  }
 },
 "nbformat": 4,
 "nbformat_minor": 5
}
