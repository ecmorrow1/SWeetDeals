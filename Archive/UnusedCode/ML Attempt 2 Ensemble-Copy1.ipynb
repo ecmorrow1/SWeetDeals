{
 "cells": [
  {
   "cell_type": "code",
   "execution_count": 1,
   "id": "64b80804",
   "metadata": {},
   "outputs": [],
   "source": [
    "import warnings\n",
    "warnings.filterwarnings('ignore')"
   ]
  },
  {
   "cell_type": "code",
   "execution_count": 2,
   "id": "b8c4c76c",
   "metadata": {},
   "outputs": [],
   "source": [
    "import numpy as np\n",
    "import pandas as pd\n",
    "from pathlib import Path\n",
    "from collections import Counter"
   ]
  },
  {
   "cell_type": "code",
   "execution_count": 3,
   "id": "c74caa03",
   "metadata": {},
   "outputs": [],
   "source": [
    "from sklearn.metrics import balanced_accuracy_score\n",
    "from sklearn.metrics import confusion_matrix\n",
    "from imblearn.metrics import classification_report_imbalanced"
   ]
  },
  {
   "cell_type": "code",
   "execution_count": 4,
   "id": "622f36ac",
   "metadata": {},
   "outputs": [],
   "source": [
    "from sklearn.ensemble import RandomForestClassifier\n",
    "from sklearn.preprocessing import StandardScaler\n",
    "from sklearn.model_selection import train_test_split\n",
    "from sklearn.metrics import confusion_matrix, accuracy_score, classification_report\n",
    "from imblearn.ensemble import BalancedRandomForestClassifier\n",
    "from imblearn.ensemble import EasyEnsembleClassifier"
   ]
  },
  {
   "cell_type": "code",
   "execution_count": 5,
   "id": "555ae259",
   "metadata": {},
   "outputs": [],
   "source": [
    "import json\n",
    "import pandas as pd\n",
    "import numpy as np\n",
    "import os\n",
    "import glob\n",
    "import re\n",
    "from sklearn.preprocessing import StandardScaler, MinMaxScaler\n",
    "\n",
    "from sklearn.metrics import balanced_accuracy_score\n",
    "from datetime import datetime, timedelta\n",
    "from dotenv import load_dotenv\n",
    "from sklearn.model_selection import train_test_split\n",
    "from sqlalchemy import create_engine\n",
    "import psycopg2\n",
    "from sklearn.preprocessing import StandardScaler\n",
    "# from .env import db info\n",
    "load_dotenv()\n",
    "\n",
    "db_password = os.getenv(\"db_password\")\n",
    "db_username = os.getenv(\"db_username\")\n",
    "db_url = os.getenv(\"db_url\")\n",
    "db_port = os.getenv(\"db_port\")\n",
    "db_name = os.getenv(\"db_name\")\n",
    "db_table = os.getenv(\"db_table\")\n",
    "\n",
    "import time"
   ]
  },
  {
   "cell_type": "code",
   "execution_count": 6,
   "id": "d72f0c4a",
   "metadata": {},
   "outputs": [],
   "source": [
    "#create the connection to the PostgreSQL database, then add the movies_df DataFrame to a SQL database.\n",
    "db_string = f\"postgresql://{db_username}:{db_password}@{db_url}:{db_port}/{db_name}\"\n",
    "engine = create_engine(db_string)\n",
    "#out.to_sql(name=db_table, con=engine, if_exists='append',index=False)"
   ]
  },
  {
   "cell_type": "code",
   "execution_count": 8,
   "id": "02bad8e8",
   "metadata": {},
   "outputs": [],
   "source": [
    "df = pd.read_sql(f\"SELECT * FROM sweetdealtrip WHERE days_before_purchase < 100;\", con=engine)"
   ]
  },
  {
   "cell_type": "code",
   "execution_count": 9,
   "id": "9b438194",
   "metadata": {},
   "outputs": [
    {
     "data": {
      "text/html": [
       "<div>\n",
       "<style scoped>\n",
       "    .dataframe tbody tr th:only-of-type {\n",
       "        vertical-align: middle;\n",
       "    }\n",
       "\n",
       "    .dataframe tbody tr th {\n",
       "        vertical-align: top;\n",
       "    }\n",
       "\n",
       "    .dataframe thead th {\n",
       "        text-align: right;\n",
       "    }\n",
       "</style>\n",
       "<table border=\"1\" class=\"dataframe\">\n",
       "  <thead>\n",
       "    <tr style=\"text-align: right;\">\n",
       "      <th></th>\n",
       "      <th>time_stamp</th>\n",
       "      <th>trip_id</th>\n",
       "      <th>depart_airport</th>\n",
       "      <th>return_airport</th>\n",
       "      <th>depart_date</th>\n",
       "      <th>return_date</th>\n",
       "      <th>total_cost</th>\n",
       "      <th>depart_datetime</th>\n",
       "      <th>depart_duration</th>\n",
       "      <th>depart_stops</th>\n",
       "      <th>return_datetime</th>\n",
       "      <th>return_duration</th>\n",
       "      <th>return_stops</th>\n",
       "      <th>days_before_purchase</th>\n",
       "    </tr>\n",
       "  </thead>\n",
       "  <tbody>\n",
       "    <tr>\n",
       "      <th>0</th>\n",
       "      <td>2022-06-23 04:41:02</td>\n",
       "      <td>SNA-PHX-2022-06-30-2022-07-04</td>\n",
       "      <td>SNA</td>\n",
       "      <td>PHX</td>\n",
       "      <td>2022-06-30</td>\n",
       "      <td>2022-07-04</td>\n",
       "      <td>269</td>\n",
       "      <td>2022-06-30 12:56:00</td>\n",
       "      <td>78</td>\n",
       "      <td>0</td>\n",
       "      <td>2022-07-04 10:18:00</td>\n",
       "      <td>88</td>\n",
       "      <td>0</td>\n",
       "      <td>6</td>\n",
       "    </tr>\n",
       "    <tr>\n",
       "      <th>1</th>\n",
       "      <td>2022-06-23 04:41:52</td>\n",
       "      <td>SNA-PHX-2022-07-07-2022-07-11</td>\n",
       "      <td>SNA</td>\n",
       "      <td>PHX</td>\n",
       "      <td>2022-07-07</td>\n",
       "      <td>2022-07-11</td>\n",
       "      <td>239</td>\n",
       "      <td>2022-07-07 13:11:00</td>\n",
       "      <td>79</td>\n",
       "      <td>0</td>\n",
       "      <td>2022-07-11 10:18:00</td>\n",
       "      <td>88</td>\n",
       "      <td>0</td>\n",
       "      <td>13</td>\n",
       "    </tr>\n",
       "    <tr>\n",
       "      <th>2</th>\n",
       "      <td>2022-06-23 04:42:43</td>\n",
       "      <td>SNA-PHX-2022-07-14-2022-07-18</td>\n",
       "      <td>SNA</td>\n",
       "      <td>PHX</td>\n",
       "      <td>2022-07-14</td>\n",
       "      <td>2022-07-18</td>\n",
       "      <td>300</td>\n",
       "      <td>2022-07-14 13:11:00</td>\n",
       "      <td>79</td>\n",
       "      <td>0</td>\n",
       "      <td>2022-07-18 14:00:00</td>\n",
       "      <td>79</td>\n",
       "      <td>0</td>\n",
       "      <td>20</td>\n",
       "    </tr>\n",
       "    <tr>\n",
       "      <th>3</th>\n",
       "      <td>2022-06-23 04:43:34</td>\n",
       "      <td>SNA-PHX-2022-07-21-2022-07-25</td>\n",
       "      <td>SNA</td>\n",
       "      <td>PHX</td>\n",
       "      <td>2022-07-21</td>\n",
       "      <td>2022-07-25</td>\n",
       "      <td>300</td>\n",
       "      <td>2022-07-21 16:44:00</td>\n",
       "      <td>84</td>\n",
       "      <td>0</td>\n",
       "      <td>2022-07-25 10:18:00</td>\n",
       "      <td>88</td>\n",
       "      <td>0</td>\n",
       "      <td>27</td>\n",
       "    </tr>\n",
       "    <tr>\n",
       "      <th>4</th>\n",
       "      <td>2022-06-23 04:54:55</td>\n",
       "      <td>LAX-ORD-2022-06-30-2022-07-04</td>\n",
       "      <td>LAX</td>\n",
       "      <td>ORD</td>\n",
       "      <td>2022-06-30</td>\n",
       "      <td>2022-07-04</td>\n",
       "      <td>579</td>\n",
       "      <td>2022-06-30 08:05:00</td>\n",
       "      <td>242</td>\n",
       "      <td>0</td>\n",
       "      <td>2022-07-04 15:20:00</td>\n",
       "      <td>252</td>\n",
       "      <td>0</td>\n",
       "      <td>6</td>\n",
       "    </tr>\n",
       "  </tbody>\n",
       "</table>\n",
       "</div>"
      ],
      "text/plain": [
       "           time_stamp                        trip_id depart_airport  \\\n",
       "0 2022-06-23 04:41:02  SNA-PHX-2022-06-30-2022-07-04            SNA   \n",
       "1 2022-06-23 04:41:52  SNA-PHX-2022-07-07-2022-07-11            SNA   \n",
       "2 2022-06-23 04:42:43  SNA-PHX-2022-07-14-2022-07-18            SNA   \n",
       "3 2022-06-23 04:43:34  SNA-PHX-2022-07-21-2022-07-25            SNA   \n",
       "4 2022-06-23 04:54:55  LAX-ORD-2022-06-30-2022-07-04            LAX   \n",
       "\n",
       "  return_airport depart_date return_date  total_cost     depart_datetime  \\\n",
       "0            PHX  2022-06-30  2022-07-04         269 2022-06-30 12:56:00   \n",
       "1            PHX  2022-07-07  2022-07-11         239 2022-07-07 13:11:00   \n",
       "2            PHX  2022-07-14  2022-07-18         300 2022-07-14 13:11:00   \n",
       "3            PHX  2022-07-21  2022-07-25         300 2022-07-21 16:44:00   \n",
       "4            ORD  2022-06-30  2022-07-04         579 2022-06-30 08:05:00   \n",
       "\n",
       "   depart_duration  depart_stops     return_datetime  return_duration  \\\n",
       "0               78             0 2022-07-04 10:18:00               88   \n",
       "1               79             0 2022-07-11 10:18:00               88   \n",
       "2               79             0 2022-07-18 14:00:00               79   \n",
       "3               84             0 2022-07-25 10:18:00               88   \n",
       "4              242             0 2022-07-04 15:20:00              252   \n",
       "\n",
       "   return_stops  days_before_purchase  \n",
       "0             0                     6  \n",
       "1             0                    13  \n",
       "2             0                    20  \n",
       "3             0                    27  \n",
       "4             0                     6  "
      ]
     },
     "execution_count": 9,
     "metadata": {},
     "output_type": "execute_result"
    }
   ],
   "source": [
    "df.head()"
   ]
  },
  {
   "cell_type": "code",
   "execution_count": 10,
   "id": "b0861220",
   "metadata": {},
   "outputs": [],
   "source": [
    "df = df[['total_cost','depart_duration','depart_stops','return_duration','return_stops','days_before_purchase']]"
   ]
  },
  {
   "cell_type": "code",
   "execution_count": 11,
   "id": "82f9c75c",
   "metadata": {},
   "outputs": [],
   "source": [
    "columns = [\"total_cost\",\"depart_duration\",\n",
    "           \"depart_stops\",\"return_duration\",\"return_stops\",\n",
    "           \"days_before_purchase\"\n",
    "    \n",
    "]\n",
    "\n",
    "target = [\"days_before_purchase\"]"
   ]
  },
  {
   "cell_type": "code",
   "execution_count": null,
   "id": "bc61f901",
   "metadata": {},
   "outputs": [],
   "source": []
  },
  {
   "cell_type": "code",
   "execution_count": 12,
   "id": "e3e1689e",
   "metadata": {},
   "outputs": [],
   "source": [
    "# Create our features\n",
    "# X = df2.drop(columns='total_cost')\n",
    "X = df[[\"total_cost\"]] #, \"depart_airport\", \"return_airport\", \"return_duration\", \"return_stops\", \"depart_duration\"\n",
    "# X.head()\n",
    "# X = pd.get_dummies(X)\n",
    "X.head()\n",
    "# Create our target\n",
    "y = df.loc[:, target].copy()"
   ]
  },
  {
   "cell_type": "code",
   "execution_count": 13,
   "id": "be0dc8f6",
   "metadata": {},
   "outputs": [],
   "source": [
    "# file_path = Path(\"tmintest.csv\")\n",
    "# df2 = pd.read_csv(file_path, skiprows=1)[:-2]\n",
    "# df2 = df.loc[:, columns].copy()\n",
    "# df2.head()"
   ]
  },
  {
   "cell_type": "code",
   "execution_count": 14,
   "id": "e92ff813",
   "metadata": {},
   "outputs": [],
   "source": [
    "# # Create our features\n",
    "# X = df2.drop(columns='total_cost')\n",
    "# X = pd.get_dummies(X)\n",
    "# # Create our target\n",
    "# y = df2.loc[:, target].copy()"
   ]
  },
  {
   "cell_type": "code",
   "execution_count": 15,
   "id": "61bb42cf",
   "metadata": {},
   "outputs": [],
   "source": [
    "# # Create our features\n",
    "# # X = df2.drop(columns='total_cost')\n",
    "# X = df2[[\"total_cost\", \"return_duration\", \"return_stops\", \"depart_duration\"]] #, \"depart_airport\", \"return_airport\"\n",
    "# # X.head()\n",
    "# X = pd.get_dummies(X)\n",
    "# X.head()\n",
    "# # Create our target\n",
    "# y = df2.loc[:, target].copy()"
   ]
  },
  {
   "cell_type": "code",
   "execution_count": 16,
   "id": "9827046d",
   "metadata": {},
   "outputs": [
    {
     "data": {
      "text/html": [
       "<div>\n",
       "<style scoped>\n",
       "    .dataframe tbody tr th:only-of-type {\n",
       "        vertical-align: middle;\n",
       "    }\n",
       "\n",
       "    .dataframe tbody tr th {\n",
       "        vertical-align: top;\n",
       "    }\n",
       "\n",
       "    .dataframe thead th {\n",
       "        text-align: right;\n",
       "    }\n",
       "</style>\n",
       "<table border=\"1\" class=\"dataframe\">\n",
       "  <thead>\n",
       "    <tr style=\"text-align: right;\">\n",
       "      <th></th>\n",
       "      <th>total_cost</th>\n",
       "    </tr>\n",
       "  </thead>\n",
       "  <tbody>\n",
       "    <tr>\n",
       "      <th>count</th>\n",
       "      <td>1543.000000</td>\n",
       "    </tr>\n",
       "    <tr>\n",
       "      <th>mean</th>\n",
       "      <td>831.775762</td>\n",
       "    </tr>\n",
       "    <tr>\n",
       "      <th>std</th>\n",
       "      <td>564.230543</td>\n",
       "    </tr>\n",
       "    <tr>\n",
       "      <th>min</th>\n",
       "      <td>178.000000</td>\n",
       "    </tr>\n",
       "    <tr>\n",
       "      <th>25%</th>\n",
       "      <td>472.000000</td>\n",
       "    </tr>\n",
       "    <tr>\n",
       "      <th>50%</th>\n",
       "      <td>677.000000</td>\n",
       "    </tr>\n",
       "    <tr>\n",
       "      <th>75%</th>\n",
       "      <td>918.000000</td>\n",
       "    </tr>\n",
       "    <tr>\n",
       "      <th>max</th>\n",
       "      <td>3297.000000</td>\n",
       "    </tr>\n",
       "  </tbody>\n",
       "</table>\n",
       "</div>"
      ],
      "text/plain": [
       "        total_cost\n",
       "count  1543.000000\n",
       "mean    831.775762\n",
       "std     564.230543\n",
       "min     178.000000\n",
       "25%     472.000000\n",
       "50%     677.000000\n",
       "75%     918.000000\n",
       "max    3297.000000"
      ]
     },
     "execution_count": 16,
     "metadata": {},
     "output_type": "execute_result"
    }
   ],
   "source": [
    "X.describe()"
   ]
  },
  {
   "cell_type": "code",
   "execution_count": 19,
   "id": "90bbbe04",
   "metadata": {},
   "outputs": [
    {
     "data": {
      "text/plain": [
       "5     25\n",
       "10    22\n",
       "17    22\n",
       "24    22\n",
       "12    21\n",
       "      ..\n",
       "78     7\n",
       "85     7\n",
       "92     7\n",
       "99     7\n",
       "1      6\n",
       "Name: days_before_purchase, Length: 100, dtype: int64"
      ]
     },
     "execution_count": 19,
     "metadata": {},
     "output_type": "execute_result"
    }
   ],
   "source": [
    "# Check the balance of our target values\n",
    "y['days_before_purchase'].value_counts()"
   ]
  },
  {
   "cell_type": "code",
   "execution_count": 20,
   "id": "e8041364",
   "metadata": {},
   "outputs": [
    {
     "data": {
      "text/plain": [
       "(1157, 1)"
      ]
     },
     "execution_count": 20,
     "metadata": {},
     "output_type": "execute_result"
    }
   ],
   "source": [
    "X_train, X_test, y_train, y_test = train_test_split(X, y, random_state=1)\n",
    "X_train.shape"
   ]
  },
  {
   "cell_type": "markdown",
   "id": "87efc4ff",
   "metadata": {},
   "source": [
    "# Ensemble Learners"
   ]
  },
  {
   "cell_type": "markdown",
   "id": "83d3a34f",
   "metadata": {},
   "source": [
    "# Balanced Random Forest Classifier"
   ]
  },
  {
   "cell_type": "code",
   "execution_count": 21,
   "id": "ed5b0349",
   "metadata": {},
   "outputs": [],
   "source": [
    "# Creating a StandardScaler instance.\n",
    "scaler = StandardScaler()\n",
    "# Fitting the Standard Scaler with the training data.\n",
    "X_scaler = scaler.fit(X_train)\n",
    "\n",
    "# Scaling the data.\n",
    "X_train_scaled = X_scaler.transform(X_train)\n",
    "X_test_scaled = X_scaler.transform(X_test)"
   ]
  },
  {
   "cell_type": "code",
   "execution_count": 22,
   "id": "6b348c67",
   "metadata": {},
   "outputs": [
    {
     "data": {
      "text/plain": [
       "((1157, 1), (1157, 1))"
      ]
     },
     "execution_count": 22,
     "metadata": {},
     "output_type": "execute_result"
    }
   ],
   "source": [
    "X_train_scaled.shape, y_train.shape"
   ]
  },
  {
   "cell_type": "code",
   "execution_count": 23,
   "id": "886d6450",
   "metadata": {},
   "outputs": [],
   "source": [
    "# Resample the training data with the BalancedRandomForestClassifier\n",
    "\n",
    "clf = BalancedRandomForestClassifier(n_estimators=128, random_state=78) \n",
    "# Fitting the model\n",
    "clf = clf.fit(X_train_scaled, y_train)"
   ]
  },
  {
   "cell_type": "code",
   "execution_count": 24,
   "id": "eac5b1ea",
   "metadata": {},
   "outputs": [
    {
     "data": {
      "text/plain": [
       "0.01020408163265306"
      ]
     },
     "execution_count": 24,
     "metadata": {},
     "output_type": "execute_result"
    }
   ],
   "source": [
    "# Calculated the balanced accuracy score\n",
    "# YOUR CODE HERE\n",
    "y_pred = clf.predict(X_test)\n",
    "balanced_accuracy_score(y_test, y_pred)"
   ]
  },
  {
   "cell_type": "code",
   "execution_count": 25,
   "id": "45f3163d",
   "metadata": {},
   "outputs": [
    {
     "data": {
      "text/plain": [
       "array([[0, 0, 0, ..., 0, 0, 0],\n",
       "       [0, 0, 0, ..., 0, 0, 0],\n",
       "       [0, 0, 0, ..., 0, 0, 0],\n",
       "       ...,\n",
       "       [0, 0, 0, ..., 0, 0, 0],\n",
       "       [0, 0, 0, ..., 0, 0, 0],\n",
       "       [0, 0, 0, ..., 0, 0, 0]], dtype=int64)"
      ]
     },
     "execution_count": 25,
     "metadata": {},
     "output_type": "execute_result"
    }
   ],
   "source": [
    "# Display the confusion matrix\n",
    "# YOUR CODE HERE\n",
    "confusion_matrix(y_test, y_pred)"
   ]
  },
  {
   "cell_type": "code",
   "execution_count": 26,
   "id": "f6e1539e",
   "metadata": {
    "scrolled": true
   },
   "outputs": [
    {
     "name": "stdout",
     "output_type": "stream",
     "text": [
      "                   pre       rec       spe        f1       geo       iba       sup\n",
      "\n",
      "          0       0.00      0.00      1.00      0.00      0.00      0.00         4\n",
      "          1       0.00      0.00      1.00      0.00      0.00      0.00         4\n",
      "          2       0.00      0.00      1.00      0.00      0.00      0.00         1\n",
      "          3       0.01      1.00      0.00      0.02      0.00      0.00         4\n",
      "          4       0.00      0.00      1.00      0.00      0.00      0.00         3\n",
      "          5       0.00      0.00      1.00      0.00      0.00      0.00         6\n",
      "          6       0.00      0.00      1.00      0.00      0.00      0.00         1\n",
      "          7       0.00      0.00      1.00      0.00      0.00      0.00         3\n",
      "          8       0.00      0.00      1.00      0.00      0.00      0.00         3\n",
      "          9       0.00      0.00      1.00      0.00      0.00      0.00         5\n",
      "         10       0.00      0.00      1.00      0.00      0.00      0.00         6\n",
      "         11       0.00      0.00      1.00      0.00      0.00      0.00         5\n",
      "         12       0.00      0.00      1.00      0.00      0.00      0.00         6\n",
      "         13       0.00      0.00      1.00      0.00      0.00      0.00         3\n",
      "         14       0.00      0.00      1.00      0.00      0.00      0.00         1\n",
      "         15       0.00      0.00      1.00      0.00      0.00      0.00         1\n",
      "         16       0.00      0.00      1.00      0.00      0.00      0.00         4\n",
      "         17       0.00      0.00      1.00      0.00      0.00      0.00         7\n",
      "         18       0.00      0.00      1.00      0.00      0.00      0.00         8\n",
      "         19       0.00      0.00      1.00      0.00      0.00      0.00         5\n",
      "         20       0.00      0.00      1.00      0.00      0.00      0.00         2\n",
      "         21       0.00      0.00      1.00      0.00      0.00      0.00         2\n",
      "         22       0.00      0.00      1.00      0.00      0.00      0.00         2\n",
      "         23       0.00      0.00      1.00      0.00      0.00      0.00         5\n",
      "         24       0.00      0.00      1.00      0.00      0.00      0.00         7\n",
      "         25       0.00      0.00      1.00      0.00      0.00      0.00         8\n",
      "         26       0.00      0.00      1.00      0.00      0.00      0.00         7\n",
      "         27       0.00      0.00      1.00      0.00      0.00      0.00         2\n",
      "         29       0.00      0.00      1.00      0.00      0.00      0.00         2\n",
      "         30       0.00      0.00      1.00      0.00      0.00      0.00         3\n",
      "         31       0.00      0.00      1.00      0.00      0.00      0.00         6\n",
      "         32       0.00      0.00      1.00      0.00      0.00      0.00         5\n",
      "         33       0.00      0.00      1.00      0.00      0.00      0.00         7\n",
      "         34       0.00      0.00      1.00      0.00      0.00      0.00         5\n",
      "         35       0.00      0.00      1.00      0.00      0.00      0.00         4\n",
      "         36       0.00      0.00      1.00      0.00      0.00      0.00         2\n",
      "         37       0.00      0.00      1.00      0.00      0.00      0.00         3\n",
      "         38       0.00      0.00      1.00      0.00      0.00      0.00         7\n",
      "         39       0.00      0.00      1.00      0.00      0.00      0.00         6\n",
      "         40       0.00      0.00      1.00      0.00      0.00      0.00         3\n",
      "         41       0.00      0.00      1.00      0.00      0.00      0.00         4\n",
      "         42       0.00      0.00      1.00      0.00      0.00      0.00         3\n",
      "         43       0.00      0.00      1.00      0.00      0.00      0.00         2\n",
      "         44       0.00      0.00      1.00      0.00      0.00      0.00         5\n",
      "         45       0.00      0.00      1.00      0.00      0.00      0.00         3\n",
      "         46       0.00      0.00      1.00      0.00      0.00      0.00         1\n",
      "         47       0.00      0.00      1.00      0.00      0.00      0.00         3\n",
      "         48       0.00      0.00      1.00      0.00      0.00      0.00         3\n",
      "         49       0.00      0.00      1.00      0.00      0.00      0.00         3\n",
      "         50       0.00      0.00      1.00      0.00      0.00      0.00         4\n",
      "         51       0.00      0.00      1.00      0.00      0.00      0.00         4\n",
      "         52       0.00      0.00      1.00      0.00      0.00      0.00         5\n",
      "         53       0.00      0.00      1.00      0.00      0.00      0.00         5\n",
      "         54       0.00      0.00      1.00      0.00      0.00      0.00         5\n",
      "         55       0.00      0.00      1.00      0.00      0.00      0.00         2\n",
      "         56       0.00      0.00      1.00      0.00      0.00      0.00         5\n",
      "         57       0.00      0.00      1.00      0.00      0.00      0.00         1\n",
      "         58       0.00      0.00      1.00      0.00      0.00      0.00         4\n",
      "         59       0.00      0.00      1.00      0.00      0.00      0.00         4\n",
      "         60       0.00      0.00      1.00      0.00      0.00      0.00         5\n",
      "         61       0.00      0.00      1.00      0.00      0.00      0.00         3\n",
      "         62       0.00      0.00      1.00      0.00      0.00      0.00         5\n",
      "         63       0.00      0.00      1.00      0.00      0.00      0.00         5\n",
      "         64       0.00      0.00      1.00      0.00      0.00      0.00         2\n",
      "         65       0.00      0.00      1.00      0.00      0.00      0.00         2\n",
      "         66       0.00      0.00      1.00      0.00      0.00      0.00         7\n",
      "         67       0.00      0.00      1.00      0.00      0.00      0.00         3\n",
      "         68       0.00      0.00      1.00      0.00      0.00      0.00         3\n",
      "         69       0.00      0.00      1.00      0.00      0.00      0.00         4\n",
      "         70       0.00      0.00      1.00      0.00      0.00      0.00         3\n",
      "         71       0.00      0.00      1.00      0.00      0.00      0.00         1\n",
      "         72       0.00      0.00      1.00      0.00      0.00      0.00         4\n",
      "         73       0.00      0.00      1.00      0.00      0.00      0.00         5\n",
      "         74       0.00      0.00      1.00      0.00      0.00      0.00         2\n",
      "         75       0.00      0.00      1.00      0.00      0.00      0.00         5\n",
      "         76       0.00      0.00      1.00      0.00      0.00      0.00         7\n",
      "         77       0.00      0.00      1.00      0.00      0.00      0.00         5\n",
      "         78       0.00      0.00      1.00      0.00      0.00      0.00         3\n",
      "         79       0.00      0.00      1.00      0.00      0.00      0.00         5\n",
      "         80       0.00      0.00      1.00      0.00      0.00      0.00         5\n",
      "         81       0.00      0.00      1.00      0.00      0.00      0.00         5\n",
      "         82       0.00      0.00      1.00      0.00      0.00      0.00         3\n",
      "         83       0.00      0.00      1.00      0.00      0.00      0.00         5\n",
      "         84       0.00      0.00      1.00      0.00      0.00      0.00         2\n",
      "         85       0.00      0.00      1.00      0.00      0.00      0.00         1\n",
      "         86       0.00      0.00      1.00      0.00      0.00      0.00         5\n",
      "         87       0.00      0.00      1.00      0.00      0.00      0.00         3\n",
      "         88       0.00      0.00      1.00      0.00      0.00      0.00         5\n",
      "         89       0.00      0.00      1.00      0.00      0.00      0.00         2\n",
      "         90       0.00      0.00      1.00      0.00      0.00      0.00         4\n",
      "         91       0.00      0.00      1.00      0.00      0.00      0.00         6\n",
      "         92       0.00      0.00      1.00      0.00      0.00      0.00         1\n",
      "         93       0.00      0.00      1.00      0.00      0.00      0.00         4\n",
      "         94       0.00      0.00      1.00      0.00      0.00      0.00         6\n",
      "         95       0.00      0.00      1.00      0.00      0.00      0.00         2\n",
      "         96       0.00      0.00      1.00      0.00      0.00      0.00         5\n",
      "         97       0.00      0.00      1.00      0.00      0.00      0.00         5\n",
      "         98       0.00      0.00      1.00      0.00      0.00      0.00         4\n",
      "\n",
      "avg / total       0.00      0.01      0.99      0.00      0.00      0.00       386\n",
      "\n"
     ]
    }
   ],
   "source": [
    "# Print the imbalanced classification report\n",
    "# YOUR CODE HERE\n",
    "\n",
    "print(classification_report_imbalanced(y_test, y_pred))"
   ]
  },
  {
   "cell_type": "code",
   "execution_count": 27,
   "id": "a712bc78",
   "metadata": {},
   "outputs": [
    {
     "data": {
      "text/plain": [
       "[(1.0, 'total_cost')]"
      ]
     },
     "execution_count": 27,
     "metadata": {},
     "output_type": "execute_result"
    }
   ],
   "source": [
    "# List the features sorted in descending order by feature importance\n",
    "# YOUR CODE HERE\n",
    "feature_names = X.columns\n",
    "sorted(zip(clf.feature_importances_, feature_names), reverse=True)"
   ]
  },
  {
   "cell_type": "code",
   "execution_count": 28,
   "id": "1e62e542",
   "metadata": {},
   "outputs": [
    {
     "data": {
      "text/plain": [
       "Index(['total_cost'], dtype='object')"
      ]
     },
     "execution_count": 28,
     "metadata": {},
     "output_type": "execute_result"
    }
   ],
   "source": [
    "X.columns"
   ]
  },
  {
   "cell_type": "code",
   "execution_count": null,
   "id": "7e580513",
   "metadata": {},
   "outputs": [],
   "source": []
  },
  {
   "cell_type": "code",
   "execution_count": 29,
   "id": "f65baf9e",
   "metadata": {},
   "outputs": [],
   "source": [
    "# Need to create Bins or EEC will take way too damn long"
   ]
  },
  {
   "cell_type": "markdown",
   "id": "5026a551",
   "metadata": {},
   "source": [
    "# Easy Ensemble AdaBoost Classifier"
   ]
  },
  {
   "cell_type": "code",
   "execution_count": 35,
   "id": "3cea1b67",
   "metadata": {},
   "outputs": [],
   "source": [
    "# Train the EasyEnsembleClassifier\n",
    "# YOUR CODE HERE\n",
    "eec = EasyEnsembleClassifier(n_estimators = 100,random_state=1)\n",
    "eec = eec.fit(X_train, y_train)"
   ]
  },
  {
   "cell_type": "code",
   "execution_count": 36,
   "id": "8fde9783",
   "metadata": {},
   "outputs": [
    {
     "data": {
      "text/plain": [
       "0.002551020408163265"
      ]
     },
     "execution_count": 36,
     "metadata": {},
     "output_type": "execute_result"
    }
   ],
   "source": [
    "# Calculated the balanced accuracy score\n",
    "# YOUR CODE HERE\n",
    "y_pred = eec.predict(X_test)\n",
    "balanced_accuracy_score(y_test, y_pred)"
   ]
  },
  {
   "cell_type": "code",
   "execution_count": 37,
   "id": "394fa68e",
   "metadata": {},
   "outputs": [
    {
     "data": {
      "text/plain": [
       "array([[0, 2, 0, ..., 0, 0, 0],\n",
       "       [0, 1, 0, ..., 0, 0, 0],\n",
       "       [0, 0, 0, ..., 0, 0, 0],\n",
       "       ...,\n",
       "       [0, 3, 0, ..., 0, 0, 0],\n",
       "       [0, 3, 0, ..., 0, 0, 0],\n",
       "       [0, 2, 0, ..., 0, 0, 0]], dtype=int64)"
      ]
     },
     "execution_count": 37,
     "metadata": {},
     "output_type": "execute_result"
    }
   ],
   "source": [
    "# Display the confusion matrix\n",
    "# YOUR CODE HERE\n",
    "confusion_matrix(y_test, y_pred)"
   ]
  },
  {
   "cell_type": "code",
   "execution_count": 38,
   "id": "919f6b4d",
   "metadata": {},
   "outputs": [
    {
     "name": "stdout",
     "output_type": "stream",
     "text": [
      "                   pre       rec       spe        f1       geo       iba       sup\n",
      "\n",
      "          0       0.00      0.00      1.00      0.00      0.00      0.00         4\n",
      "          1       0.01      0.25      0.56      0.01      0.38      0.14         4\n",
      "          2       0.00      0.00      1.00      0.00      0.00      0.00         1\n",
      "          3       0.00      0.00      1.00      0.00      0.00      0.00         4\n",
      "          4       0.00      0.00      1.00      0.00      0.00      0.00         3\n",
      "          5       0.00      0.00      1.00      0.00      0.00      0.00         6\n",
      "          6       0.00      0.00      1.00      0.00      0.00      0.00         1\n",
      "          7       0.00      0.00      1.00      0.00      0.00      0.00         3\n",
      "          8       0.00      0.00      1.00      0.00      0.00      0.00         3\n",
      "          9       0.00      0.00      1.00      0.00      0.00      0.00         5\n",
      "         10       0.00      0.00      1.00      0.00      0.00      0.00         6\n",
      "         11       0.00      0.00      1.00      0.00      0.00      0.00         5\n",
      "         12       0.00      0.00      1.00      0.00      0.00      0.00         6\n",
      "         13       0.00      0.00      1.00      0.00      0.00      0.00         3\n",
      "         14       0.00      0.00      1.00      0.00      0.00      0.00         1\n",
      "         15       0.00      0.00      0.77      0.00      0.00      0.00         1\n",
      "         16       0.00      0.00      1.00      0.00      0.00      0.00         4\n",
      "         17       0.00      0.00      1.00      0.00      0.00      0.00         7\n",
      "         18       0.00      0.00      1.00      0.00      0.00      0.00         8\n",
      "         19       0.00      0.00      1.00      0.00      0.00      0.00         5\n",
      "         20       0.00      0.00      1.00      0.00      0.00      0.00         2\n",
      "         21       0.00      0.00      1.00      0.00      0.00      0.00         2\n",
      "         22       0.00      0.00      0.98      0.00      0.00      0.00         2\n",
      "         23       0.00      0.00      1.00      0.00      0.00      0.00         5\n",
      "         24       0.00      0.00      1.00      0.00      0.00      0.00         7\n",
      "         25       0.00      0.00      1.00      0.00      0.00      0.00         8\n",
      "         26       0.00      0.00      1.00      0.00      0.00      0.00         7\n",
      "         27       0.00      0.00      1.00      0.00      0.00      0.00         2\n",
      "         29       0.00      0.00      0.99      0.00      0.00      0.00         2\n",
      "         30       0.00      0.00      1.00      0.00      0.00      0.00         3\n",
      "         31       0.00      0.00      1.00      0.00      0.00      0.00         6\n",
      "         32       0.00      0.00      1.00      0.00      0.00      0.00         5\n",
      "         33       0.00      0.00      1.00      0.00      0.00      0.00         7\n",
      "         34       0.00      0.00      0.98      0.00      0.00      0.00         5\n",
      "         35       0.00      0.00      1.00      0.00      0.00      0.00         4\n",
      "         36       0.00      0.00      0.99      0.00      0.00      0.00         2\n",
      "         37       0.00      0.00      1.00      0.00      0.00      0.00         3\n",
      "         38       0.00      0.00      1.00      0.00      0.00      0.00         7\n",
      "         39       0.00      0.00      1.00      0.00      0.00      0.00         6\n",
      "         40       0.00      0.00      1.00      0.00      0.00      0.00         3\n",
      "         41       0.00      0.00      1.00      0.00      0.00      0.00         4\n",
      "         42       0.00      0.00      1.00      0.00      0.00      0.00         3\n",
      "         43       0.00      0.00      0.95      0.00      0.00      0.00         2\n",
      "         44       0.00      0.00      1.00      0.00      0.00      0.00         5\n",
      "         45       0.00      0.00      1.00      0.00      0.00      0.00         3\n",
      "         46       0.00      0.00      1.00      0.00      0.00      0.00         1\n",
      "         47       0.00      0.00      1.00      0.00      0.00      0.00         3\n",
      "         48       0.00      0.00      1.00      0.00      0.00      0.00         3\n",
      "         49       0.00      0.00      1.00      0.00      0.00      0.00         3\n",
      "         50       0.00      0.00      0.91      0.00      0.00      0.00         4\n",
      "         51       0.00      0.00      1.00      0.00      0.00      0.00         4\n",
      "         52       0.00      0.00      1.00      0.00      0.00      0.00         5\n",
      "         53       0.00      0.00      1.00      0.00      0.00      0.00         5\n",
      "         54       0.00      0.00      1.00      0.00      0.00      0.00         5\n",
      "         55       0.00      0.00      1.00      0.00      0.00      0.00         2\n",
      "         56       0.00      0.00      1.00      0.00      0.00      0.00         5\n",
      "         57       0.00      0.00      1.00      0.00      0.00      0.00         1\n",
      "         58       0.00      0.00      1.00      0.00      0.00      0.00         4\n",
      "         59       0.00      0.00      1.00      0.00      0.00      0.00         4\n",
      "         60       0.00      0.00      1.00      0.00      0.00      0.00         5\n",
      "         61       0.00      0.00      1.00      0.00      0.00      0.00         3\n",
      "         62       0.00      0.00      0.94      0.00      0.00      0.00         5\n",
      "         63       0.00      0.00      1.00      0.00      0.00      0.00         5\n",
      "         64       0.00      0.00      1.00      0.00      0.00      0.00         2\n",
      "         65       0.00      0.00      1.00      0.00      0.00      0.00         2\n",
      "         66       0.00      0.00      1.00      0.00      0.00      0.00         7\n",
      "         67       0.00      0.00      0.98      0.00      0.00      0.00         3\n",
      "         68       0.00      0.00      1.00      0.00      0.00      0.00         3\n",
      "         69       0.00      0.00      1.00      0.00      0.00      0.00         4\n",
      "         70       0.00      0.00      0.98      0.00      0.00      0.00         3\n",
      "         71       0.00      0.00      1.00      0.00      0.00      0.00         1\n",
      "         72       0.00      0.00      1.00      0.00      0.00      0.00         4\n",
      "         73       0.00      0.00      1.00      0.00      0.00      0.00         5\n",
      "         74       0.00      0.00      1.00      0.00      0.00      0.00         2\n",
      "         75       0.00      0.00      1.00      0.00      0.00      0.00         5\n",
      "         76       0.00      0.00      1.00      0.00      0.00      0.00         7\n",
      "         77       0.00      0.00      1.00      0.00      0.00      0.00         5\n",
      "         78       0.00      0.00      1.00      0.00      0.00      0.00         3\n",
      "         79       0.00      0.00      1.00      0.00      0.00      0.00         5\n",
      "         80       0.00      0.00      1.00      0.00      0.00      0.00         5\n",
      "         81       0.00      0.00      1.00      0.00      0.00      0.00         5\n",
      "         82       0.00      0.00      1.00      0.00      0.00      0.00         3\n",
      "         83       0.00      0.00      1.00      0.00      0.00      0.00         5\n",
      "         84       0.00      0.00      1.00      0.00      0.00      0.00         2\n",
      "         85       0.00      0.00      1.00      0.00      0.00      0.00         1\n",
      "         86       0.00      0.00      1.00      0.00      0.00      0.00         5\n",
      "         87       0.00      0.00      1.00      0.00      0.00      0.00         3\n",
      "         88       0.00      0.00      1.00      0.00      0.00      0.00         5\n",
      "         89       0.00      0.00      1.00      0.00      0.00      0.00         2\n",
      "         90       0.00      0.00      0.97      0.00      0.00      0.00         4\n",
      "         91       0.00      0.00      1.00      0.00      0.00      0.00         6\n",
      "         92       0.00      0.00      1.00      0.00      0.00      0.00         1\n",
      "         93       0.00      0.00      1.00      0.00      0.00      0.00         4\n",
      "         94       0.00      0.00      1.00      0.00      0.00      0.00         6\n",
      "         95       0.00      0.00      1.00      0.00      0.00      0.00         2\n",
      "         96       0.00      0.00      1.00      0.00      0.00      0.00         5\n",
      "         97       0.00      0.00      1.00      0.00      0.00      0.00         5\n",
      "         98       0.00      0.00      1.00      0.00      0.00      0.00         4\n",
      "\n",
      "avg / total       0.00      0.00      0.99      0.00      0.00      0.00       386\n",
      "\n"
     ]
    }
   ],
   "source": [
    "# Print the imbalanced classification report\n",
    "# YOUR CODE HERE\n",
    "print(classification_report_imbalanced(y_test, y_pred))"
   ]
  },
  {
   "cell_type": "code",
   "execution_count": null,
   "id": "c0901b4c",
   "metadata": {},
   "outputs": [],
   "source": []
  }
 ],
 "metadata": {
  "kernelspec": {
   "display_name": "PythonData",
   "language": "python",
   "name": "pythondata"
  },
  "language_info": {
   "codemirror_mode": {
    "name": "ipython",
    "version": 3
   },
   "file_extension": ".py",
   "mimetype": "text/x-python",
   "name": "python",
   "nbconvert_exporter": "python",
   "pygments_lexer": "ipython3",
   "version": "3.7.11"
  }
 },
 "nbformat": 4,
 "nbformat_minor": 5
}
